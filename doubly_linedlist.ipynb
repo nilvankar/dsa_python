{
 "cells": [
  {
   "cell_type": "code",
   "execution_count": 72,
   "id": "61d1a7ea-7501-4b8c-9b15-3528f05d5c76",
   "metadata": {},
   "outputs": [],
   "source": [
    "class Node:\n",
    "    def __init__(self,data):\n",
    "        self.data=data\n",
    "        self.next=None\n",
    "        "
   ]
  },
  {
   "cell_type": "code",
   "execution_count": 73,
   "id": "fa51c69a-29ca-4fe3-9ece-3df52652e098",
   "metadata": {},
   "outputs": [],
   "source": [
    "class Linkedlist:\n",
    "    def __init__(self):\n",
    "        self.head=None\n",
    "        self.n=0\n",
    "    def insert_head(self,value):\n",
    "        new=Node(value)\n",
    "        new.next=self.head\n",
    "        self.head=new\n",
    "        self.n+=1\n",
    "    def show(self):\n",
    "        result=''\n",
    "        while self.head!=None:\n",
    "            result=result+str(self.head.data)+'->'\n",
    "            self.head=self.head.next\n",
    "        return result[:-2]\n",
    "    def append(self,value):\n",
    "        new=Node(value)\n",
    "        curr=self.head\n",
    "        while curr.next!=None:\n",
    "            curr=curr.next\n",
    "        curr.next=new\n",
    "        "
   ]
  },
  {
   "cell_type": "code",
   "execution_count": 74,
   "id": "a1b68d4d-49dd-43d0-8da6-0fa7d5ef01e4",
   "metadata": {},
   "outputs": [],
   "source": [
    "ll=Linkedlist()"
   ]
  },
  {
   "cell_type": "code",
   "execution_count": 75,
   "id": "c5bfab93-9e8a-4108-9a89-6ada5fce8cdb",
   "metadata": {},
   "outputs": [],
   "source": [
    "ll.insert_head(34)\n",
    "ll.insert_head(42)\n",
    "ll.insert_head(25)\n",
    "ll.insert_head(66)"
   ]
  },
  {
   "cell_type": "code",
   "execution_count": 76,
   "id": "e4e9940c-bd00-423c-a8b7-e2c0481842da",
   "metadata": {},
   "outputs": [
    {
     "data": {
      "text/plain": [
       "'66->25->42->34'"
      ]
     },
     "execution_count": 76,
     "metadata": {},
     "output_type": "execute_result"
    }
   ],
   "source": [
    "ll.show()"
   ]
  },
  {
   "cell_type": "code",
   "execution_count": 71,
   "id": "67057f6d-dea5-4310-94f2-05d7f0ef4ae5",
   "metadata": {},
   "outputs": [
    {
     "ename": "AttributeError",
     "evalue": "'NoneType' object has no attribute 'next'",
     "output_type": "error",
     "traceback": [
      "\u001b[1;31m---------------------------------------------------------------------------\u001b[0m",
      "\u001b[1;31mAttributeError\u001b[0m                            Traceback (most recent call last)",
      "Cell \u001b[1;32mIn[71], line 1\u001b[0m\n\u001b[1;32m----> 1\u001b[0m ll\u001b[38;5;241m.\u001b[39mappend(\u001b[38;5;241m35\u001b[39m)\n",
      "Cell \u001b[1;32mIn[67], line 24\u001b[0m, in \u001b[0;36mLinkedlist.append\u001b[1;34m(self, value)\u001b[0m\n\u001b[0;32m     22\u001b[0m new\u001b[38;5;241m=\u001b[39mNode(value)\n\u001b[0;32m     23\u001b[0m curr\u001b[38;5;241m=\u001b[39m\u001b[38;5;28mself\u001b[39m\u001b[38;5;241m.\u001b[39mhead\n\u001b[1;32m---> 24\u001b[0m \u001b[38;5;28;01mwhile\u001b[39;00m curr\u001b[38;5;241m.\u001b[39mnext\u001b[38;5;241m!=\u001b[39m\u001b[38;5;28;01mNone\u001b[39;00m:\n\u001b[0;32m     25\u001b[0m     curr\u001b[38;5;241m=\u001b[39mcurr\u001b[38;5;241m.\u001b[39mnext\n\u001b[0;32m     26\u001b[0m curr\u001b[38;5;241m.\u001b[39mnext\u001b[38;5;241m=\u001b[39mnew\n",
      "\u001b[1;31mAttributeError\u001b[0m: 'NoneType' object has no attribute 'next'"
     ]
    }
   ],
   "source": [
    "ll.append(35)"
   ]
  },
  {
   "cell_type": "code",
   "execution_count": null,
   "id": "061f9254-cc6f-4010-884c-136382bf3974",
   "metadata": {},
   "outputs": [],
   "source": [
    "ll.insert_head(20)"
   ]
  }
 ],
 "metadata": {
  "kernelspec": {
   "display_name": "Python 3 (ipykernel)",
   "language": "python",
   "name": "python3"
  },
  "language_info": {
   "codemirror_mode": {
    "name": "ipython",
    "version": 3
   },
   "file_extension": ".py",
   "mimetype": "text/x-python",
   "name": "python",
   "nbconvert_exporter": "python",
   "pygments_lexer": "ipython3",
   "version": "3.11.7"
  }
 },
 "nbformat": 4,
 "nbformat_minor": 5
}
