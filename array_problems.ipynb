{
 "cells": [
  {
   "cell_type": "markdown",
   "id": "1ee7fddb-6c27-495e-a393-ef9a8e153769",
   "metadata": {},
   "source": [
    "## largest three numbers"
   ]
  },
  {
   "cell_type": "code",
   "execution_count": 27,
   "id": "2326f62f-3794-4e71-87cf-2adfe8322161",
   "metadata": {},
   "outputs": [],
   "source": [
    "def largestThree(L):\n",
    "    L=sorted(L,reverse=True)\n",
    "    first=second=third=float('-inf')\n",
    "    if len(L)<3:\n",
    "        return 'Not possible'\n",
    "    for i in range(len(L)):\n",
    "        if L[i]>first:\n",
    "            third=second\n",
    "            second=first\n",
    "            first=L[i]\n",
    "        elif L[i]>second and L[i]!=first:\n",
    "            third=second\n",
    "            second=L[i]\n",
    "        elif L[i]>third and L[i]!=second and L[i]!=first:\n",
    "            third =L[i]\n",
    "    return f'first three maximum elements{first,second,third}'"
   ]
  },
  {
   "cell_type": "code",
   "execution_count": 28,
   "id": "bc538ba3-bd39-4982-a646-8d31da97a2a1",
   "metadata": {},
   "outputs": [],
   "source": [
    "L=[23,43,5,7,12,15,9,4,32]\n",
    "L.sort(reverse=True)"
   ]
  },
  {
   "cell_type": "code",
   "execution_count": 29,
   "id": "bf1dcb68-0593-42b4-a357-daf6199c9026",
   "metadata": {},
   "outputs": [
    {
     "data": {
      "text/plain": [
       "'first three maximum elements(43, 32, 23)'"
      ]
     },
     "execution_count": 29,
     "metadata": {},
     "output_type": "execute_result"
    }
   ],
   "source": [
    "largestThree(L)"
   ]
  },
  {
   "cell_type": "markdown",
   "id": "7f594f73-f80d-44ac-87bf-79c4db3ef406",
   "metadata": {},
   "source": [
    "## second largest element\n",
    "* sort in descending order iterate from 1,len(L) if L[i]!=L[0] so at first iteration will get second largest element"
   ]
  },
  {
   "cell_type": "code",
   "execution_count": 131,
   "id": "e5f6d5e0-cdf0-4ad1-9be0-649f070f9bce",
   "metadata": {},
   "outputs": [],
   "source": [
    "def secondLargest(L):\n",
    "    L=sorted(L,reverse=True)\n",
    "    for i in range(1,len(L)):\n",
    "        if L[0]!=L[i]:\n",
    "            return L[i]\n",
    "    return 'Error'"
   ]
  },
  {
   "cell_type": "code",
   "execution_count": 132,
   "id": "45cf8fc1-fdde-4335-853b-9740b69908d2",
   "metadata": {},
   "outputs": [
    {
     "data": {
      "text/plain": [
       "51"
      ]
     },
     "execution_count": 132,
     "metadata": {},
     "output_type": "execute_result"
    }
   ],
   "source": [
    "x=[23,4,78,22,51,78,45]\n",
    "secondLargest(x)"
   ]
  },
  {
   "cell_type": "code",
   "execution_count": 34,
   "id": "a531a4a2-6a5d-4edf-9a98-6632d7879baa",
   "metadata": {},
   "outputs": [],
   "source": [
    "import random"
   ]
  },
  {
   "cell_type": "code",
   "execution_count": 45,
   "id": "458878cb-af05-4ef0-85f8-ea2ef1ce0b35",
   "metadata": {},
   "outputs": [],
   "source": [
    "E=[]\n",
    "for i in range(1,20):\n",
    "    E.append(random.randint(1,100))"
   ]
  },
  {
   "cell_type": "code",
   "execution_count": 46,
   "id": "1659e357-ce88-4744-aa72-8aba89ca997a",
   "metadata": {},
   "outputs": [],
   "source": [
    "random.shuffle(E)"
   ]
  },
  {
   "cell_type": "code",
   "execution_count": 47,
   "id": "efe43b71-d6ec-4d02-824f-16d21d88bd13",
   "metadata": {},
   "outputs": [
    {
     "data": {
      "text/plain": [
       "[69, 92, 25, 34, 35, 30, 16, 78, 91, 89, 36, 13, 31, 84, 45, 35, 85, 87, 76]"
      ]
     },
     "execution_count": 47,
     "metadata": {},
     "output_type": "execute_result"
    }
   ],
   "source": [
    "E"
   ]
  },
  {
   "cell_type": "code",
   "execution_count": 48,
   "id": "ff6655d6-dd8e-49c8-9bc9-df057b531b21",
   "metadata": {},
   "outputs": [
    {
     "data": {
      "text/plain": [
       "91"
      ]
     },
     "execution_count": 48,
     "metadata": {},
     "output_type": "execute_result"
    }
   ],
   "source": [
    "secondLargest(E)"
   ]
  },
  {
   "cell_type": "markdown",
   "id": "eb97467e-f849-4502-98a3-4e8ec6596a11",
   "metadata": {},
   "source": [
    "## Zeros to end of List\n",
    "* iterate till len(L) take a counter when ever any non zero L[i]!=0 then element found [counter]=[i] and increment counter+=1\n",
    "* at last while counter<len(L):\n",
    "* [count]=0\n",
    "* count+=1"
   ]
  },
  {
   "cell_type": "code",
   "execution_count": 55,
   "id": "ba40dbdf-4ee6-4d8b-8f3a-d4e9d9e44900",
   "metadata": {},
   "outputs": [],
   "source": [
    "def shiftZeros(L):\n",
    "    j=0\n",
    "    for i in range(len(L)):\n",
    "        if L[i]!=0:\n",
    "            L[j]=L[i]\n",
    "            j+=1\n",
    "    while j<len(L):\n",
    "        L[j]=0\n",
    "        j+=1\n",
    "    "
   ]
  },
  {
   "cell_type": "code",
   "execution_count": 56,
   "id": "6983f905-eef3-4742-a2b2-a86f5e989d78",
   "metadata": {},
   "outputs": [],
   "source": [
    "zero=[69, 0, 25, 34, 35, 0, 0, 0, 91, 89, 36, 13, 31, 0, 45, 0, 85, 87, 76]\n",
    "shiftZeros(zero)"
   ]
  },
  {
   "cell_type": "code",
   "execution_count": 57,
   "id": "66480dd7-531d-42ae-b00b-8781ae3e1780",
   "metadata": {},
   "outputs": [
    {
     "data": {
      "text/plain": [
       "[69, 25, 34, 35, 91, 89, 36, 13, 31, 45, 85, 87, 76, 0, 0, 0, 0, 0, 0]"
      ]
     },
     "execution_count": 57,
     "metadata": {},
     "output_type": "execute_result"
    }
   ],
   "source": [
    "zero"
   ]
  },
  {
   "cell_type": "markdown",
   "id": "b4ac5ea2-9ef1-44d1-b854-55d8ea81c5ac",
   "metadata": {},
   "source": [
    "## Segregate even and odd num from list\n",
    "* first take two empty even and odd array\n",
    "* iterate till len(L) check if [i]%2==0: even.append([i])\n",
    "* else odd.append[i]\n",
    "* at last even.extend(odd)\n",
    "* return even "
   ]
  },
  {
   "cell_type": "code",
   "execution_count": 58,
   "id": "2fe8f0e2-7ed5-43bc-b4e3-2974cafc2ae0",
   "metadata": {},
   "outputs": [],
   "source": [
    "def Segregate(L):\n",
    "    even=[]\n",
    "    odd=[]\n",
    "    for i in range(len(L)):\n",
    "        if L[i]%2==0:\n",
    "            even.append(L[i]) \n",
    "        else:\n",
    "            odd.append(L[i]) \n",
    "    even.extend(odd)\n",
    "    return even"
   ]
  },
  {
   "cell_type": "code",
   "execution_count": 62,
   "id": "8ec4e5d6-a7dd-47a6-8ef3-365a0d836196",
   "metadata": {},
   "outputs": [
    {
     "name": "stdout",
     "output_type": "stream",
     "text": [
      "[69, 25, 34, 35, 91, 89, 36, 13, 31, 45, 85, 87, 76]\n"
     ]
    }
   ],
   "source": [
    "a=[69, 25, 34, 35, 91, 89, 36, 13, 31, 45, 85, 87, 76]\n",
    "print(a)\n",
    "# Segregate(a)"
   ]
  },
  {
   "cell_type": "markdown",
   "id": "d6a51f1f-86e6-4fa2-aaca-0ee5cdf6e842",
   "metadata": {},
   "source": [
    "## inplace approch: The Lomuto Partition Scheme"
   ]
  },
  {
   "cell_type": "code",
   "execution_count": 73,
   "id": "1f3a9eba-d5cb-4aa2-a63d-c392e576e860",
   "metadata": {},
   "outputs": [],
   "source": [
    "def segregate(L):\n",
    "    i=-1\n",
    "    j=0 \n",
    "    while j!=len(L):\n",
    "        if L[j]%2==0:  #check if current element is even\n",
    "            i=i+1  #increment i so first index\n",
    "            L[i],L[j],L[j],L[i] #swap first index with current even\n",
    "        j=j+1 #else odd increment j\n",
    "    for i in L:\n",
    "        print(i)"
   ]
  },
  {
   "cell_type": "code",
   "execution_count": 74,
   "id": "8bf81666-ede1-4390-b30d-86b207e626c9",
   "metadata": {},
   "outputs": [
    {
     "name": "stdout",
     "output_type": "stream",
     "text": [
      "69\n",
      "25\n",
      "34\n",
      "35\n",
      "91\n",
      "89\n",
      "36\n",
      "13\n",
      "31\n",
      "45\n",
      "85\n",
      "87\n",
      "76\n"
     ]
    }
   ],
   "source": [
    "segregate(a)"
   ]
  },
  {
   "cell_type": "code",
   "execution_count": 77,
   "id": "bc2fc1a3-bc6b-4bf5-b320-67a9d5777e93",
   "metadata": {},
   "outputs": [
    {
     "data": {
      "text/plain": [
       "[13, 25, 31, 34, 35, 36, 45, 69, 76, 85, 87, 89, 91]"
      ]
     },
     "execution_count": 77,
     "metadata": {},
     "output_type": "execute_result"
    }
   ],
   "source": [
    "a.sort()\n",
    "a"
   ]
  },
  {
   "cell_type": "markdown",
   "id": "56b922ac-7e9f-42e9-8959-7580c5d97111",
   "metadata": {},
   "source": [
    "## Rearrange an array in maximum minimum form\n",
    "* for example max,min,max-1,min-1....\n",
    "#### Algorithm\n",
    "* take two pointer one from smallest and second from largest and move pointers each other alterantively copy elements\n",
    "[91, 13, 89, 25, 87, 31, 85, 34, 76, 35, 69, 36, 45]\n",
    "i=0\n",
    "j=n-1 where n=len(L)\n",
    "flag=True\n",
    "iterate till last if flage==True temp[i]=L[max] max-=1 else [i]=L[min] ,min+=1 at last return array"
   ]
  },
  {
   "cell_type": "code",
   "execution_count": 80,
   "id": "8c8491b4-2ad1-48e2-8bae-a6caf2a86936",
   "metadata": {},
   "outputs": [],
   "source": [
    "def reArrange(L):\n",
    "    temp=len(L)*[None]  #storing temporarily in temp array\n",
    "    small=0\n",
    "    large=len(L)-1\n",
    "    flag=True\n",
    "    #initalize small=0 index large=last index flag=true to show start iteration\n",
    "    for i in range(len(L)):\n",
    "        if flag is True: #if small=0 and large=n-1\n",
    "            temp[i]=L[large] #first maimum and also decrement \n",
    "            large-=1\n",
    "        else:\n",
    "            temp[i]=L[small] #first minimum and next second min\n",
    "            small+=1\n",
    "        flag=bool(1-flag)\n",
    "# copying content of temp to L\n",
    "    for i in range(len(temp)):\n",
    "        L[i]=temp[i]\n",
    "    return L"
   ]
  },
  {
   "cell_type": "code",
   "execution_count": 81,
   "id": "4700d529-c9fc-45bc-9a4e-7e4cce8ed4f8",
   "metadata": {},
   "outputs": [
    {
     "name": "stdout",
     "output_type": "stream",
     "text": [
      "[13, 25, 31, 34, 35, 36, 45, 69, 76, 85, 87, 89, 91]\n"
     ]
    }
   ],
   "source": [
    "temp=[13, 25, 31, 34, 35, 36, 45, 69, 76, 85, 87, 89, 91]\n",
    "print(temp)"
   ]
  },
  {
   "cell_type": "code",
   "execution_count": 82,
   "id": "f8871478-fefb-477a-9c10-0e8717448e16",
   "metadata": {},
   "outputs": [
    {
     "data": {
      "text/plain": [
       "[91, 13, 89, 25, 87, 31, 85, 34, 76, 35, 69, 36, 45]"
      ]
     },
     "execution_count": 82,
     "metadata": {},
     "output_type": "execute_result"
    }
   ],
   "source": [
    "reArrange(temp)"
   ]
  },
  {
   "cell_type": "markdown",
   "id": "baeea397-90aa-484e-a34d-2c18518a262d",
   "metadata": {},
   "source": [
    "## Array Rotation\n",
    "* If an index passed as an argument then from that position array get traverse from 0 to index-1 get append at last."
   ]
  },
  {
   "cell_type": "code",
   "execution_count": 93,
   "id": "44bdde82-c24b-42f9-93e7-44b3070403e9",
   "metadata": {},
   "outputs": [],
   "source": [
    "def rotation(L,index):\n",
    "    temp=[]\n",
    "    for i in range(index,len(L)):\n",
    "        print(L[i])\n",
    "   "
   ]
  },
  {
   "cell_type": "code",
   "execution_count": 94,
   "id": "68898c60-466c-47d2-ac58-9bad8add36e1",
   "metadata": {},
   "outputs": [
    {
     "name": "stdout",
     "output_type": "stream",
     "text": [
      "89\n",
      "25\n",
      "87\n",
      "31\n",
      "85\n",
      "34\n",
      "76\n",
      "35\n",
      "69\n",
      "36\n",
      "45\n"
     ]
    }
   ],
   "source": [
    "rotation(temp,2)"
   ]
  },
  {
   "cell_type": "markdown",
   "id": "bba24952-12ce-46a3-bb3a-57a0e216eb5b",
   "metadata": {},
   "source": [
    "## Wave Array\n",
    "99>88<92>77<79>60<82>40<50>32\n",
    "A pattern like <><><><>\n",
    "### algorithm\n",
    "* sort array\n",
    "* iterate till 0to len(L) and increment index+2 and swap [i],[i+1]"
   ]
  },
  {
   "cell_type": "code",
   "execution_count": 118,
   "id": "f8b55e84-7321-4cd0-918c-ca54da2cddbd",
   "metadata": {},
   "outputs": [],
   "source": [
    "def sort(L):\n",
    "    for i in range(len(L)):\n",
    "        for j in range(len(L)-i-1):\n",
    "            if L[j]>L[j+1]:\n",
    "                 L[j],L[j+1]=L[j+1],L[j]"
   ]
  },
  {
   "cell_type": "code",
   "execution_count": 125,
   "id": "1117c9e2-5496-49d6-89ae-f5daa1dff72b",
   "metadata": {},
   "outputs": [],
   "source": [
    "def waveArray(L,n):\n",
    "    sort(L)\n",
    "    for i in range(0,n-1,2):\n",
    "        L[i],L[i+1]=L[i+1],L[i]\n",
    "    for i in range(len(L)):\n",
    "        print(L[i])"
   ]
  },
  {
   "cell_type": "code",
   "execution_count": 126,
   "id": "90f13665-c838-435e-a827-fd591e061e3f",
   "metadata": {},
   "outputs": [],
   "source": [
    "abc=[]\n",
    "for i in range(1,20):\n",
    "    abc.append(random.randint(1,1000))"
   ]
  },
  {
   "cell_type": "code",
   "execution_count": 130,
   "id": "d17223d1-0e96-42ae-8e67-21d0d56998f8",
   "metadata": {},
   "outputs": [
    {
     "name": "stdout",
     "output_type": "stream",
     "text": [
      "[981, 286, 304, 718, 303, 466, 231, 518, 420, 85, 830, 306, 743, 265, 771, 480, 524, 794, 676]\n",
      "231\n",
      "85\n",
      "286\n",
      "265\n",
      "304\n",
      "303\n",
      "420\n",
      "306\n",
      "480\n",
      "466\n",
      "524\n",
      "518\n",
      "718\n",
      "676\n",
      "771\n",
      "743\n",
      "830\n",
      "794\n",
      "981\n"
     ]
    }
   ],
   "source": [
    "n=len(abc)\n",
    "print(abc)\n",
    "waveArray(abc,n)"
   ]
  },
  {
   "cell_type": "markdown",
   "id": "9202116e-79c1-4f63-b3c5-b3b3d37266a4",
   "metadata": {},
   "source": [
    "## Array sorting in time complexity of log n(logn)\n",
    "* either using built in sort method\n",
    "* cyclic sort\n"
   ]
  },
  {
   "cell_type": "code",
   "execution_count": null,
   "id": "f54f952d-869f-49d1-af75-5f447e534a40",
   "metadata": {},
   "outputs": [],
   "source": []
  },
  {
   "cell_type": "code",
   "execution_count": 173,
   "id": "d4cff743-5e75-478c-b091-c70b722a3e2c",
   "metadata": {},
   "outputs": [],
   "source": [
    "def cyclic_sort(L):\n",
    "    i=0\n",
    "    while i<len(L):\n",
    "        corr=L[i]-1\n",
    "        if i!=corr:\n",
    "            L[i],L[corr]=L[corr],L[i]\n",
    "        i+=1\n",
    "    for i in range(len(L)):\n",
    "        print(L[i])"
   ]
  },
  {
   "cell_type": "code",
   "execution_count": 174,
   "id": "0756e276-ff5c-4a3a-91d8-f9ab9bbba67b",
   "metadata": {},
   "outputs": [
    {
     "name": "stdout",
     "output_type": "stream",
     "text": [
      "[981, 286, 304, 718, 303, 466, 231, 518, 420, 85, 830, 306, 743, 265, 771, 480, 524, 794, 676]\n"
     ]
    },
    {
     "ename": "IndexError",
     "evalue": "list index out of range",
     "output_type": "error",
     "traceback": [
      "\u001b[1;31m---------------------------------------------------------------------------\u001b[0m",
      "\u001b[1;31mIndexError\u001b[0m                                Traceback (most recent call last)",
      "Cell \u001b[1;32mIn[174], line 3\u001b[0m\n\u001b[0;32m      1\u001b[0m A\u001b[38;5;241m=\u001b[39m[\u001b[38;5;241m981\u001b[39m, \u001b[38;5;241m286\u001b[39m, \u001b[38;5;241m304\u001b[39m, \u001b[38;5;241m718\u001b[39m, \u001b[38;5;241m303\u001b[39m, \u001b[38;5;241m466\u001b[39m, \u001b[38;5;241m231\u001b[39m, \u001b[38;5;241m518\u001b[39m, \u001b[38;5;241m420\u001b[39m, \u001b[38;5;241m85\u001b[39m, \u001b[38;5;241m830\u001b[39m, \u001b[38;5;241m306\u001b[39m, \u001b[38;5;241m743\u001b[39m, \u001b[38;5;241m265\u001b[39m, \u001b[38;5;241m771\u001b[39m, \u001b[38;5;241m480\u001b[39m, \u001b[38;5;241m524\u001b[39m, \u001b[38;5;241m794\u001b[39m, \u001b[38;5;241m676\u001b[39m]\n\u001b[0;32m      2\u001b[0m \u001b[38;5;28mprint\u001b[39m(A)\n\u001b[1;32m----> 3\u001b[0m cyclic_sort(A)\n",
      "Cell \u001b[1;32mIn[173], line 6\u001b[0m, in \u001b[0;36mcyclic_sort\u001b[1;34m(L)\u001b[0m\n\u001b[0;32m      4\u001b[0m     corr\u001b[38;5;241m=\u001b[39mL[i]\u001b[38;5;241m-\u001b[39m\u001b[38;5;241m1\u001b[39m\n\u001b[0;32m      5\u001b[0m     \u001b[38;5;28;01mif\u001b[39;00m i\u001b[38;5;241m!=\u001b[39mcorr:\n\u001b[1;32m----> 6\u001b[0m         L[i],L[corr]\u001b[38;5;241m=\u001b[39mL[corr],L[i]\n\u001b[0;32m      7\u001b[0m     i\u001b[38;5;241m+\u001b[39m\u001b[38;5;241m=\u001b[39m\u001b[38;5;241m1\u001b[39m\n\u001b[0;32m      8\u001b[0m \u001b[38;5;28;01mfor\u001b[39;00m i \u001b[38;5;129;01min\u001b[39;00m \u001b[38;5;28mrange\u001b[39m(\u001b[38;5;28mlen\u001b[39m(L)):\n",
      "\u001b[1;31mIndexError\u001b[0m: list index out of range"
     ]
    }
   ],
   "source": [
    "A=[981, 286, 304, 718, 303, 466, 231, 518, 420, 85, 830, 306, 743, 265, 771, 480, 524, 794, 676]\n",
    "print(A)\n",
    "cyclic_sort(A)"
   ]
  },
  {
   "cell_type": "markdown",
   "id": "9028e3e2-e675-4b16-ba29-d91eaf7c9196",
   "metadata": {},
   "source": [
    "# Possible triangle\n",
    "* An list any three values and the sum of two value must be third value to make a triangle three sides\n",
    "* time complexity O(n)^3\n",
    "* space is constant"
   ]
  },
  {
   "cell_type": "code",
   "execution_count": 175,
   "id": "e97444d7-35b9-47e1-9617-7cedd9677b7a",
   "metadata": {},
   "outputs": [],
   "source": [
    "def triangle(L):\n",
    "    count=0\n",
    "    for i in range(len(L)):\n",
    "        for j in range(i+1,len(L)):\n",
    "            for k in range(j+1,len(L)):\n",
    "                if L[i]+L[j]==L[k] and L[j]+L[k]==L[i] and L[i]+L[k]==L[j]:\n",
    "                    count+=1\n",
    "    return count"
   ]
  },
  {
   "cell_type": "code",
   "execution_count": 184,
   "id": "1fcd8359-a6a0-46fc-8bb4-d2404daecde5",
   "metadata": {},
   "outputs": [],
   "source": [
    "X=[0,0,0]"
   ]
  },
  {
   "cell_type": "code",
   "execution_count": 185,
   "id": "376489e7-9b13-41f9-aefe-77944934166f",
   "metadata": {},
   "outputs": [
    {
     "data": {
      "text/plain": [
       "1"
      ]
     },
     "execution_count": 185,
     "metadata": {},
     "output_type": "execute_result"
    }
   ],
   "source": [
    "triangle(X)"
   ]
  },
  {
   "cell_type": "markdown",
   "id": "6312e398-c594-4efb-9a4d-6eb4ba24db5d",
   "metadata": {},
   "source": [
    "## only print distinct element cannot be duplicate \n",
    "time complexity O(nlogn)"
   ]
  },
  {
   "cell_type": "code",
   "execution_count": 192,
   "id": "2195d7ed-42ff-4fcf-bcf6-35cd389526bc",
   "metadata": {},
   "outputs": [],
   "source": [
    "def duplicates(L):\n",
    "    d=0\n",
    "    for i in range(len(L)):\n",
    "        for j in range(0,i):\n",
    "            if L[i]==L[j]:\n",
    "                d=1\n",
    "                break\n",
    "        if d==0:\n",
    "            print(L[i])"
   ]
  },
  {
   "cell_type": "code",
   "execution_count": 199,
   "id": "8da7bd32-2201-4dfd-890c-f7ff1ff77ae6",
   "metadata": {},
   "outputs": [
    {
     "name": "stdout",
     "output_type": "stream",
     "text": [
      "10\n",
      "20\n",
      "30\n"
     ]
    }
   ],
   "source": [
    "X=[10,20,30,30]\n",
    "duplicates(X)"
   ]
  },
  {
   "cell_type": "markdown",
   "id": "344b39f9-12f4-4a47-9317-60517a3a7f8d",
   "metadata": {},
   "source": [
    "## Using Sets \n",
    "* time complexity O(nlogn)"
   ]
  },
  {
   "cell_type": "code",
   "execution_count": 200,
   "id": "8ebf62b9-a882-45c6-8fd1-56e181c3e2f0",
   "metadata": {},
   "outputs": [],
   "source": [
    "from sortedcontainers import SortedDict,SortedList,SortedSet\n"
   ]
  },
  {
   "cell_type": "code",
   "execution_count": 201,
   "id": "5b30ddbe-7387-426d-ac5a-e2c61f5e242d",
   "metadata": {},
   "outputs": [],
   "source": [
    "def duplicate_values(L):\n",
    "    s=SortedSet()\n",
    "    for i in range(0,len(L)):\n",
    "        s.add(L[i])\n",
    "    for i in s:\n",
    "        print(i)"
   ]
  },
  {
   "cell_type": "code",
   "execution_count": 202,
   "id": "c81e1e10-29da-4b7f-85a7-ea4a3a84219e",
   "metadata": {},
   "outputs": [
    {
     "name": "stdout",
     "output_type": "stream",
     "text": [
      "10\n",
      "20\n",
      "30\n"
     ]
    }
   ],
   "source": [
    "duplicate_values(X)"
   ]
  },
  {
   "cell_type": "code",
   "execution_count": 203,
   "id": "f11b9f12-f063-48d3-aca2-604fefe2a0eb",
   "metadata": {},
   "outputs": [
    {
     "data": {
      "text/plain": [
       "[10, 20, 30, 30]"
      ]
     },
     "execution_count": 203,
     "metadata": {},
     "output_type": "execute_result"
    }
   ],
   "source": [
    "X"
   ]
  },
  {
   "cell_type": "code",
   "execution_count": null,
   "id": "21042b44-afce-4ad6-92bb-ef887190dae9",
   "metadata": {},
   "outputs": [],
   "source": []
  }
 ],
 "metadata": {
  "kernelspec": {
   "display_name": "Python 3 (ipykernel)",
   "language": "python",
   "name": "python3"
  },
  "language_info": {
   "codemirror_mode": {
    "name": "ipython",
    "version": 3
   },
   "file_extension": ".py",
   "mimetype": "text/x-python",
   "name": "python",
   "nbconvert_exporter": "python",
   "pygments_lexer": "ipython3",
   "version": "3.11.7"
  }
 },
 "nbformat": 4,
 "nbformat_minor": 5
}
