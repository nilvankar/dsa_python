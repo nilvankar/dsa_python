{
 "cells": [
  {
   "cell_type": "markdown",
   "id": "bba40a51-0f79-4697-aebc-3ce8e0eb7017",
   "metadata": {},
   "source": [
    "# Sorting\n",
    "* It refers to rearrangement of element in given array eigther in ascending or descending order.\n",
    "## terminology\n",
    "### In place sorting\n",
    "* modfiying order of element in existing array without occuping new space\n",
    "### internal sorting\n",
    "* At a time all data placed in main memory\n",
    "* for exmaple bubble sort ,quick sort,insertion,selection,heap sort\n",
    "### external sorting\n",
    "* At a time data cannot placed in memory\n",
    "* for exmaple merge sort\n",
    "### stable sorting\n",
    "* if two similar values appear in an array and after the sorting their position not get change that means that sorting algorithm is stable\n",
    "* merge,insertion,bubble\n",
    "### unstable\n",
    "* if two similar values appear in an array and after the sorting their position will  get change that means that sorting algorithm is unstable\n",
    "* heap sort,quick sort,shell sort\n",
    "### adaptive\n",
    "* An algorithm is said to be adaptive if it can predict that the given array is already sorted based on that its complexity gets reflected."
   ]
  },
  {
   "cell_type": "markdown",
   "id": "29ed9919-98a1-4822-b3cf-0d9a4afb3777",
   "metadata": {},
   "source": [
    "## Selection sort\n",
    "* It is based on selection of the most smallest or largest value in entire array and based on that other elementsget placed.\n",
    "* After each pass the smallest value gets positioned on left side\n",
    "* worst case time complexity O(n)^2\n",
    "* space complexity O(1)"
   ]
  },
  {
   "cell_type": "code",
   "execution_count": 29,
   "id": "5eb72578-4792-4fea-994a-a4d1b4d04780",
   "metadata": {},
   "outputs": [],
   "source": [
    "import random\n",
    "A=[]"
   ]
  },
  {
   "cell_type": "markdown",
   "id": "461abc81-9d69-4c51-af96-0d44ab31036b",
   "metadata": {},
   "source": [
    "Shortcuts to remember\n",
    "* bubble sort ->outer loop iterate till entire and inner i-1 compare j>j+1 means current>next so swap\n",
    "* selection sort->outer loop iterate till entire take min=i and inner i+1 till entire if arr[min]>arr[j] any element that is less than min so min=j\n",
    "*at outside of innner loop swap [i] with min\n",
    "* insertion sort->outter loop entire take key=[i] \n",
    "* j=i-1 next element inner loop till j>=0 and key<L[j] become false till then [j+1]=j[j] ,j-=1,[j+1]=key"
   ]
  },
  {
   "cell_type": "code",
   "execution_count": 30,
   "id": "71cf70fa-d91f-4baf-9f4b-17c49adf7fa1",
   "metadata": {},
   "outputs": [],
   "source": [
    "for i in range(1,10):\n",
    "    A.append(random.randint(1,10))"
   ]
  },
  {
   "cell_type": "code",
   "execution_count": 31,
   "id": "9c125528-88f7-4fed-a1ff-3f3419a94c83",
   "metadata": {},
   "outputs": [],
   "source": [
    "def selection_sort(L):\n",
    "   for i in range(len(L)):\n",
    "       min=i\n",
    "       for j in range(i+1,len(L)):\n",
    "           if L[min]>L[j]:\n",
    "               min=j #reassign minimum to [j] th elemenet\n",
    "       L[i],L[min]=L[min],L[i]"
   ]
  },
  {
   "cell_type": "code",
   "execution_count": 32,
   "id": "bcca9ae3-0962-4539-84d7-b47a54bb0566",
   "metadata": {},
   "outputs": [
    {
     "name": "stdout",
     "output_type": "stream",
     "text": [
      "[6, 4, 9, 8, 4, 2, 4, 1, 2]\n",
      "after sorting [1, 2, 2, 4, 4, 4, 6, 8, 9]\n"
     ]
    }
   ],
   "source": [
    "print(A)\n",
    "selection_sort(A)\n",
    "print('after sorting',A)"
   ]
  },
  {
   "cell_type": "markdown",
   "id": "1120183e-d505-4e52-b818-d1580dae4f67",
   "metadata": {},
   "source": [
    "## bubble sort\n",
    "* Not good for large dataset\n",
    "* start from left as i and check inner iteration start from i+1 if j>j+1 then swap at last if swap==False then break iteration\n",
    "* stable algorithm\n",
    "* Not adaptive in general but can be make adaptive using a flag first set False inside if any pass happes set to True at last check if no pass then check flag==False so break "
   ]
  },
  {
   "cell_type": "code",
   "execution_count": 3,
   "id": "4de138d5-9712-423c-98e9-f20835a54cb8",
   "metadata": {},
   "outputs": [],
   "source": [
    "def bubble_sort(L):\n",
    "    for i in range(len(L)):\n",
    "        for j in range(len(L)-i-1):\n",
    "            if L[j]>L[j+1]:\n",
    "                L[j],L[j+1]=L[j+1],L[j]\n",
    "                "
   ]
  },
  {
   "cell_type": "code",
   "execution_count": 4,
   "id": "b1bbc581-3ed2-4472-8448-9ab2daa85cfa",
   "metadata": {},
   "outputs": [
    {
     "name": "stdout",
     "output_type": "stream",
     "text": [
      "[26, 27, 27, 28, 31, 41, 44, 53, 60, 64, 64, 66, 99]\n"
     ]
    }
   ],
   "source": [
    "X=[64, 27, 99, 44, 27, 66, 26, 64, 41, 31, 28, 60, 53]\n",
    "bubble_sort(X)\n",
    "print(X)"
   ]
  },
  {
   "cell_type": "markdown",
   "id": "0b0a5b1c-3edc-4e5e-94cc-bf8a430a2408",
   "metadata": {},
   "source": [
    "# Insertion sort\n",
    "* Stable algorithm in place sorting and simple to implement.\n",
    "* "
   ]
  },
  {
   "cell_type": "code",
   "execution_count": 48,
   "id": "ba28b04a-89b8-4ba4-a733-c36a50a7d9cf",
   "metadata": {},
   "outputs": [],
   "source": [
    "def insertion_sort(L):\n",
    "    for i in range(len(L)):\n",
    "        key=L[i]\n",
    "        j=i-1\n",
    "        while j>=0 and key<L[j]:\n",
    "            L[j+1]=L[j]\n",
    "            j-=1\n",
    "            L[j+1]=key"
   ]
  },
  {
   "cell_type": "code",
   "execution_count": 47,
   "id": "48970475-3a75-49b6-8680-9d799a383825",
   "metadata": {},
   "outputs": [
    {
     "name": "stdout",
     "output_type": "stream",
     "text": [
      "[12, 23, 45, 78, 99]\n"
     ]
    }
   ],
   "source": [
    "X=[99,78,23,45,12]\n",
    "insertion_sort(X)\n",
    "print(X)"
   ]
  },
  {
   "cell_type": "markdown",
   "id": "889a1463-d5ff-4db8-87ca-ab397f23c28c",
   "metadata": {},
   "source": [
    "## Merge sort\n",
    "* It is based on divide and conquer\n",
    "* first a large array gets divide in two evenlly parts and this two also gets further divide at las each individual elment gets merged and comparison happen and send back where a function merge both the array\n",
    "* for example [64, 27, 99, 44, 39, 66, 26, 69, 41, 31, 28, 60]\n",
    "* divide into two equal array each gets 12//2 [64,27,99,44,39] and second is [66,26,69,41,31,28,60]\n",
    "* also  array one divide into [64,27,99] and [44,39]\n",
    "* array two gets divide into [66,26,69,41] and [31,28,60]\n",
    "* at last only one element in multiple arrays and then we will compare two and sort them and send back at last one final array gets send back"
   ]
  },
  {
   "cell_type": "code",
   "execution_count": 10,
   "id": "925e8f69-9980-4bfc-b6e6-78cea62fdcad",
   "metadata": {},
   "outputs": [],
   "source": [
    "def merge_array(left,right):\n",
    "    i=0\n",
    "    j=0\n",
    "    merged=[]\n",
    "    while i<len(left) and j<len(right):\n",
    "        if left[i]<right[j]:\n",
    "            merged.append(left[i])\n",
    "            i+=1\n",
    "        else:\n",
    "            merged.append(right[j])\n",
    "            j+=1\n",
    "    while i<len(left):\n",
    "        merged.append(left[i])\n",
    "        i+=1\n",
    "    while j<len(right):\n",
    "        merged.append(right[j])\n",
    "        j+=1"
   ]
  },
  {
   "cell_type": "code",
   "execution_count": 11,
   "id": "6db1033d-e53f-4a83-8e44-ca8c637c4363",
   "metadata": {},
   "outputs": [],
   "source": [
    "A=[64, 27, 99, 44, 39, 66]\n",
    "B=[26, 69, 41, 31, 28, 60]\n",
    "merge_array(A,B)"
   ]
  },
  {
   "cell_type": "code",
   "execution_count": 15,
   "id": "b056ef01-df4c-487b-a939-c3dd53c35e81",
   "metadata": {},
   "outputs": [],
   "source": [
    "def merge_sort(L):\n",
    "    if len(L)<=1:\n",
    "        return L\n",
    "    mid=len(L)//2\n",
    "    left=merge_sort(L[:mid])\n",
    "    right=merge_sort(L[mid:])\n",
    "    return merge_array(left,right)"
   ]
  },
  {
   "cell_type": "code",
   "execution_count": 16,
   "id": "266b3110-8a3c-4503-a50c-1f3cdf1ddb35",
   "metadata": {},
   "outputs": [
    {
     "name": "stdout",
     "output_type": "stream",
     "text": [
      "[64, 27, 99, 44, 39, 66, 26, 69, 41, 31, 28, 60]\n"
     ]
    }
   ],
   "source": [
    "Y=[64, 27, 99, 44, 39, 66, 26, 69, 41, 31, 28, 60]\n",
    "print(Y)"
   ]
  },
  {
   "cell_type": "code",
   "execution_count": 17,
   "id": "c0d43642-081f-4a7c-985d-4dc953ac3185",
   "metadata": {},
   "outputs": [
    {
     "ename": "TypeError",
     "evalue": "object of type 'NoneType' has no len()",
     "output_type": "error",
     "traceback": [
      "\u001b[1;31m---------------------------------------------------------------------------\u001b[0m",
      "\u001b[1;31mTypeError\u001b[0m                                 Traceback (most recent call last)",
      "Cell \u001b[1;32mIn[17], line 1\u001b[0m\n\u001b[1;32m----> 1\u001b[0m merge_sort(Y)\n\u001b[0;32m      2\u001b[0m \u001b[38;5;28mprint\u001b[39m(Y)\n",
      "Cell \u001b[1;32mIn[15], line 5\u001b[0m, in \u001b[0;36mmerge_sort\u001b[1;34m(L)\u001b[0m\n\u001b[0;32m      3\u001b[0m     \u001b[38;5;28;01mreturn\u001b[39;00m L\n\u001b[0;32m      4\u001b[0m mid\u001b[38;5;241m=\u001b[39m\u001b[38;5;28mlen\u001b[39m(L)\u001b[38;5;241m/\u001b[39m\u001b[38;5;241m/\u001b[39m\u001b[38;5;241m2\u001b[39m\n\u001b[1;32m----> 5\u001b[0m left\u001b[38;5;241m=\u001b[39mmerge_sort(L[:mid])\n\u001b[0;32m      6\u001b[0m right\u001b[38;5;241m=\u001b[39mmerge_sort(L[mid:])\n\u001b[0;32m      7\u001b[0m \u001b[38;5;28;01mreturn\u001b[39;00m merge_array(left,right)\n",
      "Cell \u001b[1;32mIn[15], line 5\u001b[0m, in \u001b[0;36mmerge_sort\u001b[1;34m(L)\u001b[0m\n\u001b[0;32m      3\u001b[0m     \u001b[38;5;28;01mreturn\u001b[39;00m L\n\u001b[0;32m      4\u001b[0m mid\u001b[38;5;241m=\u001b[39m\u001b[38;5;28mlen\u001b[39m(L)\u001b[38;5;241m/\u001b[39m\u001b[38;5;241m/\u001b[39m\u001b[38;5;241m2\u001b[39m\n\u001b[1;32m----> 5\u001b[0m left\u001b[38;5;241m=\u001b[39mmerge_sort(L[:mid])\n\u001b[0;32m      6\u001b[0m right\u001b[38;5;241m=\u001b[39mmerge_sort(L[mid:])\n\u001b[0;32m      7\u001b[0m \u001b[38;5;28;01mreturn\u001b[39;00m merge_array(left,right)\n",
      "Cell \u001b[1;32mIn[15], line 7\u001b[0m, in \u001b[0;36mmerge_sort\u001b[1;34m(L)\u001b[0m\n\u001b[0;32m      5\u001b[0m left\u001b[38;5;241m=\u001b[39mmerge_sort(L[:mid])\n\u001b[0;32m      6\u001b[0m right\u001b[38;5;241m=\u001b[39mmerge_sort(L[mid:])\n\u001b[1;32m----> 7\u001b[0m \u001b[38;5;28;01mreturn\u001b[39;00m merge_array(left,right)\n",
      "Cell \u001b[1;32mIn[10], line 5\u001b[0m, in \u001b[0;36mmerge_array\u001b[1;34m(left, right)\u001b[0m\n\u001b[0;32m      3\u001b[0m j\u001b[38;5;241m=\u001b[39m\u001b[38;5;241m0\u001b[39m\n\u001b[0;32m      4\u001b[0m merged\u001b[38;5;241m=\u001b[39m[]\n\u001b[1;32m----> 5\u001b[0m \u001b[38;5;28;01mwhile\u001b[39;00m i\u001b[38;5;241m<\u001b[39m\u001b[38;5;28mlen\u001b[39m(left) \u001b[38;5;129;01mand\u001b[39;00m j\u001b[38;5;241m<\u001b[39m\u001b[38;5;28mlen\u001b[39m(right):\n\u001b[0;32m      6\u001b[0m     \u001b[38;5;28;01mif\u001b[39;00m left[i]\u001b[38;5;241m<\u001b[39mright[j]:\n\u001b[0;32m      7\u001b[0m         merged\u001b[38;5;241m.\u001b[39mappend(left[i])\n",
      "\u001b[1;31mTypeError\u001b[0m: object of type 'NoneType' has no len()"
     ]
    }
   ],
   "source": [
    "merge_sort(Y)\n",
    "print(Y)"
   ]
  },
  {
   "cell_type": "code",
   "execution_count": null,
   "id": "04b775fb-7b4f-4cad-88e6-6e57f8d0a996",
   "metadata": {},
   "outputs": [],
   "source": []
  }
 ],
 "metadata": {
  "kernelspec": {
   "display_name": "Python 3 (ipykernel)",
   "language": "python",
   "name": "python3"
  },
  "language_info": {
   "codemirror_mode": {
    "name": "ipython",
    "version": 3
   },
   "file_extension": ".py",
   "mimetype": "text/x-python",
   "name": "python",
   "nbconvert_exporter": "python",
   "pygments_lexer": "ipython3",
   "version": "3.11.7"
  }
 },
 "nbformat": 4,
 "nbformat_minor": 5
}
