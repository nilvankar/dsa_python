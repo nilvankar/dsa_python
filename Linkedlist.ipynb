{
 "cells": [
  {
   "cell_type": "markdown",
   "id": "f51bdb42-d9b7-4ef3-9450-7cddf212eaae",
   "metadata": {},
   "source": [
    "# Linkedlist\n",
    "* A type of linear data structure that allocates memory dynamically for elements.\n",
    "* Linkedlist is a collection of nodes\n",
    "* Each Node has value and refrence(address) of next node and this is how nodes create chain\n",
    "* The first node is called head and last node is called tail\n",
    "* Last node has None as a refrence."
   ]
  },
  {
   "cell_type": "code",
   "execution_count": 10,
   "id": "b6ccbccf-e2f2-4f2b-b25c-adac74ab579e",
   "metadata": {},
   "outputs": [],
   "source": [
    "class Node:\n",
    "    def __init__(self,value):\n",
    "        self.value=value\n",
    "        self.next=None\n",
    "    def __str__(self):\n",
    "        return f'{self.value}'"
   ]
  },
  {
   "cell_type": "code",
   "execution_count": 11,
   "id": "c541a8e9-1f8c-4b27-857b-09108dd9cb81",
   "metadata": {},
   "outputs": [],
   "source": [
    "n=Node(1)"
   ]
  },
  {
   "cell_type": "code",
   "execution_count": 13,
   "id": "c142d2ea-a5a0-4aca-953e-79f78feadf5b",
   "metadata": {},
   "outputs": [
    {
     "name": "stdout",
     "output_type": "stream",
     "text": [
      "None\n"
     ]
    }
   ],
   "source": [
    "print(n.next)"
   ]
  },
  {
   "cell_type": "code",
   "execution_count": 14,
   "id": "817bf5be-aa49-4b9c-aa02-f10a4a9144ec",
   "metadata": {},
   "outputs": [],
   "source": [
    "n2=Node(10)"
   ]
  },
  {
   "cell_type": "code",
   "execution_count": 17,
   "id": "080ca8be-46aa-47d7-a26a-9e360975079a",
   "metadata": {},
   "outputs": [
    {
     "name": "stdout",
     "output_type": "stream",
     "text": [
      "1535183640208\n"
     ]
    }
   ],
   "source": [
    "print(id(n2))"
   ]
  },
  {
   "cell_type": "code",
   "execution_count": 1,
   "id": "77b1287f-a88e-4d33-bfa2-feca959fc90e",
   "metadata": {},
   "outputs": [],
   "source": [
    "class Node:\n",
    "    def __init__(self,value):\n",
    "        self.value=value\n",
    "        self.next=None\n",
    "    def __str__(self):\n",
    "        return f'{self.value}'"
   ]
  },
  {
   "cell_type": "code",
   "execution_count": 86,
   "id": "b023632b-00ef-429f-a47a-8ff55ef27a51",
   "metadata": {},
   "outputs": [],
   "source": [
    "class Linkedlist:\n",
    "    def __init__(self):\n",
    "        self.head=None\n",
    "        self.n=0\n",
    "    def __str__(self):\n",
    "        curr=self.head\n",
    "        res=''\n",
    "        while curr!=None:  #until last node\n",
    "             res=res+str(curr.value)+'->'\n",
    "             curr=curr.next\n",
    "        return res[:-2]\n",
    "            \n",
    "    def __len__(self):\n",
    "        return self.n\n",
    "    def insertBegin(self,value):\n",
    "        #new node\n",
    "        new_node=Node(value)\n",
    "        # crete connection\n",
    "        new_node.next=self.head\n",
    "        self.head=new_node\n",
    "        self.n=self.n+1\n",
    "    def insertLast(self,value):\n",
    "        \n",
    "         #new node\n",
    "        new_node=Node(value)\n",
    "        #create connection\n",
    "        curr=self.head\n",
    "        if curr!=None:\n",
    "            while curr.next!=None:\n",
    "                curr=curr.next\n",
    "        # tail\n",
    "            curr.next=new_node\n",
    "            self.n=self.n+1\n",
    "        else:\n",
    "            self.head=new_node\n",
    "            self.n=self.n+1\n",
    "            return\n",
    "    def insertMiddle(self,after,value):\n",
    "        "
   ]
  },
  {
   "cell_type": "code",
   "execution_count": 87,
   "id": "f3ce7506-7586-4354-a515-404e07f74576",
   "metadata": {},
   "outputs": [],
   "source": [
    "l=Linkedlist()"
   ]
  },
  {
   "cell_type": "code",
   "execution_count": 88,
   "id": "05687277-97ec-492f-9f07-b522ca91d82e",
   "metadata": {},
   "outputs": [
    {
     "data": {
      "text/plain": [
       "0"
      ]
     },
     "execution_count": 88,
     "metadata": {},
     "output_type": "execute_result"
    }
   ],
   "source": [
    "len(l)"
   ]
  },
  {
   "cell_type": "code",
   "execution_count": 92,
   "id": "fa719591-7923-4b51-8c62-0cfd5a93d9e1",
   "metadata": {},
   "outputs": [],
   "source": [
    "l.insertBegin(1)\n",
    "l.insertBegin(2)\n",
    "l.insertBegin(3)\n",
    "l.insertBegin(4)"
   ]
  },
  {
   "cell_type": "code",
   "execution_count": 93,
   "id": "5f148395-ef77-48cc-98f1-df6b7dd083f2",
   "metadata": {},
   "outputs": [
    {
     "name": "stdout",
     "output_type": "stream",
     "text": [
      "4->3->2->1->5\n"
     ]
    }
   ],
   "source": [
    "print(l)"
   ]
  },
  {
   "cell_type": "code",
   "execution_count": 90,
   "id": "21bed082-5a50-4679-8d8e-c897e062b61a",
   "metadata": {},
   "outputs": [],
   "source": [
    "l.insertLast(5)"
   ]
  },
  {
   "cell_type": "code",
   "execution_count": null,
   "id": "bf574809-f7df-41f1-a542-318f1ae58e96",
   "metadata": {},
   "outputs": [],
   "source": []
  }
 ],
 "metadata": {
  "kernelspec": {
   "display_name": "Python 3 (ipykernel)",
   "language": "python",
   "name": "python3"
  },
  "language_info": {
   "codemirror_mode": {
    "name": "ipython",
    "version": 3
   },
   "file_extension": ".py",
   "mimetype": "text/x-python",
   "name": "python",
   "nbconvert_exporter": "python",
   "pygments_lexer": "ipython3",
   "version": "3.11.7"
  }
 },
 "nbformat": 4,
 "nbformat_minor": 5
}
