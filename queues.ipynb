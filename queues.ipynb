{
 "cells": [
  {
   "cell_type": "markdown",
   "id": "8916bb08-e3e7-49b5-bc0f-2cb3cd616204",
   "metadata": {},
   "source": [
    "# Queue linkedlist implementation\n",
    "* FIFO Principal(First In First Out) the element inserted first will be deleted first\n",
    "* Insertion happend from end called enqueue\n",
    "* deletion happend from front called dequeue\n",
    "* O(1) constant time insertion-deletion"
   ]
  },
  {
   "cell_type": "code",
   "execution_count": 83,
   "id": "bb3f6f24-fb8d-4fd9-a8fe-7172e22ac3cd",
   "metadata": {},
   "outputs": [],
   "source": [
    "class Node:\n",
    "    def __init__(self,value):\n",
    "        self.data=value\n",
    "        self.next=None"
   ]
  },
  {
   "cell_type": "code",
   "execution_count": 84,
   "id": "950075ea-d010-40b5-85f5-59bdd8c3775e",
   "metadata": {},
   "outputs": [],
   "source": [
    "class Queue:\n",
    "    def __init__(self):\n",
    "        self.front=None\n",
    "        self.rear=None\n",
    "        self.n=0\n",
    "    def __len__(self):\n",
    "        return self.n\n",
    "    def enqueue(self,value):\n",
    "        # have to check \n",
    "        new_node=Node(value)\n",
    "        if self.rear==None: #insertion at end check if no item \n",
    "            self.front=new_node #new node become front\n",
    "            self.rear=self.front #front is now rear\n",
    "            self.n+=1\n",
    "        else:\n",
    "            self.rear.next=new_node #if items there then last node will refrence to new node\n",
    "            self.rear=new_node  #newnode becoms rear that mean last node\n",
    "            self.n+=1\n",
    "    def dequeue(self):\n",
    "        if self.front==None:\n",
    "            return 'Underflow'\n",
    "        else:\n",
    "            self.front=self.front.next\n",
    "            self.n-=1\n",
    "    def show(self):\n",
    "        curr=self.front\n",
    "        while curr!=None:\n",
    "            print(curr.data)\n",
    "            curr=curr.next\n",
    "    def isEmpty(self):\n",
    "        if self.front==None:\n",
    "            return True\n",
    "        else:\n",
    "            return False\n",
    "    def sum(self):\n",
    "        curr=self.front\n",
    "        sum=0\n",
    "        while curr!=None:\n",
    "            sum+=curr.data\n",
    "            curr=curr.next"
   ]
  },
  {
   "cell_type": "code",
   "execution_count": 75,
   "id": "6a4ac52a-be7e-40e4-a279-a788e4aefd54",
   "metadata": {},
   "outputs": [],
   "source": [
    "c=Queue()"
   ]
  },
  {
   "cell_type": "code",
   "execution_count": 77,
   "id": "ca74ceba-bf4e-4df7-8520-083df839c436",
   "metadata": {},
   "outputs": [],
   "source": [
    "c.enqueue(10)\n",
    "c.enqueue(True)\n",
    "c.enqueue((1,2,3))"
   ]
  },
  {
   "cell_type": "code",
   "execution_count": 54,
   "id": "e94a1818-602b-4adb-9711-5a69e6b64ae0",
   "metadata": {},
   "outputs": [
    {
     "data": {
      "text/plain": [
       "3"
      ]
     },
     "execution_count": 54,
     "metadata": {},
     "output_type": "execute_result"
    }
   ],
   "source": [
    "len(c)"
   ]
  },
  {
   "cell_type": "code",
   "execution_count": 43,
   "id": "03488ccd-db7c-4d82-a93a-986dcace4579",
   "metadata": {},
   "outputs": [
    {
     "data": {
      "text/plain": [
       "3"
      ]
     },
     "execution_count": 43,
     "metadata": {},
     "output_type": "execute_result"
    }
   ],
   "source": [
    "len(c)"
   ]
  },
  {
   "cell_type": "code",
   "execution_count": 70,
   "id": "c432cb2d-77f5-4dd9-ac12-8f123feeec63",
   "metadata": {},
   "outputs": [
    {
     "data": {
      "text/plain": [
       "'Underflow'"
      ]
     },
     "execution_count": 70,
     "metadata": {},
     "output_type": "execute_result"
    }
   ],
   "source": [
    "c.dequeue()"
   ]
  },
  {
   "cell_type": "code",
   "execution_count": 45,
   "id": "96365e9b-16bc-4a12-b89d-1ba90a9d7bad",
   "metadata": {},
   "outputs": [
    {
     "data": {
      "text/plain": [
       "2"
      ]
     },
     "execution_count": 45,
     "metadata": {},
     "output_type": "execute_result"
    }
   ],
   "source": [
    "len(c)"
   ]
  },
  {
   "cell_type": "code",
   "execution_count": 79,
   "id": "06f884fe-1628-4fe5-bd86-e842d999be26",
   "metadata": {},
   "outputs": [
    {
     "name": "stdout",
     "output_type": "stream",
     "text": [
      "10\n",
      "True\n",
      "(1, 2, 3)\n"
     ]
    }
   ],
   "source": [
    "c.show()"
   ]
  },
  {
   "cell_type": "code",
   "execution_count": 78,
   "id": "68235925-1eb8-4d95-b59d-6f43e6d6efc3",
   "metadata": {},
   "outputs": [
    {
     "data": {
      "text/plain": [
       "False"
      ]
     },
     "execution_count": 78,
     "metadata": {},
     "output_type": "execute_result"
    }
   ],
   "source": [
    "c.isEmpty()"
   ]
  },
  {
   "cell_type": "markdown",
   "id": "3de6f726-99f4-4a24-be00-6c0cdf178c95",
   "metadata": {},
   "source": [
    "2)Queue implementation using 2 stacks"
   ]
  },
  {
   "cell_type": "code",
   "execution_count": 81,
   "id": "3445f9ab-f755-43d1-834a-7d2b2aaf43e2",
   "metadata": {},
   "outputs": [],
   "source": [
    "class Node:\n",
    "    def __init__(self,value):\n",
    "        self.data=value\n",
    "        self.next=None\n",
    "class Stack:\n",
    "    def __init__(self):\n",
    "        self.n=0\n",
    "        self.top=None\n",
    "    def peek(self):\n",
    "        return self.top\n",
    "    def isEmpty(self):\n",
    "        if self.top==None:\n",
    "            return True\n",
    "        else:\n",
    "            return False\n",
    "    def push(self,value):\n",
    "        new_node=Node(value)\n",
    "        new_node.next=self.top\n",
    "        self.top=new_node\n",
    "        self.n+=1\n",
    "    def show(self):\n",
    "        curr=self.top\n",
    "        while curr!=None:\n",
    "            print(curr.data)\n",
    "            curr=curr.next\n",
    "    def pop(self):\n",
    "        if self.top==None:\n",
    "            return 'UnderFlow'\n",
    "        self.top=self.top.next\n",
    "        self.n-=1"
   ]
  },
  {
   "cell_type": "markdown",
   "id": "b2ed7818-9718-46b3-92de-b65d360e5ba6",
   "metadata": {},
   "source": [
    "## queue questions\n",
    "* 1) "
   ]
  },
  {
   "cell_type": "code",
   "execution_count": 85,
   "id": "bf48b4d2-ffb8-4149-970b-63c79d2fee79",
   "metadata": {},
   "outputs": [],
   "source": [
    "qq=Queue()"
   ]
  },
  {
   "cell_type": "code",
   "execution_count": 88,
   "id": "dcf776d5-c63c-46cd-803c-b268631b583e",
   "metadata": {},
   "outputs": [],
   "source": [
    "\n",
    "def func(num):\n",
    "    if num==0:\n",
    "        return 0\n",
    "    qq.enqueue(num%10)\n",
    "    res=func(num//10)\n",
    "    res=res*10+qq.dequeue()\n",
    "    return res"
   ]
  },
  {
   "cell_type": "code",
   "execution_count": 91,
   "id": "01aec732-e9a4-4fe6-881b-4ecc9c0c2fc5",
   "metadata": {},
   "outputs": [
    {
     "ename": "TypeError",
     "evalue": "unsupported operand type(s) for +: 'int' and 'NoneType'",
     "output_type": "error",
     "traceback": [
      "\u001b[1;31m---------------------------------------------------------------------------\u001b[0m",
      "\u001b[1;31mTypeError\u001b[0m                                 Traceback (most recent call last)",
      "Cell \u001b[1;32mIn[91], line 2\u001b[0m\n\u001b[0;32m      1\u001b[0m qq\u001b[38;5;241m=\u001b[39mQueue()\n\u001b[1;32m----> 2\u001b[0m func(\u001b[38;5;241m123\u001b[39m)\n",
      "Cell \u001b[1;32mIn[88], line 5\u001b[0m, in \u001b[0;36mfunc\u001b[1;34m(num)\u001b[0m\n\u001b[0;32m      3\u001b[0m     \u001b[38;5;28;01mreturn\u001b[39;00m \u001b[38;5;241m0\u001b[39m\n\u001b[0;32m      4\u001b[0m qq\u001b[38;5;241m.\u001b[39menqueue(num\u001b[38;5;241m%\u001b[39m\u001b[38;5;241m10\u001b[39m)\n\u001b[1;32m----> 5\u001b[0m res\u001b[38;5;241m=\u001b[39mfunc(num\u001b[38;5;241m/\u001b[39m\u001b[38;5;241m/\u001b[39m\u001b[38;5;241m10\u001b[39m)\n\u001b[0;32m      6\u001b[0m res\u001b[38;5;241m=\u001b[39mres\u001b[38;5;241m*\u001b[39m\u001b[38;5;241m10\u001b[39m\u001b[38;5;241m+\u001b[39mqq\u001b[38;5;241m.\u001b[39mdequeue()\n\u001b[0;32m      7\u001b[0m \u001b[38;5;28;01mreturn\u001b[39;00m res\n",
      "Cell \u001b[1;32mIn[88], line 5\u001b[0m, in \u001b[0;36mfunc\u001b[1;34m(num)\u001b[0m\n\u001b[0;32m      3\u001b[0m     \u001b[38;5;28;01mreturn\u001b[39;00m \u001b[38;5;241m0\u001b[39m\n\u001b[0;32m      4\u001b[0m qq\u001b[38;5;241m.\u001b[39menqueue(num\u001b[38;5;241m%\u001b[39m\u001b[38;5;241m10\u001b[39m)\n\u001b[1;32m----> 5\u001b[0m res\u001b[38;5;241m=\u001b[39mfunc(num\u001b[38;5;241m/\u001b[39m\u001b[38;5;241m/\u001b[39m\u001b[38;5;241m10\u001b[39m)\n\u001b[0;32m      6\u001b[0m res\u001b[38;5;241m=\u001b[39mres\u001b[38;5;241m*\u001b[39m\u001b[38;5;241m10\u001b[39m\u001b[38;5;241m+\u001b[39mqq\u001b[38;5;241m.\u001b[39mdequeue()\n\u001b[0;32m      7\u001b[0m \u001b[38;5;28;01mreturn\u001b[39;00m res\n",
      "Cell \u001b[1;32mIn[88], line 6\u001b[0m, in \u001b[0;36mfunc\u001b[1;34m(num)\u001b[0m\n\u001b[0;32m      4\u001b[0m qq\u001b[38;5;241m.\u001b[39menqueue(num\u001b[38;5;241m%\u001b[39m\u001b[38;5;241m10\u001b[39m)\n\u001b[0;32m      5\u001b[0m res\u001b[38;5;241m=\u001b[39mfunc(num\u001b[38;5;241m/\u001b[39m\u001b[38;5;241m/\u001b[39m\u001b[38;5;241m10\u001b[39m)\n\u001b[1;32m----> 6\u001b[0m res\u001b[38;5;241m=\u001b[39mres\u001b[38;5;241m*\u001b[39m\u001b[38;5;241m10\u001b[39m\u001b[38;5;241m+\u001b[39mqq\u001b[38;5;241m.\u001b[39mdequeue()\n\u001b[0;32m      7\u001b[0m \u001b[38;5;28;01mreturn\u001b[39;00m res\n",
      "\u001b[1;31mTypeError\u001b[0m: unsupported operand type(s) for +: 'int' and 'NoneType'"
     ]
    }
   ],
   "source": [
    "qq=Queue()\n",
    "func(123)"
   ]
  },
  {
   "cell_type": "code",
   "execution_count": 92,
   "id": "f47374e0-60d0-454b-b4e0-c06f79c147fc",
   "metadata": {},
   "outputs": [
    {
     "data": {
      "text/plain": [
       "3"
      ]
     },
     "execution_count": 92,
     "metadata": {},
     "output_type": "execute_result"
    }
   ],
   "source": [
    "123%10"
   ]
  },
  {
   "cell_type": "code",
   "execution_count": 93,
   "id": "33e7612a-892e-431a-937c-a414a565234c",
   "metadata": {},
   "outputs": [
    {
     "data": {
      "text/plain": [
       "12"
      ]
     },
     "execution_count": 93,
     "metadata": {},
     "output_type": "execute_result"
    }
   ],
   "source": [
    "123//10"
   ]
  },
  {
   "cell_type": "code",
   "execution_count": 94,
   "id": "620b1aba-16d4-4130-9045-2758f0369356",
   "metadata": {},
   "outputs": [
    {
     "data": {
      "text/plain": [
       "1"
      ]
     },
     "execution_count": 94,
     "metadata": {},
     "output_type": "execute_result"
    }
   ],
   "source": [
    "1%10"
   ]
  },
  {
   "cell_type": "code",
   "execution_count": 95,
   "id": "b4dc12b8-b08f-436c-8604-765590cc3e93",
   "metadata": {},
   "outputs": [
    {
     "data": {
      "text/plain": [
       "0"
      ]
     },
     "execution_count": 95,
     "metadata": {},
     "output_type": "execute_result"
    }
   ],
   "source": [
    "1//10"
   ]
  },
  {
   "cell_type": "code",
   "execution_count": null,
   "id": "6ee22eec-df84-4fde-a6c1-9df49354d377",
   "metadata": {},
   "outputs": [],
   "source": []
  }
 ],
 "metadata": {
  "kernelspec": {
   "display_name": "Python 3 (ipykernel)",
   "language": "python",
   "name": "python3"
  },
  "language_info": {
   "codemirror_mode": {
    "name": "ipython",
    "version": 3
   },
   "file_extension": ".py",
   "mimetype": "text/x-python",
   "name": "python",
   "nbconvert_exporter": "python",
   "pygments_lexer": "ipython3",
   "version": "3.11.7"
  }
 },
 "nbformat": 4,
 "nbformat_minor": 5
}
