{
 "cells": [
  {
   "cell_type": "markdown",
   "id": "7eed9666-d071-4f55-aacf-40538a26edd2",
   "metadata": {},
   "source": [
    "# Tree\n",
    "* A tree is a non linear data structure.\n",
    "* It stores values in form of hierarchy(parent-child).\n",
    "* The top most single node is called root node and all the other below node are child nodes\n",
    "* Each child are siblings of each other\n",
    "* The bottom most node are called lead nodes\n",
    "## Ancestor\n",
    "* any node in path of root to node are called ancestors\n",
    "## descendant\n",
    "* any node x called descendant of y if y is ancestor of x.\n",
    "### Internal node\n",
    "* Any node with minumum one child node is called internal node\n"
   ]
  },
  {
   "cell_type": "code",
   "execution_count": 1,
   "id": "2b24cf3e-4b56-49e4-9e3e-5cf5ea5b3cd6",
   "metadata": {},
   "outputs": [],
   "source": [
    "class Node:\n",
    "    def __init__(self,data):\n",
    "        self.data=data\n",
    "        self.child=[]"
   ]
  },
  {
   "cell_type": "markdown",
   "id": "5568d97b-3dc0-453d-84c7-6b40a3d1745b",
   "metadata": {},
   "source": [
    "initialy each node has its data and no children so empty array"
   ]
  },
  {
   "cell_type": "markdown",
   "id": "4e5c1d41-3956-42ae-8b50-b74a999ed0dc",
   "metadata": {},
   "source": [
    "## Importance\n",
    "* A file system like Computer file explorer where it has C drive,Downloads,Documents,Pictures,Videos etc each has its own folders,subfolders,files\n",
    "* Faster searching than likedlist and slower than array\n",
    "* faster write operations than array and slower than likedlist\n",
    "* no fixed size"
   ]
  },
  {
   "cell_type": "markdown",
   "id": "e8b48e7e-9ff5-4160-b57b-14f441e82b35",
   "metadata": {},
   "source": [
    "                (R)\n",
    "                /| \\\n",
    "               / |  \\\n",
    "              /  |   \\\n",
    "            (A)  (B)  (C) \n",
    "            /\\         /\\ \\\n",
    "           /  \\       /  \\  \\\n",
    "        (D)   (E)    (F)(G),(H)\n",
    "In this example root is R\n",
    "R,A and c are parent node note than B is not parent node because it has no children\n",
    "edges are \\\n",
    "total number of nodes=size 9\n",
    "height 2 from root to leaf node \n"
   ]
  },
  {
   "cell_type": "markdown",
   "id": "7094c1a4-2d58-4e77-9c4a-414c9c33e7ed",
   "metadata": {},
   "source": [
    "## Types of data structures\n",
    "### Binary tree\n",
    "* maximum 2 so one node can have 0,1 or 2 child nodes\n",
    "#### Full binary\n",
    "#### complete binary\n",
    "#### balanced  binary\n",
    "#### degenerate or pathological binary\n",
    "### Ternary tree\n",
    "* each node has most of three node\n",
    "* left,mid and right\n",
    "### N ary tree or generic tree\n",
    "* generic trees are a collection of nodes where each node is a data strucutre that consist of records and list of list of addresses to its child"
   ]
  },
  {
   "cell_type": "code",
   "execution_count": 29,
   "id": "4ffe62f3-506a-4dc8-a631-090e3a729238",
   "metadata": {},
   "outputs": [],
   "source": [
    "class Jovin:\n",
    "    def __init__(self,name,username,email):\n",
    "        self.name=name\n",
    "        self.username=username\n",
    "        self.email=email\n",
    "    def __str__(self):\n",
    "        return f\"Name:{self.name}, username:{self.username} and email is {self.email}\"\n",
    "    "
   ]
  },
  {
   "cell_type": "code",
   "execution_count": 19,
   "id": "dea8478b-bd41-4c11-9f2f-599a2e3b432b",
   "metadata": {},
   "outputs": [],
   "source": [
    "akash=Jovin(\"Akash\",\"ak983\",\"ak983@gmail.com\")\n",
    "vaibhav=Jovin(\"Akash\",\"ak983\",\"ak983@gmail.com\")\n",
    "vishal=Jovin(\"Akash\",\"ak983\",\"ak983@gmail.com\")\n",
    "neel=Jovin(\"Akash\",\"ak983\",\"ak983@gmail.com\")\n",
    "naresh=Jovin(\"Akash\",\"ak983\",\"ak983@gmail.com\")"
   ]
  },
  {
   "cell_type": "code",
   "execution_count": 20,
   "id": "7337e355-c5d0-4af0-bb69-8549baf93bc3",
   "metadata": {},
   "outputs": [
    {
     "name": "stdout",
     "output_type": "stream",
     "text": [
      "Name:Akash, username:ak983 and email is ak983@gmail.com\n"
     ]
    }
   ],
   "source": [
    "print(akash)"
   ]
  },
  {
   "cell_type": "code",
   "execution_count": 21,
   "id": "70441791-4431-4969-b801-c7711e376136",
   "metadata": {},
   "outputs": [],
   "source": [
    "users=[akash,vaibhav,vishal,neel,naresh]"
   ]
  },
  {
   "cell_type": "code",
   "execution_count": 28,
   "id": "319f4b2a-c72b-41c1-a653-ee6337575547",
   "metadata": {},
   "outputs": [
    {
     "name": "stdout",
     "output_type": "stream",
     "text": [
      "Name:Akash, username:ak983 and email is ak983@gmail.com\n",
      "Name:Akash, username:ak983 and email is ak983@gmail.com\n",
      "Name:Akash, username:ak983 and email is ak983@gmail.com\n",
      "Name:Akash, username:ak983 and email is ak983@gmail.com\n",
      "Name:Akash, username:ak983 and email is ak983@gmail.com\n",
      "Name:neel, username:neel973 and email is neel973@gmail.com\n"
     ]
    }
   ],
   "source": [
    "for i in range(len(users)):\n",
    "    print(users[i])"
   ]
  },
  {
   "cell_type": "code",
   "execution_count": 27,
   "id": "8fb87d33-ac62-4a94-81b0-a85ae9c1fc1f",
   "metadata": {},
   "outputs": [],
   "source": [
    "new=Jovin(\"neel\",\"neel973\",\"neel973@gmail.com\")\n",
    "users.append(new)"
   ]
  },
  {
   "cell_type": "markdown",
   "id": "a6cca1a6-035e-4324-9f37-8a3eea1496b2",
   "metadata": {},
   "source": [
    "## Balanced Binary Search Trees\n",
    "\n",
    "\n",
    "For our use case, we require the binary tree to have some additional properties:\n",
    "\n",
    "1. **Keys and Values**: Each node of the tree stores a key (a username) and a value (a `User` object). Only keys are shown in the picture above for brevity. A binary tree where nodes have both a key and a value is often referred to as a **map** or **treemap** (because it maps keys to values).\n",
    "2. **Binary Search Tree**: The *left subtree* of any node only contains nodes with keys that are lexicographically smaller than the node's key, and the *right subtree* of any node only contains nodes with keys that lexicographically larger than the node's key. A tree that satisfies this property is called a **binary search trees**, and it's easy to locate a specific key by traversing a single path down from the root note.\n",
    "3. **Balanced Tree**: The tree is **balanced** i.e. it does not skew too heavily to one side or the other. The left and right subtrees of any node shouldn't differ in height/depth by more than 1 level.\n",
    "\n"
   ]
  },
  {
   "cell_type": "code",
   "execution_count": 54,
   "id": "1f432298-b3c6-47c2-bfa1-3718e485d47e",
   "metadata": {},
   "outputs": [],
   "source": [
    "class Node:\n",
    "    def __init__(self,key):\n",
    "        self.key=key\n",
    "        self.left=None\n",
    "        self.right=None\n",
    "    def __str__(self):\n",
    "        return f'{self.key}'"
   ]
  },
  {
   "cell_type": "code",
   "execution_count": 55,
   "id": "93c013fa-1fe3-4a3b-8e43-4c898af67abc",
   "metadata": {},
   "outputs": [],
   "source": [
    "n1=Node(10)\n",
    "n1=Node(20)\n",
    "n1=Node(30)"
   ]
  },
  {
   "cell_type": "code",
   "execution_count": 56,
   "id": "e40f797c-079a-4feb-b150-530525f7cefd",
   "metadata": {},
   "outputs": [
    {
     "name": "stdout",
     "output_type": "stream",
     "text": [
      "30\n"
     ]
    }
   ],
   "source": [
    "print(n1)"
   ]
  },
  {
   "cell_type": "code",
   "execution_count": 59,
   "id": "6628956f-2009-452a-b96c-ae0996ddeac0",
   "metadata": {},
   "outputs": [],
   "source": [
    "n1.right"
   ]
  },
  {
   "cell_type": "code",
   "execution_count": null,
   "id": "b69b3abe-0f51-4906-bbc3-98859f91263a",
   "metadata": {},
   "outputs": [],
   "source": [
    "# A helper function takes a tuple as an argument and it has three values ((left),(key),(right))"
   ]
  },
  {
   "cell_type": "code",
   "execution_count": 97,
   "id": "5fe1ec00-e5f3-40eb-b805-d0b3cc087e5e",
   "metadata": {},
   "outputs": [],
   "source": [
    "def parse_tuple(data):\n",
    "    # print(data)\n",
    "    if isinstance(data, tuple) and len(data) == 3:\n",
    "        node = Node(data[1])\n",
    "        node.left = parse_tuple(data[0])\n",
    "        node.right = parse_tuple(data[2])\n",
    "    elif data is None:\n",
    "        node = None\n",
    "    else:\n",
    "        node = Node(data)\n",
    "    return node"
   ]
  },
  {
   "cell_type": "code",
   "execution_count": 98,
   "id": "5397fdc8-f50e-4033-b1cc-f44ac162765a",
   "metadata": {},
   "outputs": [],
   "source": [
    "tree2 = parse_tuple(((1,3,None), 2, ((None, 3, 4), 5, (6, 7, 8))))"
   ]
  },
  {
   "cell_type": "code",
   "execution_count": 99,
   "id": "1bf2ac18-92ce-4b8a-b5f2-cfcd8d4bfa3d",
   "metadata": {},
   "outputs": [
    {
     "data": {
      "text/plain": [
       "3"
      ]
     },
     "execution_count": 99,
     "metadata": {},
     "output_type": "execute_result"
    }
   ],
   "source": [
    "tree2.left.key"
   ]
  },
  {
   "cell_type": "code",
   "execution_count": 100,
   "id": "de257a8b-7c78-4055-8447-7accd6173411",
   "metadata": {},
   "outputs": [
    {
     "data": {
      "text/plain": [
       "5"
      ]
     },
     "execution_count": 100,
     "metadata": {},
     "output_type": "execute_result"
    }
   ],
   "source": [
    "tree2.right.key"
   ]
  },
  {
   "cell_type": "code",
   "execution_count": 111,
   "id": "a6bd25fd-92e5-48b0-9983-70dbca65dc19",
   "metadata": {},
   "outputs": [
    {
     "data": {
      "text/plain": [
       "4"
      ]
     },
     "execution_count": 111,
     "metadata": {},
     "output_type": "execute_result"
    }
   ],
   "source": [
    "tree2.right.left.right.key"
   ]
  },
  {
   "cell_type": "code",
   "execution_count": 103,
   "id": "7a79f4c8-73d4-4644-a32e-4fc1ab39cc57",
   "metadata": {},
   "outputs": [
    {
     "data": {
      "text/plain": [
       "3"
      ]
     },
     "execution_count": 103,
     "metadata": {},
     "output_type": "execute_result"
    }
   ],
   "source": [
    "tree2.left.key"
   ]
  },
  {
   "cell_type": "code",
   "execution_count": 81,
   "id": "e1ca3a06-d271-4ddc-9410-a1e46774f927",
   "metadata": {},
   "outputs": [],
   "source": [
    "def tree_to_tuple(node):\n",
    "    pass"
   ]
  },
  {
   "cell_type": "code",
   "execution_count": 112,
   "id": "5b63c388-aa85-4ccb-8915-c19e996ae060",
   "metadata": {},
   "outputs": [],
   "source": [
    "def display_keys(node, space='\\t', level=0):\n",
    "    # print(node.key if node else None, level)\n",
    "    \n",
    "    # If the node is empty\n",
    "    if node is None:\n",
    "        print(space*level + '∅')\n",
    "        return   \n",
    "    \n",
    "    # If the node is a leaf \n",
    "    if node.left is None and node.right is None:\n",
    "        print(space*level + str(node.key))\n",
    "        return\n",
    "    \n",
    "    # If the node has children\n",
    "    display_keys(node.right, space, level+1)\n",
    "    print(space*level + str(node.key))\n",
    "    display_keys(node.left,space, level+1)    "
   ]
  },
  {
   "cell_type": "code",
   "execution_count": 113,
   "id": "5e45f9cc-6290-4f32-9432-b100925b6b68",
   "metadata": {},
   "outputs": [
    {
     "name": "stdout",
     "output_type": "stream",
     "text": [
      "\t\t\t8\n",
      "\t\t7\n",
      "\t\t\t6\n",
      "\t5\n",
      "\t\t\t4\n",
      "\t\t3\n",
      "\t\t\t∅\n",
      "2\n",
      "\t\t∅\n",
      "\t3\n",
      "\t\t1\n"
     ]
    }
   ],
   "source": [
    "display_keys(tree2)"
   ]
  },
  {
   "cell_type": "code",
   "execution_count": null,
   "id": "427d126a-4b29-423a-bd74-ec98f02073f1",
   "metadata": {},
   "outputs": [],
   "source": []
  }
 ],
 "metadata": {
  "kernelspec": {
   "display_name": "Python 3 (ipykernel)",
   "language": "python",
   "name": "python3"
  },
  "language_info": {
   "codemirror_mode": {
    "name": "ipython",
    "version": 3
   },
   "file_extension": ".py",
   "mimetype": "text/x-python",
   "name": "python",
   "nbconvert_exporter": "python",
   "pygments_lexer": "ipython3",
   "version": "3.11.7"
  }
 },
 "nbformat": 4,
 "nbformat_minor": 5
}
