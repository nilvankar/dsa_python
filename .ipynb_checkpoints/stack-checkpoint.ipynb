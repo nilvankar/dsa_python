{
 "cells": [
  {
   "cell_type": "markdown",
   "id": "a7fddd07-577f-4a33-b705-1129a60a2462",
   "metadata": {},
   "source": [
    "# Stack\n",
    "* Stack is a linear data structure stores values in continous memory allocation\n",
    "* It works on LIFO(Last In First Out) principal the item that is last inserted will be deleted first\n",
    "* It has a top from there only insertion and deletion possible.\n",
    "* Stack can be implement using linkedlist and array."
   ]
  },
  {
   "cell_type": "markdown",
   "id": "e96ab5a5-88ba-4df8-a0de-368da0106eb7",
   "metadata": {},
   "source": [
    "## Stack linkedlist implementation\n",
    "### operations\n",
    "* push->insertion from top (append) insertion at tail\n",
    "* pop ->deletion from top  (pop) deletion from tail\n",
    "* peek ->return top\n",
    "* isEmpty->return if stack is empty\n"
   ]
  },
  {
   "cell_type": "code",
   "execution_count": 1,
   "id": "bbb1e4d1-8b2e-47b3-a772-451e0355e1ae",
   "metadata": {},
   "outputs": [],
   "source": [
    "class Node:\n",
    "    def __init__(self,value):\n",
    "        self.data=value\n",
    "        self.next=None"
   ]
  },
  {
   "cell_type": "code",
   "execution_count": 2,
   "id": "fc729a83-a293-49bd-8e5c-a7c77bbd1f61",
   "metadata": {},
   "outputs": [],
   "source": [
    "class Node:\n",
    "    def __init__(self,value):\n",
    "        self.data=value\n",
    "        self.next=None\n",
    "class Stack:\n",
    "    def __init__(self):\n",
    "        self.top=None\n",
    "        self.n=0\n",
    "    def peek(self):\n",
    "        return self.top\n",
    "    def __isempty(self):\n",
    "        if self.top==None:\n",
    "            return True\n",
    "        return False\n",
    "    def __len__(self):\n",
    "        return self.n\n",
    "    def push(self,value):\n",
    "        new_node=Node(value)\n",
    "        new_node.next=self.top\n",
    "        self.top=new_node\n",
    "        self.n+=1\n",
    "    def show(self):\n",
    "        curr=self.top\n",
    "        while curr!=None:\n",
    "            print(curr.data)\n",
    "            curr=curr.next\n",
    "        \n",
    "    def __str__(self):\n",
    "        curr=self.top\n",
    "        res=\"\"\n",
    "        while curr!=None:\n",
    "            res=res+str(curr.data)\n",
    "            curr=curr.next\n",
    "        return res\n",
    "    def pop(self):\n",
    "        if self.top==None:\n",
    "            return 'Empty Stack'\n",
    "        else:\n",
    "            data=self.top.data\n",
    "            self.top=self.top.next\n",
    "            self.n+=1\n",
    "        return data"
   ]
  },
  {
   "cell_type": "code",
   "execution_count": 3,
   "id": "43d5fd95-9323-4b5a-af7b-288f873cfef0",
   "metadata": {},
   "outputs": [],
   "source": [
    "def revserString(text):\n",
    "    s=Stack()\n",
    "    for i in text:\n",
    "        s.push(i)\n",
    "    res=''\n",
    "    while not s._Stack__isempty():\n",
    "        res+=s.pop()\n",
    "    return res"
   ]
  },
  {
   "cell_type": "code",
   "execution_count": 115,
   "id": "eab055ce-4eaf-4169-9977-02403cc13dbf",
   "metadata": {},
   "outputs": [],
   "source": [
    "c=Stack()"
   ]
  },
  {
   "cell_type": "code",
   "execution_count": 116,
   "id": "f5270bed-7a44-42a0-becf-25cd99e99974",
   "metadata": {},
   "outputs": [],
   "source": [
    "c.peek()"
   ]
  },
  {
   "cell_type": "code",
   "execution_count": 74,
   "id": "4be6db64-6b10-474d-9ea6-c70a462374b2",
   "metadata": {},
   "outputs": [
    {
     "data": {
      "text/plain": [
       "0"
      ]
     },
     "execution_count": 74,
     "metadata": {},
     "output_type": "execute_result"
    }
   ],
   "source": [
    "len(c)"
   ]
  },
  {
   "cell_type": "code",
   "execution_count": 75,
   "id": "0c53d7ff-6e5f-431e-aee0-1d5f4505a16c",
   "metadata": {},
   "outputs": [],
   "source": [
    "c.push(10)"
   ]
  },
  {
   "cell_type": "code",
   "execution_count": 76,
   "id": "fbe0e12d-a612-4651-aa25-f9ab429b959f",
   "metadata": {},
   "outputs": [
    {
     "data": {
      "text/plain": [
       "1"
      ]
     },
     "execution_count": 76,
     "metadata": {},
     "output_type": "execute_result"
    }
   ],
   "source": [
    "len(c)"
   ]
  },
  {
   "cell_type": "code",
   "execution_count": 77,
   "id": "3a731b7b-be1a-4eb7-8790-67f858b1afc5",
   "metadata": {},
   "outputs": [
    {
     "name": "stdout",
     "output_type": "stream",
     "text": [
      "10->\n"
     ]
    }
   ],
   "source": [
    "print(c)"
   ]
  },
  {
   "cell_type": "code",
   "execution_count": 78,
   "id": "383c8ecf-352c-45e2-bb7a-7a0fd42b3e30",
   "metadata": {},
   "outputs": [],
   "source": [
    "c.push(20)\n",
    "c.push(30)\n",
    "c.push(40)\n",
    "c.push(50)"
   ]
  },
  {
   "cell_type": "code",
   "execution_count": 91,
   "id": "add9e7cf-6eba-4066-bd78-a150dbb7d026",
   "metadata": {},
   "outputs": [
    {
     "name": "stdout",
     "output_type": "stream",
     "text": [
      "\n"
     ]
    }
   ],
   "source": [
    "print(c)"
   ]
  },
  {
   "cell_type": "code",
   "execution_count": 92,
   "id": "5a5c91b2-815c-4415-8d76-329bb477ce26",
   "metadata": {},
   "outputs": [
    {
     "data": {
      "text/plain": [
       "'Empty Stack'"
      ]
     },
     "execution_count": 92,
     "metadata": {},
     "output_type": "execute_result"
    }
   ],
   "source": [
    "c.pop()"
   ]
  },
  {
   "cell_type": "code",
   "execution_count": 173,
   "id": "a49df5fc-18c2-46b5-a0fc-f0c379ab0ee5",
   "metadata": {},
   "outputs": [],
   "source": [
    "# 1)Strin reversal\n",
    "# Hello->olleH\n",
    "str=Stack()"
   ]
  },
  {
   "cell_type": "code",
   "execution_count": 169,
   "id": "b72175eb-fd3d-4612-bbf9-b7520a8a0fb3",
   "metadata": {},
   "outputs": [],
   "source": [
    "str.push('N')\n",
    "str.push('e')\n",
    "str.push('e')\n",
    "str.push('l')"
   ]
  },
  {
   "cell_type": "code",
   "execution_count": 5,
   "id": "02a55e19-5107-4779-9020-0a7893ae0ac3",
   "metadata": {},
   "outputs": [
    {
     "data": {
      "text/plain": [
       "'rednaxela'"
      ]
     },
     "execution_count": 5,
     "metadata": {},
     "output_type": "execute_result"
    }
   ],
   "source": [
    "revserString('alexander')"
   ]
  },
  {
   "cell_type": "code",
   "execution_count": 41,
   "id": "3527bdc3-c593-48bb-8b0b-d4214be8a703",
   "metadata": {},
   "outputs": [],
   "source": [
    "def patternMaster(pattern,text):\n",
    "    s=Stack()\n",
    "    redoStack=Stack()\n",
    "    for i in text:\n",
    "        s.push(i)\n",
    "    for i in pattern:\n",
    "        if i==\"u\":\n",
    "            data=s.pop()\n",
    "            redoStack.push(data)\n",
    "        elif i=='r':\n",
    "            data=redoStack.pop()\n",
    "            s.push(data)\n",
    "        else:\n",
    "            return 'Pagal hai kya'\n",
    "    res=''\n",
    "    while not s._Stack__isempty():\n",
    "        res=s.pop()+res\n",
    "    return res"
   ]
  },
  {
   "cell_type": "code",
   "execution_count": 42,
   "id": "210fd74c-3bd7-4be9-911b-2462d4914631",
   "metadata": {},
   "outputs": [
    {
     "data": {
      "text/plain": [
       "'Pagal hai kya'"
      ]
     },
     "execution_count": 42,
     "metadata": {},
     "output_type": "execute_result"
    }
   ],
   "source": [
    "patternMaster('xurrurur','Kolkata')"
   ]
  },
  {
   "cell_type": "markdown",
   "id": "9020e35a-719c-4442-9978-e9460bd7d077",
   "metadata": {},
   "source": [
    "# celebrity problem\n",
    "given matrix if it show relation from 1 column to 1 row\n",
    "* if 4*4 matrix and A ,B,C,D are column and rows so rule to become celebrity is\n",
    "* A is a celebrity if A->B==0 A->C ==0 A->D==0 where -> relation tht means 0 A doesnt know another one.\n",
    "* And if B->A==1,C->A==1,D->A==1 that means everyone knows A "
   ]
  },
  {
   "cell_type": "code",
   "execution_count": 45,
   "id": "d0ff4743-16e9-4d52-9d61-d9a353c54e52",
   "metadata": {},
   "outputs": [],
   "source": [
    "import numpy as np"
   ]
  },
  {
   "cell_type": "code",
   "execution_count": 48,
   "id": "bb72b6b0-55b0-41db-bda7-188611c918e6",
   "metadata": {},
   "outputs": [],
   "source": [
    "a=np.array([\n",
    "    [0,0,0,1],\n",
    "    [0,0,0,1],\n",
    "    [0,0,1,1],\n",
    "    [0,0,0,0]\n",
    "])"
   ]
  },
  {
   "cell_type": "code",
   "execution_count": 49,
   "id": "2adb0864-f620-4aee-b029-190585998b77",
   "metadata": {},
   "outputs": [
    {
     "data": {
      "text/plain": [
       "array([[0, 0, 0, 1],\n",
       "       [0, 0, 0, 1],\n",
       "       [0, 0, 1, 1],\n",
       "       [0, 0, 0, 0]])"
      ]
     },
     "execution_count": 49,
     "metadata": {},
     "output_type": "execute_result"
    }
   ],
   "source": [
    "a"
   ]
  },
  {
   "cell_type": "markdown",
   "id": "4bb928fd-2771-4983-8814-b0a36983b8f6",
   "metadata": {},
   "source": [
    "## Stack array implementation\n",
    "### operations\n",
    "* push->insertion from top (append) insertion at tail\n",
    "* pop ->deletion from top  (pop) deletion from tail\n",
    "* peek ->return top\n",
    "* isEmpty->return if stack is empty\n"
   ]
  },
  {
   "cell_type": "code",
   "execution_count": 143,
   "id": "50609b39-91f1-427f-a612-f0c533473fe8",
   "metadata": {},
   "outputs": [],
   "source": [
    "class Stack:\n",
    "    def __init__(self,size):\n",
    "        self.size=size\n",
    "        self.stack=[None]*self.size\n",
    "        self.n=0\n",
    "        self.top=-1\n",
    "    def push(self,value):\n",
    "        if self.top==self.size-1:\n",
    "            return 'Overflow'\n",
    "        self.top+=1\n",
    "        self.stack[self.top]=value\n",
    "    def pop(self):\n",
    "        if self.top==-1:\n",
    "            return 'UnderFlow'\n",
    "        else:\n",
    "            data=self.stack[self.top]\n",
    "            self.top-=1\n",
    "            print(data)\n",
    "            self.n-=1\n",
    "    def __str__(self):\n",
    "        for i in range(self.top,1):\n",
    "            print(self.stack[i]+',')"
   ]
  },
  {
   "cell_type": "code",
   "execution_count": 144,
   "id": "989b2419-1c63-4df1-a4c1-553866fe3927",
   "metadata": {},
   "outputs": [],
   "source": [
    "c=Stack(4)"
   ]
  },
  {
   "cell_type": "code",
   "execution_count": 145,
   "id": "e4e6e312-42d5-491b-807c-38d644d3d04c",
   "metadata": {},
   "outputs": [
    {
     "data": {
      "text/plain": [
       "[None, None, None, None]"
      ]
     },
     "execution_count": 145,
     "metadata": {},
     "output_type": "execute_result"
    }
   ],
   "source": [
    "c.stack"
   ]
  },
  {
   "cell_type": "code",
   "execution_count": 146,
   "id": "7cb79008-35a1-4694-a734-aefd34d3d166",
   "metadata": {},
   "outputs": [],
   "source": [
    "c.push(10)"
   ]
  },
  {
   "cell_type": "code",
   "execution_count": 147,
   "id": "6abc1df0-e3dc-4439-bfd6-775e31234314",
   "metadata": {},
   "outputs": [],
   "source": [
    "c.push(20)"
   ]
  },
  {
   "cell_type": "code",
   "execution_count": 148,
   "id": "783c128a-9925-4bd3-bfb5-329d7b9324fe",
   "metadata": {},
   "outputs": [],
   "source": [
    "c.push(30)\n",
    "c.push(40)"
   ]
  },
  {
   "cell_type": "code",
   "execution_count": 72,
   "id": "fff48386-7081-451c-957c-2a595bf44c0c",
   "metadata": {},
   "outputs": [
    {
     "data": {
      "text/plain": [
       "'Overflow'"
      ]
     },
     "execution_count": 72,
     "metadata": {},
     "output_type": "execute_result"
    }
   ],
   "source": [
    "c.push(50)"
   ]
  },
  {
   "cell_type": "code",
   "execution_count": 150,
   "id": "006641fb-c99a-470a-9260-ce81cf9e1ed4",
   "metadata": {},
   "outputs": [
    {
     "name": "stdout",
     "output_type": "stream",
     "text": [
      "40\n"
     ]
    }
   ],
   "source": [
    "c.pop()"
   ]
  },
  {
   "cell_type": "code",
   "execution_count": 151,
   "id": "03a39788-0866-4564-b996-9ae6c3bcf907",
   "metadata": {},
   "outputs": [
    {
     "ename": "TypeError",
     "evalue": "__str__ returned non-string (type NoneType)",
     "output_type": "error",
     "traceback": [
      "\u001b[1;31m---------------------------------------------------------------------------\u001b[0m",
      "\u001b[1;31mTypeError\u001b[0m                                 Traceback (most recent call last)",
      "Cell \u001b[1;32mIn[151], line 1\u001b[0m\n\u001b[1;32m----> 1\u001b[0m \u001b[38;5;28mprint\u001b[39m(c)\n",
      "\u001b[1;31mTypeError\u001b[0m: __str__ returned non-string (type NoneType)"
     ]
    }
   ],
   "source": [
    "print(c)"
   ]
  },
  {
   "cell_type": "code",
   "execution_count": null,
   "id": "7f42ad0e-d94c-460e-809a-c72996f37ecd",
   "metadata": {},
   "outputs": [],
   "source": []
  }
 ],
 "metadata": {
  "kernelspec": {
   "display_name": "Python 3 (ipykernel)",
   "language": "python",
   "name": "python3"
  },
  "language_info": {
   "codemirror_mode": {
    "name": "ipython",
    "version": 3
   },
   "file_extension": ".py",
   "mimetype": "text/x-python",
   "name": "python",
   "nbconvert_exporter": "python",
   "pygments_lexer": "ipython3",
   "version": "3.11.7"
  }
 },
 "nbformat": 4,
 "nbformat_minor": 5
}
