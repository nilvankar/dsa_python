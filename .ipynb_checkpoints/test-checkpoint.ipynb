{
 "cells": [
  {
   "cell_type": "code",
   "execution_count": 26,
   "id": "419a2a7e-c5e7-44ee-b205-ed85110c0c70",
   "metadata": {},
   "outputs": [],
   "source": []
  },
  {
   "cell_type": "code",
   "execution_count": 92,
   "id": "783b3486-2cf3-492d-aa16-10734b30c6ef",
   "metadata": {},
   "outputs": [],
   "source": [
    "class Node:\n",
    "    def __init__(self,value):\n",
    "        self.data=value\n",
    "        self.next=None\n",
    "class Stack:\n",
    "    def __init__(self):\n",
    "        self.n=0\n",
    "        self.top=None\n",
    "    def peek(self):\n",
    "        return self.top\n",
    "    def isEmpty(self):\n",
    "        if self.top==None:\n",
    "            return True\n",
    "        else:\n",
    "            return False\n",
    "    def push(self,value):\n",
    "        new_node=Node(value)\n",
    "        new_node.next=self.top\n",
    "        self.top=new_node\n",
    "        self.n+=1\n",
    "    def show(self):\n",
    "        curr=self.top\n",
    "        while curr!=None:\n",
    "            print(curr.data)\n",
    "            curr=curr.next\n",
    "    def pop(self):\n",
    "        if self.top==None:\n",
    "            return 'UnderFlow'\n",
    "        self.top=self.top.next\n",
    "        self.n-=1"
   ]
  },
  {
   "cell_type": "code",
   "execution_count": 100,
   "id": "6e4a7a9f-2be3-4fe6-b4d8-d3965c220141",
   "metadata": {},
   "outputs": [],
   "source": [
    "c=Stack()"
   ]
  },
  {
   "cell_type": "code",
   "execution_count": 79,
   "id": "bde80d77-55dc-4122-b00a-2224c45c0672",
   "metadata": {},
   "outputs": [],
   "source": [
    "c.peek()"
   ]
  },
  {
   "cell_type": "code",
   "execution_count": 80,
   "id": "db43254c-7343-4ff6-8c04-b7787bf4acb0",
   "metadata": {},
   "outputs": [
    {
     "data": {
      "text/plain": [
       "True"
      ]
     },
     "execution_count": 80,
     "metadata": {},
     "output_type": "execute_result"
    }
   ],
   "source": [
    "c.isEmpty()"
   ]
  },
  {
   "cell_type": "code",
   "execution_count": 101,
   "id": "da4d3ad2-67c2-4a16-a38d-1a30ce9ce13e",
   "metadata": {},
   "outputs": [],
   "source": [
    "c.push(10)"
   ]
  },
  {
   "cell_type": "code",
   "execution_count": 102,
   "id": "bb397b3d-89ce-40a9-be8e-8cceaa69a331",
   "metadata": {},
   "outputs": [
    {
     "name": "stdout",
     "output_type": "stream",
     "text": [
      "10\n"
     ]
    }
   ],
   "source": [
    "c.show()"
   ]
  },
  {
   "cell_type": "code",
   "execution_count": 103,
   "id": "d08afe32-0ada-4c2d-a107-7c7425042107",
   "metadata": {},
   "outputs": [],
   "source": [
    "c.push(23.4)\n",
    "c.push(5.6)\n",
    "c.push(3.7)\n",
    "c.push(5.0)"
   ]
  },
  {
   "cell_type": "code",
   "execution_count": 108,
   "id": "205af510-f87d-45e1-9271-72afee12ff72",
   "metadata": {},
   "outputs": [
    {
     "name": "stdout",
     "output_type": "stream",
     "text": [
      "5.6\n",
      "23.4\n",
      "10\n"
     ]
    }
   ],
   "source": [
    "c.show()"
   ]
  },
  {
   "cell_type": "code",
   "execution_count": 107,
   "id": "ccdf8eda-1498-49cd-9d06-7e5ef9b7d1b2",
   "metadata": {},
   "outputs": [],
   "source": [
    "c.pop()"
   ]
  },
  {
   "cell_type": "markdown",
   "id": "89481613-454a-492f-b885-5fef1103ff92",
   "metadata": {},
   "source": [
    "# Stack array implementation"
   ]
  },
  {
   "cell_type": "code",
   "execution_count": 175,
   "id": "ebb23b91-500d-4aa0-a28f-782004dd814b",
   "metadata": {},
   "outputs": [],
   "source": [
    "class Stack:\n",
    "    def __init__(self,size):\n",
    "        self.size=size\n",
    "        self.top=-1\n",
    "        self.stack=[None]*self.size\n",
    "    def peek(self):\n",
    "        return self.top\n",
    "    def isEmpty(self):\n",
    "        if self.top==-1:\n",
    "            return True\n",
    "        else:\n",
    "            return False\n",
    "    def push(self,value):\n",
    "        if self.top==self.size-1:\n",
    "            return 'OverFlow'\n",
    "        self.stack[self.top]=value\n",
    "        self.top+=1\n",
    "    def pop(self):\n",
    "        if self.top==-1:\n",
    "            return 'UnderFlow'\n",
    "        data=self.stack[self.top]\n",
    "        self.top-=1\n",
    "        print(data)\n",
    "    def show(self):\n",
    "        for i in range(self.top+1):\n",
    "            print(self.stack[i],end=\" \")"
   ]
  },
  {
   "cell_type": "code",
   "execution_count": 176,
   "id": "b810325b-801d-43ca-bf93-141ac7e52c48",
   "metadata": {},
   "outputs": [],
   "source": [
    "cc=Stack(4)"
   ]
  },
  {
   "cell_type": "code",
   "execution_count": 177,
   "id": "e1bf4226-e4e6-43c4-8d0f-314cc202fb26",
   "metadata": {},
   "outputs": [
    {
     "data": {
      "text/plain": [
       "[None, None, None, None]"
      ]
     },
     "execution_count": 177,
     "metadata": {},
     "output_type": "execute_result"
    }
   ],
   "source": [
    "cc.stack"
   ]
  },
  {
   "cell_type": "code",
   "execution_count": 178,
   "id": "7633ccae-ad38-476a-a411-843f2c0a3bdf",
   "metadata": {},
   "outputs": [
    {
     "data": {
      "text/plain": [
       "-1"
      ]
     },
     "execution_count": 178,
     "metadata": {},
     "output_type": "execute_result"
    }
   ],
   "source": [
    "cc.peek()"
   ]
  },
  {
   "cell_type": "code",
   "execution_count": 179,
   "id": "6ca06650-a109-4136-87d6-5a802d34f76d",
   "metadata": {},
   "outputs": [
    {
     "data": {
      "text/plain": [
       "True"
      ]
     },
     "execution_count": 179,
     "metadata": {},
     "output_type": "execute_result"
    }
   ],
   "source": [
    "cc.isEmpty()"
   ]
  },
  {
   "cell_type": "code",
   "execution_count": 183,
   "id": "e9802762-b84f-4a55-8532-f5f1cd86f457",
   "metadata": {},
   "outputs": [],
   "source": [
    "cc.push(10)"
   ]
  },
  {
   "cell_type": "code",
   "execution_count": 184,
   "id": "3b20e303-9f58-418f-bb8f-9e72e71427f8",
   "metadata": {},
   "outputs": [
    {
     "name": "stdout",
     "output_type": "stream",
     "text": [
      "10 None "
     ]
    }
   ],
   "source": [
    "cc.show()"
   ]
  },
  {
   "cell_type": "code",
   "execution_count": null,
   "id": "01f1275b-00b4-4943-b3a7-d3fd6922657c",
   "metadata": {},
   "outputs": [],
   "source": []
  }
 ],
 "metadata": {
  "kernelspec": {
   "display_name": "Python 3 (ipykernel)",
   "language": "python",
   "name": "python3"
  },
  "language_info": {
   "codemirror_mode": {
    "name": "ipython",
    "version": 3
   },
   "file_extension": ".py",
   "mimetype": "text/x-python",
   "name": "python",
   "nbconvert_exporter": "python",
   "pygments_lexer": "ipython3",
   "version": "3.11.7"
  }
 },
 "nbformat": 4,
 "nbformat_minor": 5
}
