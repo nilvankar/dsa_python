{
 "cells": [
  {
   "cell_type": "markdown",
   "id": "d55bd75d-9345-435a-bbc3-917c760ae20a",
   "metadata": {},
   "source": [
    "Linear Search\n",
    "* time complexity O(n) double input time also double"
   ]
  },
  {
   "cell_type": "code",
   "execution_count": 1,
   "id": "c948e5e9-60fe-420a-960d-15e3e2a9a8a4",
   "metadata": {},
   "outputs": [],
   "source": [
    "L=[23,43,67,4,8,2,4,5,10,44,88]"
   ]
  },
  {
   "cell_type": "code",
   "execution_count": 63,
   "id": "36d859d0-c073-4a43-960d-78626f737dbe",
   "metadata": {},
   "outputs": [
    {
     "data": {
      "text/plain": [
       "[88, 2, 4, 4, 5, 8, 10, 23, 43, 44, 67]"
      ]
     },
     "execution_count": 63,
     "metadata": {},
     "output_type": "execute_result"
    }
   ],
   "source": [
    "L"
   ]
  },
  {
   "cell_type": "code",
   "execution_count": 23,
   "id": "564858a5-6899-4803-b934-4ec8beb9b9be",
   "metadata": {},
   "outputs": [],
   "source": [
    "def linear_search(array,search):\n",
    "        for i in range(len(array)):\n",
    "            if array[i]==search:\n",
    "                return i\n",
    "        return 'ValueError'"
   ]
  },
  {
   "cell_type": "code",
   "execution_count": 24,
   "id": "85d941e0-cf29-40f9-9287-02e34cbfdcf9",
   "metadata": {},
   "outputs": [
    {
     "data": {
      "text/plain": [
       "3"
      ]
     },
     "execution_count": 24,
     "metadata": {},
     "output_type": "execute_result"
    }
   ],
   "source": [
    "linear_search(L,4)"
   ]
  },
  {
   "cell_type": "markdown",
   "id": "3cbfb687-f94e-4f04-8773-d5a569e47715",
   "metadata": {},
   "source": [
    "## Binary search\n",
    "* sorting required"
   ]
  },
  {
   "cell_type": "code",
   "execution_count": 64,
   "id": "43ed367f-d32c-4cef-94c0-5cf97a596c09",
   "metadata": {},
   "outputs": [],
   "source": [
    "def binary_search(arr,low,high,item):\n",
    "    if low<=high:\n",
    "        pass\n",
    "    else:\n",
    "        return -1"
   ]
  },
  {
   "cell_type": "code",
   "execution_count": null,
   "id": "c0ef7049-b62b-41a3-afe9-30f5542c93da",
   "metadata": {},
   "outputs": [],
   "source": []
  },
  {
   "cell_type": "code",
   "execution_count": null,
   "id": "efd590b1-daa0-4d93-9553-45a14218ec23",
   "metadata": {},
   "outputs": [],
   "source": []
  },
  {
   "cell_type": "code",
   "execution_count": null,
   "id": "bad8dd56-cded-47e0-aa46-88a07dc4ea34",
   "metadata": {},
   "outputs": [],
   "source": []
  },
  {
   "cell_type": "code",
   "execution_count": null,
   "id": "b4318819-ff70-4cec-b86f-92a00da8f970",
   "metadata": {},
   "outputs": [],
   "source": []
  }
 ],
 "metadata": {
  "kernelspec": {
   "display_name": "Python 3 (ipykernel)",
   "language": "python",
   "name": "python3"
  },
  "language_info": {
   "codemirror_mode": {
    "name": "ipython",
    "version": 3
   },
   "file_extension": ".py",
   "mimetype": "text/x-python",
   "name": "python",
   "nbconvert_exporter": "python",
   "pygments_lexer": "ipython3",
   "version": "3.11.7"
  }
 },
 "nbformat": 4,
 "nbformat_minor": 5
}
