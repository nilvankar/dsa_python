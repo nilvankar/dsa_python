{
 "cells": [
  {
   "cell_type": "markdown",
   "id": "cc2abbfd-04cd-41eb-8f1a-3d6fd989b27d",
   "metadata": {},
   "source": [
    "# Array\n",
    "* A type of linear data structure that store elements in continuous memory allocation\n",
    "* It only stores similar type of data so one array cannot have integers and string together.\n",
    "* Once array get initalize its size cannot be change"
   ]
  },
  {
   "cell_type": "markdown",
   "id": "e1a18975-c9d9-4873-8d66-affb4fdb10e3",
   "metadata": {},
   "source": [
    "## Refrencial arrays\n",
    "* It doesnt store values it store refrence(address) of value so it support multiple type of data because it is storing only address which all are number"
   ]
  },
  {
   "cell_type": "markdown",
   "id": "d05342ef-a600-4b78-91d8-c7ea9c377f34",
   "metadata": {},
   "source": [
    "## Dynamic Arrays\n",
    "* Once it gets initalize whenever we want we can change size of array\n",
    "* example --Python list"
   ]
  },
  {
   "cell_type": "code",
   "execution_count": 1,
   "id": "1909b48e-7c80-4c28-b221-d1c80e400162",
   "metadata": {},
   "outputs": [],
   "source": [
    "import sys\n"
   ]
  },
  {
   "cell_type": "code",
   "execution_count": 2,
   "id": "adfda1a0-017c-467c-ac95-b64a8eaefc85",
   "metadata": {},
   "outputs": [
    {
     "data": {
      "text/plain": [
       "56"
      ]
     },
     "execution_count": 2,
     "metadata": {},
     "output_type": "execute_result"
    }
   ],
   "source": [
    "L=[]\n",
    "sys.getsizeof(L)"
   ]
  },
  {
   "cell_type": "code",
   "execution_count": 3,
   "id": "be22ac33-e963-4028-88ed-4b33e406ffd1",
   "metadata": {},
   "outputs": [],
   "source": [
    "L.append(123)"
   ]
  },
  {
   "cell_type": "code",
   "execution_count": 4,
   "id": "2de998ab-d323-435b-859e-707abd19f664",
   "metadata": {},
   "outputs": [
    {
     "data": {
      "text/plain": [
       "88"
      ]
     },
     "execution_count": 4,
     "metadata": {},
     "output_type": "execute_result"
    }
   ],
   "source": [
    "sys.getsizeof(L)"
   ]
  },
  {
   "cell_type": "code",
   "execution_count": 5,
   "id": "98469581-c66c-4ea3-974a-2a595eaeeb6a",
   "metadata": {},
   "outputs": [],
   "source": [
    "L.append(2456)"
   ]
  },
  {
   "cell_type": "code",
   "execution_count": 6,
   "id": "602f335e-5b16-4d9a-aac9-f1d861c484d8",
   "metadata": {},
   "outputs": [
    {
     "data": {
      "text/plain": [
       "88"
      ]
     },
     "execution_count": 6,
     "metadata": {},
     "output_type": "execute_result"
    }
   ],
   "source": [
    "sys.getsizeof(L)"
   ]
  },
  {
   "cell_type": "code",
   "execution_count": 8,
   "id": "5bc40f08-ef15-4eb6-ba41-a8050a8a8b87",
   "metadata": {},
   "outputs": [],
   "source": [
    "L.append(2456)"
   ]
  },
  {
   "cell_type": "code",
   "execution_count": 9,
   "id": "9a412efe-7598-485d-8b9b-51074677ca98",
   "metadata": {},
   "outputs": [
    {
     "data": {
      "text/plain": [
       "88"
      ]
     },
     "execution_count": 9,
     "metadata": {},
     "output_type": "execute_result"
    }
   ],
   "source": [
    "sys.getsizeof(L)"
   ]
  },
  {
   "cell_type": "code",
   "execution_count": 10,
   "id": "3b029d72-c1c0-4c29-bdd1-c5fe1711a148",
   "metadata": {},
   "outputs": [],
   "source": [
    "L.append(2456)"
   ]
  },
  {
   "cell_type": "code",
   "execution_count": 11,
   "id": "f6132f90-aba3-4578-b6bd-77511f61fa05",
   "metadata": {},
   "outputs": [
    {
     "data": {
      "text/plain": [
       "88"
      ]
     },
     "execution_count": 11,
     "metadata": {},
     "output_type": "execute_result"
    }
   ],
   "source": [
    "sys.getsizeof(L)"
   ]
  },
  {
   "cell_type": "code",
   "execution_count": 12,
   "id": "5c9125ea-ed49-4174-a83b-e71cdcf6e4ab",
   "metadata": {},
   "outputs": [],
   "source": [
    "L.append(2456)"
   ]
  },
  {
   "cell_type": "code",
   "execution_count": 13,
   "id": "606df766-df7b-4cda-9aba-92f42eeba525",
   "metadata": {},
   "outputs": [
    {
     "data": {
      "text/plain": [
       "120"
      ]
     },
     "execution_count": 13,
     "metadata": {},
     "output_type": "execute_result"
    }
   ],
   "source": [
    "sys.getsizeof(L)"
   ]
  },
  {
   "cell_type": "code",
   "execution_count": 16,
   "id": "47f381f7-2a2c-4d26-a69b-8596a6c27a28",
   "metadata": {},
   "outputs": [],
   "source": [
    "L.append(2456)\n",
    "L.append(2456)\n",
    "L.append(2456)\n",
    "L.append(2456)\n",
    "L.append(2456)\n",
    "L.append(2456)"
   ]
  },
  {
   "cell_type": "code",
   "execution_count": 17,
   "id": "d3555bd5-6d73-479c-8519-0b257f7e3429",
   "metadata": {},
   "outputs": [
    {
     "data": {
      "text/plain": [
       "248"
      ]
     },
     "execution_count": 17,
     "metadata": {},
     "output_type": "execute_result"
    }
   ],
   "source": [
    "sys.getsizeof(L)"
   ]
  },
  {
   "cell_type": "markdown",
   "id": "31e68fb3-0818-44a8-bc23-64ba52613e19",
   "metadata": {},
   "source": [
    "## Custom Array"
   ]
  },
  {
   "cell_type": "code",
   "execution_count": 32,
   "id": "35c7408c-f47c-4f07-9b82-e9f2e37f2ce7",
   "metadata": {},
   "outputs": [],
   "source": [
    "import ctypes"
   ]
  },
  {
   "cell_type": "code",
   "execution_count": 334,
   "id": "ad379a5a-cdeb-45b9-9b19-e7ff946aee3a",
   "metadata": {},
   "outputs": [],
   "source": [
    "class CustomList:\n",
    "    def __init__(self):\n",
    "        self.size=1  #total number of element can be store\n",
    "        self.n=0  #current number of element\n",
    "    #create ctype array\n",
    "        self.A= self.__createArray(self.size)\n",
    "    def __createArray(self,capacity):\n",
    "        return (capacity*ctypes.py_object)()\n",
    "    def __len__(self):\n",
    "        return self.n\n",
    "    def __str__(self):\n",
    "        res=''\n",
    "        for i in range(self.n):\n",
    "            res=res+str(self.A[i])+','\n",
    "        return '['+res[:-1]+']'\n",
    "    def append(self,item):\n",
    "        if(self.n==self.size):\n",
    "            self.__resize(self.size*2)\n",
    "        #append\n",
    "        self.A[self.n]=item\n",
    "        self.n=self.n+1\n",
    "    def __resize(self,new_capacity):\n",
    "        self.B=self.__createArray(new_capacity)\n",
    "        self.size=new_capacity\n",
    "        # copying content of A to B\n",
    "        for i in range(self.n):\n",
    "            self.B[i]=self.A[i]\n",
    "        #reassign A to B\n",
    "        self.A=self.B\n",
    "    def __getitem__(self,indexvalue):\n",
    "        if(0<=indexvalue<self.n):\n",
    "            return self.A[indexvalue]\n",
    "        else:\n",
    "            return 'IndexError'\n",
    "    def pop(self):\n",
    "        if self.n==0:\n",
    "            return 'empy list'\n",
    "        print(self.A[self.n-1])\n",
    "        self.n=self.n-1\n",
    "    def clear(self):\n",
    "        self.n=0\n",
    "        self.size=1\n",
    "    def indexOf(self,item):\n",
    "        for i in range(self.n):\n",
    "            if self.A[i]==item:\n",
    "                return i\n",
    "        return 'ValueError'\n",
    "    def insert(self,indexvalue,item):\n",
    "        if(self.n==self.size):\n",
    "            self.__resize(self.size*2)\n",
    "        for i in range(self.n,indexvalue,-1):\n",
    "            self.A[i]=self.A[i-1]\n",
    "        self.A[indexvalue]=item\n",
    "        self.n=self.n+1\n",
    "    def __delitem__(self,indexvalue):\n",
    "        if 0<=indexvalue<self.n:\n",
    "            for i in range(indexvalue,self.n-1):\n",
    "                self.A[i]=self.A[i+1]\n",
    "            self.n=self.n-1\n",
    "        else:\n",
    "            'not possible'\n",
    "\n",
    "    def remove(self,item):\n",
    "        pos= self.indexOf(item)\n",
    "        if type(pos)==int:\n",
    "            self.__delitem__(pos)\n",
    "        else:\n",
    "            return 'ValueError' \n",
    "    # def sort(self,reverse):\n",
    "    #     if type(reverse)!=bool:\n",
    "    #         'please provide ascending or descending order'\n",
    "    #     elif(reverse==True):\n",
    "    #         for \n",
    "    def min(self):\n",
    "        pass\n",
    "    def max(self):\n",
    "        pass\n",
    "    def sum(self):\n",
    "        pass\n",
    "    def extend(self):\n",
    "        pass\n",
    "    def merge(self):\n",
    "        pass\n",
    "          "
   ]
  },
  {
   "cell_type": "code",
   "execution_count": 335,
   "id": "8a7c9efc-56b3-4251-bc47-212938b0f405",
   "metadata": {},
   "outputs": [],
   "source": [
    "p=CustomList()"
   ]
  },
  {
   "cell_type": "code",
   "execution_count": 336,
   "id": "5864e71e-1b42-4525-9b0c-cf523b62b397",
   "metadata": {},
   "outputs": [],
   "source": [
    "p.append(1)\n",
    "p.append(2)\n",
    "p.append(3)\n",
    "p.append(4)"
   ]
  },
  {
   "cell_type": "code",
   "execution_count": 323,
   "id": "7239bf53-38ba-470f-aff1-cb19bb5ce048",
   "metadata": {},
   "outputs": [
    {
     "name": "stdout",
     "output_type": "stream",
     "text": [
      "[1,2,3,4]\n"
     ]
    }
   ],
   "source": [
    "print(p)"
   ]
  },
  {
   "cell_type": "code",
   "execution_count": 316,
   "id": "144f8945-0006-4357-9b7b-b2345f5db9ac",
   "metadata": {},
   "outputs": [],
   "source": [
    "del p[0]"
   ]
  },
  {
   "cell_type": "code",
   "execution_count": 318,
   "id": "bd83dd05-c1ab-4660-a725-d7d6966c8d93",
   "metadata": {},
   "outputs": [],
   "source": [
    "L=[1,2,3,2]\n",
    "L.remove(2)"
   ]
  },
  {
   "cell_type": "code",
   "execution_count": 319,
   "id": "9754f459-bb8c-4685-b610-067bef223692",
   "metadata": {},
   "outputs": [
    {
     "data": {
      "text/plain": [
       "[1, 3, 2]"
      ]
     },
     "execution_count": 319,
     "metadata": {},
     "output_type": "execute_result"
    }
   ],
   "source": [
    "L"
   ]
  },
  {
   "cell_type": "code",
   "execution_count": 330,
   "id": "0456d28d-0d62-446c-adcc-cc44fb354764",
   "metadata": {},
   "outputs": [],
   "source": [
    "p.remove(3)"
   ]
  },
  {
   "cell_type": "code",
   "execution_count": 338,
   "id": "c33882d5-23dc-47fd-9f56-7383d88c0d4c",
   "metadata": {},
   "outputs": [
    {
     "name": "stdout",
     "output_type": "stream",
     "text": [
      "[1,2,3,4]\n"
     ]
    }
   ],
   "source": [
    "print(p)"
   ]
  },
  {
   "cell_type": "code",
   "execution_count": 332,
   "id": "12bed2c3-4301-49b5-b481-926071e5f862",
   "metadata": {},
   "outputs": [],
   "source": [
    "L=[1,2,3,4,5]"
   ]
  },
  {
   "cell_type": "code",
   "execution_count": 333,
   "id": "82687687-9cb3-40de-a8f0-28781b72aca7",
   "metadata": {},
   "outputs": [
    {
     "data": {
      "text/plain": [
       "[1, 2, 3, 4, 5]"
      ]
     },
     "execution_count": 333,
     "metadata": {},
     "output_type": "execute_result"
    }
   ],
   "source": [
    "L"
   ]
  },
  {
   "cell_type": "code",
   "execution_count": 337,
   "id": "b0f39fc2-65fb-4711-a764-7622740d42a0",
   "metadata": {},
   "outputs": [],
   "source": [
    "p.sort()"
   ]
  },
  {
   "cell_type": "code",
   "execution_count": null,
   "id": "2404fefd-733e-421c-a860-fefc91edf1ef",
   "metadata": {},
   "outputs": [],
   "source": []
  }
 ],
 "metadata": {
  "kernelspec": {
   "display_name": "Python 3 (ipykernel)",
   "language": "python",
   "name": "python3"
  },
  "language_info": {
   "codemirror_mode": {
    "name": "ipython",
    "version": 3
   },
   "file_extension": ".py",
   "mimetype": "text/x-python",
   "name": "python",
   "nbconvert_exporter": "python",
   "pygments_lexer": "ipython3",
   "version": "3.11.7"
  }
 },
 "nbformat": 4,
 "nbformat_minor": 5
}
