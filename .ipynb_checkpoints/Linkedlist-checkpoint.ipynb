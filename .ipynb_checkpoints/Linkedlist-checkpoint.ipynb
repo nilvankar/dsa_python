{
 "cells": [
  {
   "cell_type": "markdown",
   "id": "f51bdb42-d9b7-4ef3-9450-7cddf212eaae",
   "metadata": {},
   "source": [
    "# Linkedlist\n",
    "* A type of linear data structure that allocates memory dynamically for elements.\n",
    "* Linkedlist is a collection of nodes\n",
    "* Each Node has value and refrence(address) of next node and this is how nodes create chain\n",
    "* The first node is called head and last node is called tail\n",
    "* Last node has None as a refrence.\n",
    "* Linkedlist works on FIFO (First in First out) the first node inserted will be deleted first"
   ]
  },
  {
   "cell_type": "code",
   "execution_count": 2,
   "id": "bf574809-f7df-41f1-a542-318f1ae58e96",
   "metadata": {},
   "outputs": [],
   "source": [
    "class Node:\n",
    "    def __init__(self,value):\n",
    "        self.data=value\n",
    "        self.next=None"
   ]
  },
  {
   "cell_type": "markdown",
   "id": "0f2f5b8d-37c3-4ccb-9f6b-59cb535e4bdc",
   "metadata": {},
   "source": [
    "# Linkedlist operations\n",
    "## insertion\n",
    "* Insert at head\n",
    "* Insert at last(append)\n",
    "* Insert at after given value present in linekdlist (insert)\n",
    "## deletion\n",
    "* delete at head\n",
    "* delete at last(pop)\n",
    "* clear\n",
    "* Insert   given value present in linekdlist (remove)\n",
    "## traversing\n",
    "* '\\__str__' method\n",
    "## number of nodes in linkedlist\n",
    "'\\__len__' function return counter\n",
    "## seraching\n",
    "* by index ('\\__getitem__' dunder method)\n",
    "* index function take value as argument return index\n",
    "## sort\n",
    "* ascending or descending order\n",
    "## reverse\n",
    "* head becomes tail of linkedlist"
   ]
  },
  {
   "cell_type": "code",
   "execution_count": 53,
   "id": "2ba27008-d42f-445e-858b-7172fe0378a4",
   "metadata": {},
   "outputs": [],
   "source": [
    "class Node:\n",
    "    def __init__(self,value):\n",
    "        self.data=value\n",
    "        self.next=None\n",
    "class Linkedlist:\n",
    "    def __init__(self):\n",
    "        self.head=None\n",
    "        self.n=0\n",
    "    # returns number of nodes\n",
    "    def __len__(self):\n",
    "        return self.n\n",
    "    # print logic\n",
    "    def __str__(self):\n",
    "        res=''\n",
    "        curr=self.head\n",
    "        while curr!=None:\n",
    "            res=res+str(curr.data)+'->'\n",
    "            curr=curr.next\n",
    "        return res[:-2]\n",
    "    # insert at head\n",
    "    def insert_head(self,value):\n",
    "        newnode=Node(value)\n",
    "        newnode.next=self.head  #new node initially point towards None now it refrence to head\n",
    "        self.head=newnode #new node becomes head node\n",
    "        self.n+=1 #counter incrementation after insertion\n",
    "    # insert ar last\n",
    "    def append(self,value):\n",
    "        newnode=Node(value)\n",
    "        curr=self.head\n",
    "        while curr.next!=None:\n",
    "            curr=curr.next  #incremental condition\n",
    "        curr.next=newnode  #now the next of last item refrence to new node\n",
    "        self.n+=1  #counter incrementation after insertion\n",
    "        \n",
    "    # insert after given value\n",
    "    def insert(self,after,value):\n",
    "        newnode=Node(value)\n",
    "        curr=self.head\n",
    "        while curr!=None:\n",
    "            if curr.data==after:\n",
    "                break\n",
    "            curr=curr.next\n",
    "        if curr!=None:\n",
    "            newnode.next=curr.next\n",
    "            curr.next=newnode\n",
    "            self.n+=1\n",
    "        else:\n",
    "            'ValueError:after is not present in linkedlist'\n",
    "    # deletion\n",
    "    # clear function make entire linkedlist empty -->re initallized the consturctor\n",
    "    def clear(self):\n",
    "        self.n=0\n",
    "        self.head=None\n",
    "    # delete at head\n",
    "\n",
    "    def delete_head(self):\n",
    "        if self.head==None:\n",
    "            return 'Empty Linkedlist'\n",
    "        self.head=self.head.next\n",
    "    def pop(self):\n",
    "        if self.head==None:\n",
    "            return 'Empty Linkedlist'\n",
    "        curr=self.head\n",
    "        if curr.next==None:\n",
    "            return self.delete_head()\n",
    "        while curr.next!=None:  #iterate\n",
    "            if curr.next.next==None:  #second last before tail\n",
    "                break\n",
    "            curr=curr.next #last tail connection from second last node break\n",
    "        curr.next=None\n",
    "        self.n-=1\n",
    "    def remove(self,value):\n",
    "        curr=self.head\n",
    "        if curr==None:\n",
    "            return 'Empty Linkedlist'\n",
    "        if curr.data==value:\n",
    "            return self.delete_head()\n",
    "        while curr.next!=None:\n",
    "            if curr.next.data==value:\n",
    "                break\n",
    "            curr=curr.next\n",
    "        curr.next=curr.next.next\n",
    "        self.n-=1\n",
    "    # traversing\n",
    "    def __getitem__(self,index):\n",
    "        pos=0\n",
    "        curr=self.head\n",
    "        while curr!=None:\n",
    "            if pos==index:\n",
    "                return curr.data\n",
    "            curr=curr.next\n",
    "            pos+=1\n",
    "        return 'IndexError'\n",
    "    def index(self,value):\n",
    "        pos=0\n",
    "        curr=self.head\n",
    "        while curr!=None:\n",
    "            if curr.data==value:\n",
    "                return pos\n",
    "            curr=curr.next\n",
    "            pos+=1\n",
    "        return 'ValueError'\n",
    "    #reverse linkedlist\n",
    "    def reverse(self):\n",
    "        curr=self.head\n",
    "        prev_node=None\n",
    "        while curr!=None:\n",
    "            next_node=curr.next\n",
    "            curr.next=prev_node\n",
    "            prev_node=curr\n",
    "            curr=next_node\n",
    "        self.head=prev_node"
   ]
  },
  {
   "cell_type": "code",
   "execution_count": 54,
   "id": "38f24c81-8ee2-4418-a563-2ba18351f7f7",
   "metadata": {},
   "outputs": [],
   "source": [
    "ll=Linkedlist()"
   ]
  },
  {
   "cell_type": "code",
   "execution_count": 55,
   "id": "46594d1a-eaa1-46ee-a383-36f0f3cacf99",
   "metadata": {},
   "outputs": [],
   "source": [
    "ll.insert_head(10)\n",
    "ll.insert_head(20)\n",
    "ll.insert_head(30)\n",
    "ll.insert_head(40)"
   ]
  },
  {
   "cell_type": "code",
   "execution_count": 54,
   "id": "8d88153b-babb-45ca-8713-2289ec4826d1",
   "metadata": {},
   "outputs": [
    {
     "data": {
      "text/plain": [
       "4"
      ]
     },
     "execution_count": 54,
     "metadata": {},
     "output_type": "execute_result"
    }
   ],
   "source": [
    "len(ll)"
   ]
  },
  {
   "cell_type": "code",
   "execution_count": 55,
   "id": "f2816a73-cf98-4523-a400-da0479b8ba35",
   "metadata": {},
   "outputs": [
    {
     "name": "stdout",
     "output_type": "stream",
     "text": [
      "40->30->20->10\n"
     ]
    }
   ],
   "source": [
    "print(ll)"
   ]
  },
  {
   "cell_type": "code",
   "execution_count": 11,
   "id": "cab78acd-9b4a-45a0-9822-bd3cd9fbc96f",
   "metadata": {},
   "outputs": [],
   "source": [
    "ll.append(50)"
   ]
  },
  {
   "cell_type": "code",
   "execution_count": 18,
   "id": "dc13f750-ea77-4bac-8955-8ab0719520e8",
   "metadata": {},
   "outputs": [],
   "source": [
    "ll.clear()"
   ]
  },
  {
   "cell_type": "code",
   "execution_count": 26,
   "id": "9888d3fd-6885-4959-a388-49c2603c0740",
   "metadata": {},
   "outputs": [
    {
     "name": "stdout",
     "output_type": "stream",
     "text": [
      "40->30->20->10\n"
     ]
    }
   ],
   "source": [
    "print(ll)"
   ]
  },
  {
   "cell_type": "code",
   "execution_count": 35,
   "id": "20f973b7-e990-4460-acea-a8cd777bfa9d",
   "metadata": {},
   "outputs": [
    {
     "data": {
      "text/plain": [
       "'Empty Linkedlist'"
      ]
     },
     "execution_count": 35,
     "metadata": {},
     "output_type": "execute_result"
    }
   ],
   "source": [
    "ll.delete_head()"
   ]
  },
  {
   "cell_type": "code",
   "execution_count": 40,
   "id": "e2c6fa9f-2b25-4855-9d5d-06868574d420",
   "metadata": {},
   "outputs": [
    {
     "name": "stdout",
     "output_type": "stream",
     "text": [
      "40->30->20->10\n"
     ]
    }
   ],
   "source": [
    "print(ll)"
   ]
  },
  {
   "cell_type": "code",
   "execution_count": 37,
   "id": "a32283fd-7a82-416a-9a92-1092e4e5af9e",
   "metadata": {},
   "outputs": [
    {
     "data": {
      "text/plain": [
       "'Empty Linkedlist'"
      ]
     },
     "execution_count": 37,
     "metadata": {},
     "output_type": "execute_result"
    }
   ],
   "source": [
    "ll.pop()"
   ]
  },
  {
   "cell_type": "code",
   "execution_count": 70,
   "id": "f41a4d21-8d17-4c30-8284-d3151b909745",
   "metadata": {},
   "outputs": [
    {
     "data": {
      "text/plain": [
       "'Empty Linkedlist'"
      ]
     },
     "execution_count": 70,
     "metadata": {},
     "output_type": "execute_result"
    }
   ],
   "source": [
    "ll.pop()"
   ]
  },
  {
   "cell_type": "code",
   "execution_count": 79,
   "id": "9e4f704a-ddc5-47d0-a813-356ea4a09b77",
   "metadata": {},
   "outputs": [
    {
     "name": "stdout",
     "output_type": "stream",
     "text": [
      "40->30->20->10\n"
     ]
    }
   ],
   "source": [
    "print(ll)"
   ]
  },
  {
   "cell_type": "code",
   "execution_count": 72,
   "id": "9f7c3186-dcfa-437a-b468-3facceda684a",
   "metadata": {},
   "outputs": [],
   "source": [
    "c=[1,2,3]"
   ]
  },
  {
   "cell_type": "code",
   "execution_count": 73,
   "id": "c1746b60-4459-4111-8261-d235143b4249",
   "metadata": {},
   "outputs": [
    {
     "data": {
      "text/plain": [
       "[1, 2, 3]"
      ]
     },
     "execution_count": 73,
     "metadata": {},
     "output_type": "execute_result"
    }
   ],
   "source": [
    "c"
   ]
  },
  {
   "cell_type": "code",
   "execution_count": 74,
   "id": "54835c4c-4419-4943-afa8-b24f5cfea9ff",
   "metadata": {},
   "outputs": [
    {
     "data": {
      "text/plain": [
       "1"
      ]
     },
     "execution_count": 74,
     "metadata": {},
     "output_type": "execute_result"
    }
   ],
   "source": [
    "c[0]"
   ]
  },
  {
   "cell_type": "code",
   "execution_count": 103,
   "id": "948ff859-b798-4c4e-9895-f6f44f834d74",
   "metadata": {},
   "outputs": [
    {
     "data": {
      "text/plain": [
       "'IndexError'"
      ]
     },
     "execution_count": 103,
     "metadata": {},
     "output_type": "execute_result"
    }
   ],
   "source": [
    "ll[10]"
   ]
  },
  {
   "cell_type": "code",
   "execution_count": 39,
   "id": "d664a2fc-508f-48dd-a92a-49fcc9f2ee3c",
   "metadata": {},
   "outputs": [
    {
     "name": "stdout",
     "output_type": "stream",
     "text": [
      "40->120->30->120->20->120->10\n"
     ]
    }
   ],
   "source": [
    "print(ll)"
   ]
  },
  {
   "cell_type": "code",
   "execution_count": 38,
   "id": "30c37d8e-42ee-4ae1-bc38-0c25b2178d9a",
   "metadata": {},
   "outputs": [],
   "source": [
    "ll.insert(1000,120)"
   ]
  },
  {
   "cell_type": "code",
   "execution_count": 51,
   "id": "f744674e-8865-4d92-9481-719b6d97d1dc",
   "metadata": {},
   "outputs": [
    {
     "name": "stdout",
     "output_type": "stream",
     "text": [
      "\n"
     ]
    }
   ],
   "source": [
    "print(ll)"
   ]
  },
  {
   "cell_type": "code",
   "execution_count": 52,
   "id": "40295002-56dd-4448-bc6a-62e2be226661",
   "metadata": {},
   "outputs": [
    {
     "data": {
      "text/plain": [
       "'Empty Linkedlist'"
      ]
     },
     "execution_count": 52,
     "metadata": {},
     "output_type": "execute_result"
    }
   ],
   "source": [
    "ll.remove(30)"
   ]
  },
  {
   "cell_type": "code",
   "execution_count": 58,
   "id": "59903f8b-4801-4460-b52f-8a72aa815f33",
   "metadata": {},
   "outputs": [
    {
     "name": "stdout",
     "output_type": "stream",
     "text": [
      "10->20->30->40\n"
     ]
    }
   ],
   "source": [
    "print(ll)"
   ]
  },
  {
   "cell_type": "code",
   "execution_count": 57,
   "id": "e7036401-9bd1-4311-973f-1147ff597c90",
   "metadata": {},
   "outputs": [],
   "source": [
    "ll.reverse()"
   ]
  },
  {
   "cell_type": "markdown",
   "id": "2d9e9067-dc16-497b-9d8f-e9c2ab0237d0",
   "metadata": {},
   "source": [
    "## Linkedlist string problem"
   ]
  },
  {
   "cell_type": "code",
   "execution_count": 59,
   "id": "005abcbe-3667-4db6-b484-c9bcf8224597",
   "metadata": {},
   "outputs": [],
   "source": [
    "# take a characters as inputs in linkedlist \n",
    "# 1) if * or / than single whitespace\n",
    "# 2) if *,* or /,/ than single whitespace and after second * or / uppercase"
   ]
  },
  {
   "cell_type": "code",
   "execution_count": 130,
   "id": "8214260b-ce1b-470f-99de-90ff60165708",
   "metadata": {},
   "outputs": [],
   "source": [
    "class Node:\n",
    "    def __init__(self,value):\n",
    "        self.data=value\n",
    "        self.next=None\n",
    "class StringList:\n",
    "    def __init__(self):\n",
    "        self.head=None\n",
    "        self.n=0\n",
    "    # returns number of nodes\n",
    "    def __len__(self):\n",
    "        return self.n\n",
    "    # print logic\n",
    "    def __str__(self):\n",
    "        \n",
    "        curr=self.head\n",
    "        while curr!=None:\n",
    "            print(curr.data)\n",
    "            curr=curr.next\n",
    "        \n",
    "    # insert at head\n",
    "    def insert_head(self,value):\n",
    "        newnode=Node(value)\n",
    "        newnode.next=self.head  #new node initially point towards None now it refrence to head\n",
    "        self.head=newnode #new node becomes head node\n",
    "        self.n+=1 #counter incrementation after insertion\n",
    "    # insert ar last\n",
    "    def append(self,value):\n",
    "\n",
    "        new_node = Node(value)\n",
    "\n",
    "        if self.head == None:\n",
    "      # empty\n",
    "         self.head = new_node\n",
    "         self.n = self.n + 1\n",
    "         return\n",
    "\n",
    "        curr = self.head\n",
    "\n",
    "        while curr.next != None:\n",
    "          curr = curr.next\n",
    "\n",
    "    # you are at the last node\n",
    "        curr.next = new_node\n",
    "        self.n = self.n + 1\n",
    "    # insert after given value\n",
    "    def insert(self,after,value):\n",
    "        newnode=Node(value)\n",
    "        curr=self.head\n",
    "        while curr!=None:\n",
    "            if curr.data==after:\n",
    "                break\n",
    "            curr=curr.next\n",
    "        if curr!=None:\n",
    "            newnode.next=curr.next\n",
    "            curr.next=newnode\n",
    "            self.n+=1\n",
    "        else:\n",
    "            'ValueError:after is not present in linkedlist'\n",
    "    # deletion\n",
    "    # clear function make entire linkedlist empty -->re initallized the consturctor\n",
    "    def clear(self):\n",
    "        self.n=0\n",
    "        self.head=None\n",
    "    # delete at head\n",
    "\n",
    "    def delete_head(self):\n",
    "        if self.head==None:\n",
    "            return 'Empty Linkedlist'\n",
    "        self.head=self.head.next\n",
    "    def pop(self):\n",
    "        if self.head==None:\n",
    "            return 'Empty Linkedlist'\n",
    "        curr=self.head\n",
    "        if curr.next==None:\n",
    "            return self.delete_head()\n",
    "        while curr.next!=None:  #iterate\n",
    "            if curr.next.next==None:  #second last before tail\n",
    "                break\n",
    "            curr=curr.next #last tail connection from second last node break\n",
    "        curr.next=None\n",
    "        self.n-=1\n",
    "    def remove(self,value):\n",
    "        curr=self.head\n",
    "        if curr==None:\n",
    "            return 'Empty Linkedlist'\n",
    "        if curr.data==value:\n",
    "            return self.delete_head()\n",
    "        while curr.next!=None:\n",
    "            if curr.next.data==value:\n",
    "                break\n",
    "            curr=curr.next\n",
    "        curr.next=curr.next.next\n",
    "        self.n-=1\n",
    "    # traversing\n",
    "    def __getitem__(self,index):\n",
    "        pos=0\n",
    "        curr=self.head\n",
    "        while curr!=None:\n",
    "            if pos==index:\n",
    "                return curr.data\n",
    "            curr=curr.next\n",
    "            pos+=1\n",
    "        return 'IndexError'\n",
    "    def index(self,value):\n",
    "        pos=0\n",
    "        curr=self.head\n",
    "        while curr!=None:\n",
    "            if curr.data==value:\n",
    "                return pos\n",
    "            curr=curr.next\n",
    "            pos+=1\n",
    "        return 'ValueError'\n",
    "    #reverse linkedlist\n",
    "    def reverse(self):\n",
    "        curr=self.head\n",
    "        prev_node=None\n",
    "        while curr!=None:\n",
    "            next_node=curr.next\n",
    "            curr.next=prev_node\n",
    "            prev_node=curr\n",
    "            curr=next_node\n",
    "        self.head=prev_node\n",
    "    # string conversion\n",
    "    def stringConversion(self):\n",
    "        curr=self.head\n",
    "        while curr!=None:\n",
    "            if curr.data==\"*\" or curr.data==\"/\":\n",
    "                curr.data=\" \"\n",
    "            curr=curr.next"
   ]
  },
  {
   "cell_type": "code",
   "execution_count": 131,
   "id": "de7cf87a-ceee-42b7-9f1e-8c9010dee247",
   "metadata": {},
   "outputs": [],
   "source": [
    "str=StringList()"
   ]
  },
  {
   "cell_type": "code",
   "execution_count": 132,
   "id": "67bf707f-ab6d-4a9e-9995-4775d6b8342d",
   "metadata": {},
   "outputs": [],
   "source": [
    "str.append('*')\n",
    "str.append('M')\n",
    "str.append('y')\n",
    "str.append('/')\n",
    "str.append('n')\n",
    "str.append('a')\n",
    "str.append('m')\n",
    "str.append('e')\n",
    "str.append('/')\n",
    "str.append('i')\n",
    "str.append('s')\n",
    "str.append('*')\n",
    "str.append('*')\n",
    "str.append('n')\n",
    "str.append('e')\n",
    "str.append('e')\n",
    "str.append('l')"
   ]
  },
  {
   "cell_type": "code",
   "execution_count": 135,
   "id": "3ca03965-3318-4e5e-b5fc-a1ce609d0ca2",
   "metadata": {},
   "outputs": [
    {
     "name": "stdout",
     "output_type": "stream",
     "text": [
      " \n",
      "M\n",
      "y\n",
      " \n",
      "n\n",
      "a\n",
      "m\n",
      "e\n",
      " \n",
      "i\n",
      "s\n",
      " \n",
      " \n",
      "n\n",
      "e\n",
      "e\n",
      "l\n"
     ]
    },
    {
     "ename": "TypeError",
     "evalue": "__str__ returned non-string (type NoneType)",
     "output_type": "error",
     "traceback": [
      "\u001b[1;31m---------------------------------------------------------------------------\u001b[0m",
      "\u001b[1;31mTypeError\u001b[0m                                 Traceback (most recent call last)",
      "Cell \u001b[1;32mIn[135], line 1\u001b[0m\n\u001b[1;32m----> 1\u001b[0m \u001b[38;5;28mprint\u001b[39m(\u001b[38;5;28mstr\u001b[39m)\n",
      "\u001b[1;31mTypeError\u001b[0m: __str__ returned non-string (type NoneType)"
     ]
    }
   ],
   "source": [
    "print(str)"
   ]
  },
  {
   "cell_type": "code",
   "execution_count": 134,
   "id": "0e64fbf3-324c-4a88-8861-b0269660b1ad",
   "metadata": {},
   "outputs": [],
   "source": [
    "str.stringConversion()"
   ]
  },
  {
   "cell_type": "markdown",
   "id": "f44362ee-f402-4fe4-816c-644325208138",
   "metadata": {},
   "source": [
    "2) add odd position numbers sum"
   ]
  },
  {
   "cell_type": "code",
   "execution_count": 94,
   "id": "5fa50340-216d-4d75-b016-8d24c48db951",
   "metadata": {},
   "outputs": [],
   "source": [
    "class Node:\n",
    "    def __init__(self,value):\n",
    "        self.data=value\n",
    "        self.next=None\n",
    "class LinkedListOdd:\n",
    "    def __init__(self):\n",
    "        self.head=None\n",
    "        self.n=0\n",
    "    # returns number of nodes\n",
    "    def __len__(self):\n",
    "        return self.n\n",
    "    # print logic\n",
    "    def __str__(self):\n",
    "        \n",
    "        curr=self.head\n",
    "        while curr!=None:\n",
    "            print(curr.data)\n",
    "            curr=curr.next\n",
    "        \n",
    "    # insert at head\n",
    "    def insert_head(self,value):\n",
    "        newnode=Node(value)\n",
    "        newnode.next=self.head  #new node initially point towards None now it refrence to head\n",
    "        self.head=newnode #new node becomes head node\n",
    "        self.n+=1 #counter incrementation after insertion\n",
    "    # insert ar last\n",
    "    def append(self,value):\n",
    "\n",
    "        new_node = Node(value)\n",
    "\n",
    "        if self.head == None:\n",
    "      # empty\n",
    "         self.head = new_node\n",
    "         self.n = self.n + 1\n",
    "         return\n",
    "\n",
    "        curr = self.head\n",
    "\n",
    "        while curr.next != None:\n",
    "          curr = curr.next\n",
    "\n",
    "    # you are at the last node\n",
    "        curr.next = new_node\n",
    "        self.n = self.n + 1\n",
    "    # insert after given value\n",
    "    def insert(self,after,value):\n",
    "        newnode=Node(value)\n",
    "        curr=self.head\n",
    "        while curr!=None:\n",
    "            if curr.data==after:\n",
    "                break\n",
    "            curr=curr.next\n",
    "        if curr!=None:\n",
    "            newnode.next=curr.next\n",
    "            curr.next=newnode\n",
    "            self.n+=1\n",
    "        else:\n",
    "            'ValueError:after is not present in linkedlist'\n",
    "    # deletion\n",
    "    # clear function make entire linkedlist empty -->re initallized the consturctor\n",
    "    def clear(self):\n",
    "        self.n=0\n",
    "        self.head=None\n",
    "    # delete at head\n",
    "\n",
    "    def delete_head(self):\n",
    "        if self.head==None:\n",
    "            return 'Empty Linkedlist'\n",
    "        self.head=self.head.next\n",
    "    def pop(self):\n",
    "        if self.head==None:\n",
    "            return 'Empty Linkedlist'\n",
    "        curr=self.head\n",
    "        if curr.next==None:\n",
    "            return self.delete_head()\n",
    "        while curr.next!=None:  #iterate\n",
    "            if curr.next.next==None:  #second last before tail\n",
    "                break\n",
    "            curr=curr.next #last tail connection from second last node break\n",
    "        curr.next=None\n",
    "        self.n-=1\n",
    "    def remove(self,value):\n",
    "        curr=self.head\n",
    "        if curr==None:\n",
    "            return 'Empty Linkedlist'\n",
    "        if curr.data==value:\n",
    "            return self.delete_head()\n",
    "        while curr.next!=None:\n",
    "            if curr.next.data==value:\n",
    "                break\n",
    "            curr=curr.next\n",
    "        curr.next=curr.next.next\n",
    "        self.n-=1\n",
    "    # traversing\n",
    "    def __getitem__(self,index):\n",
    "        pos=0\n",
    "        curr=self.head\n",
    "        while curr!=None:\n",
    "            if pos==index:\n",
    "                return curr.data\n",
    "            curr=curr.next\n",
    "            pos+=1\n",
    "        return 'IndexError'\n",
    "    def index(self,value):\n",
    "        pos=0\n",
    "        curr=self.head\n",
    "        while curr!=None:\n",
    "            if curr.data==value:\n",
    "                return pos\n",
    "            curr=curr.next\n",
    "            pos+=1\n",
    "        return 'ValueError'\n",
    " \n",
    "   # function returns sum of all odd position numberr\n",
    "    def odd_pos_sum(self):\n",
    "        curr=self.head\n",
    "        sum=0\n",
    "        n=0\n",
    "        while curr!=None:\n",
    "            if n%2!=0:\n",
    "                sum=sum+curr.data\n",
    "            n+=1\n",
    "        curr=curr.next\n",
    "        return sum\n",
    "    def replace_max(self,value):\n",
    "        curr=self.head\n",
    "        max=curr\n",
    "        while curr!=None:\n",
    "            if curr.data>max.data:\n",
    "                max=curr\n",
    "            curr=curr.next\n",
    "        max.data=value\n",
    "    def min(self):\n",
    "        curr=self.head\n",
    "        min=curr\n",
    "        while curr!=None:\n",
    "            if curr.data<min.data:\n",
    "                min=curr\n",
    "            curr=curr.next\n",
    "        return min.data\n",
    "    "
   ]
  },
  {
   "cell_type": "code",
   "execution_count": 95,
   "id": "5ab31700-675a-45d8-970d-f1a991743cc0",
   "metadata": {},
   "outputs": [],
   "source": [
    "c=LinkedListOdd()"
   ]
  },
  {
   "cell_type": "code",
   "execution_count": 96,
   "id": "91b10f48-f305-49f8-aa86-887765b18487",
   "metadata": {},
   "outputs": [],
   "source": [
    "c.insert_head(2)\n",
    "c.insert_head(4)\n",
    "c.insert_head(6)\n",
    "c.insert_head(8)"
   ]
  },
  {
   "cell_type": "code",
   "execution_count": 92,
   "id": "c35248b2-9847-44b6-a6e8-aa6030f8c71c",
   "metadata": {},
   "outputs": [
    {
     "name": "stdout",
     "output_type": "stream",
     "text": [
      "8\n",
      "6\n",
      "4\n",
      "2\n"
     ]
    },
    {
     "ename": "TypeError",
     "evalue": "__str__ returned non-string (type NoneType)",
     "output_type": "error",
     "traceback": [
      "\u001b[1;31m---------------------------------------------------------------------------\u001b[0m",
      "\u001b[1;31mTypeError\u001b[0m                                 Traceback (most recent call last)",
      "Cell \u001b[1;32mIn[92], line 1\u001b[0m\n\u001b[1;32m----> 1\u001b[0m \u001b[38;5;28mprint\u001b[39m(c)\n",
      "\u001b[1;31mTypeError\u001b[0m: __str__ returned non-string (type NoneType)"
     ]
    }
   ],
   "source": [
    "print(c)"
   ]
  },
  {
   "cell_type": "code",
   "execution_count": 43,
   "id": "8a9e1a71-7e37-46fb-96bd-e4f1f38f761c",
   "metadata": {},
   "outputs": [],
   "source": [
    "c.replace_max(190)"
   ]
  },
  {
   "cell_type": "code",
   "execution_count": 44,
   "id": "2e621eae-84b7-4851-94a2-a75cb4a177d4",
   "metadata": {},
   "outputs": [
    {
     "data": {
      "text/plain": [
       "2"
      ]
     },
     "execution_count": 44,
     "metadata": {},
     "output_type": "execute_result"
    }
   ],
   "source": [
    "c.min()"
   ]
  },
  {
   "cell_type": "code",
   "execution_count": 82,
   "id": "0c0ff990-778b-4818-a34f-af694cd1b784",
   "metadata": {},
   "outputs": [
    {
     "data": {
      "text/plain": [
       "4"
      ]
     },
     "execution_count": 82,
     "metadata": {},
     "output_type": "execute_result"
    }
   ],
   "source": [
    "len(c)"
   ]
  },
  {
   "cell_type": "code",
   "execution_count": null,
   "id": "71ca07fd-0482-451e-ad45-e2453dc25358",
   "metadata": {},
   "outputs": [],
   "source": []
  }
 ],
 "metadata": {
  "kernelspec": {
   "display_name": "Python 3 (ipykernel)",
   "language": "python",
   "name": "python3"
  },
  "language_info": {
   "codemirror_mode": {
    "name": "ipython",
    "version": 3
   },
   "file_extension": ".py",
   "mimetype": "text/x-python",
   "name": "python",
   "nbconvert_exporter": "python",
   "pygments_lexer": "ipython3",
   "version": "3.11.7"
  }
 },
 "nbformat": 4,
 "nbformat_minor": 5
}
