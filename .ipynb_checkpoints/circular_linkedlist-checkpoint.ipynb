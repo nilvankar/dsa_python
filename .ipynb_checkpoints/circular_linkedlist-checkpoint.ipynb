{
 "cells": [
  {
   "cell_type": "code",
   "execution_count": 1,
   "id": "43e36564-5f96-40b7-a08b-301f02234e9c",
   "metadata": {},
   "outputs": [],
   "source": [
    "class Node:\n",
    "    def __init__(self,data):\n",
    "        self.data=data\n",
    "        self.next=None"
   ]
  },
  {
   "cell_type": "code",
   "execution_count": 126,
   "id": "0415e782-6bb6-4e43-b24a-b76d60b889a3",
   "metadata": {},
   "outputs": [],
   "source": [
    "class LinkedList:\n",
    "    def __init__(self):\n",
    "        self.head=None\n",
    "        self.n=0\n",
    "    def insert_head(self,value):\n",
    "        new_node=Node(value)\n",
    "        new_node.next=self.head\n",
    "        self.head=new_node\n",
    "        self.n+=1\n",
    "    def append(self,value):\n",
    "        new_node=Node(value)\n",
    "        curr=self.head\n",
    "        while curr.next!=None:\n",
    "            curr=curr.next\n",
    "        curr.next=new_node\n",
    "        self.n+=1\n",
    "    def __str__(self):\n",
    "        curr=self.head\n",
    "        res=''\n",
    "        while curr!=None:\n",
    "            res=res+str(curr.data)+'->'\n",
    "            curr=curr.next\n",
    "        return res[:-2]\n",
    "    def insert_after(self,after,value):\n",
    "        new_node=Node(value)\n",
    "        curr=self.head\n",
    "        while curr.next!=None:\n",
    "            if curr.data==after:\n",
    "                break\n",
    "            curr=curr.next\n",
    "        if curr.next!=None:\n",
    "            new_node.next=curr.next\n",
    "            curr.next=new_node\n",
    "            self.n+=1\n",
    "        else:\n",
    "            return 'ValueError'\n",
    "    def clear(self):\n",
    "        self.head=None\n",
    "        self.n=0\n",
    "    def delete_head(self):\n",
    "        if self.head==None:\n",
    "            return 'Empty Linkedlist'\n",
    "        self.head=self.head.next\n",
    "        self.n-=1\n",
    "    def pop(self):\n",
    "         if self.head==None:\n",
    "            return 'Empty Linkedlist'\n",
    "         curr=self.head\n",
    "         if curr.next==None:\n",
    "            return self.delete_head()\n",
    "         while curr.next!=None:\n",
    "            if curr.next.next==None:\n",
    "                curr.next=curr.next.next\n",
    "            curr=curr.next\n",
    "            self.n-=1\n",
    "    def __getitem__(self,index):\n",
    "        pos=0\n",
    "        curr=self.head\n",
    "        while curr!=None:\n",
    "            if pos==index:\n",
    "                return curr.data\n",
    "            curr=curr.next\n",
    "            pos+=1\n",
    "        return 'IndexError'     \n",
    "    def index(self,value):\n",
    "        curr=self.head\n",
    "        pos=0\n",
    "        while curr!=None:\n",
    "            if curr.data==value:\n",
    "                return pos\n",
    "            curr=curr.next\n",
    "            pos+=1\n",
    "        return 'ValueError'\n",
    "    def remove(self,value):\n",
    "        if self.head==None:\n",
    "            return 'Empty Linkedlist'\n",
    "        if self.head.next==None:\n",
    "            return self.delete_head()\n",
    "        curr=self.head\n",
    "        while curr.next!=None:\n",
    "            if curr.next.data==value:\n",
    "                curr.next=curr.next.next\n",
    "            curr=curr.next\n",
    "            self.n-=1"
   ]
  },
  {
   "cell_type": "code",
   "execution_count": 127,
   "id": "52408aeb-a6c1-4e45-9ba0-06746f79b71b",
   "metadata": {},
   "outputs": [],
   "source": [
    "c=LinkedList()"
   ]
  },
  {
   "cell_type": "code",
   "execution_count": 109,
   "id": "faafb66c-9853-444b-a955-7d5b535bcd1c",
   "metadata": {},
   "outputs": [],
   "source": [
    "c.insert_head(20)"
   ]
  },
  {
   "cell_type": "code",
   "execution_count": 128,
   "id": "d2a57647-4588-4994-a1ca-13d85a490617",
   "metadata": {},
   "outputs": [],
   "source": [
    "c.insert_head(10)\n",
    "c.insert_head(20)\n",
    "c.insert_head(30)\n",
    "c.insert_head(40)"
   ]
  },
  {
   "cell_type": "code",
   "execution_count": 113,
   "id": "70eb5459-30a2-49ce-bffe-4449fbd3ffc6",
   "metadata": {},
   "outputs": [
    {
     "name": "stdout",
     "output_type": "stream",
     "text": [
      "40->30->20->10\n"
     ]
    }
   ],
   "source": [
    "print(c)"
   ]
  },
  {
   "cell_type": "code",
   "execution_count": 17,
   "id": "ef390f03-4a8f-4bb8-bf6b-2fc48a952e1c",
   "metadata": {},
   "outputs": [],
   "source": [
    "c.append(200)"
   ]
  },
  {
   "cell_type": "code",
   "execution_count": 19,
   "id": "47c33000-065f-4a0a-bbe1-1f0552b2a270",
   "metadata": {},
   "outputs": [],
   "source": [
    "c.append(100)"
   ]
  },
  {
   "cell_type": "code",
   "execution_count": 21,
   "id": "9190ca3a-25d4-416d-aaa9-1e152acec040",
   "metadata": {},
   "outputs": [],
   "source": [
    "c.append(1000)"
   ]
  },
  {
   "cell_type": "code",
   "execution_count": 38,
   "id": "6d060146-d10e-427a-892a-24c552db75a9",
   "metadata": {},
   "outputs": [],
   "source": [
    "c.insert_after(30,1000)"
   ]
  },
  {
   "cell_type": "code",
   "execution_count": 51,
   "id": "9968d679-a274-49b8-bcf5-b7e52281b0f4",
   "metadata": {},
   "outputs": [],
   "source": [
    "c.clear()"
   ]
  },
  {
   "cell_type": "code",
   "execution_count": 65,
   "id": "b7bd2d32-e14b-4741-9c2a-c8e2674f3630",
   "metadata": {},
   "outputs": [
    {
     "data": {
      "text/plain": [
       "'Empty Linkedlist'"
      ]
     },
     "execution_count": 65,
     "metadata": {},
     "output_type": "execute_result"
    }
   ],
   "source": [
    "c.delete_head()"
   ]
  },
  {
   "cell_type": "code",
   "execution_count": 74,
   "id": "4a9b6ae3-99b0-4c4c-93bf-107129fcecf8",
   "metadata": {},
   "outputs": [
    {
     "ename": "AttributeError",
     "evalue": "'NoneType' object has no attribute 'next'",
     "output_type": "error",
     "traceback": [
      "\u001b[1;31m---------------------------------------------------------------------------\u001b[0m",
      "\u001b[1;31mAttributeError\u001b[0m                            Traceback (most recent call last)",
      "Cell \u001b[1;32mIn[74], line 1\u001b[0m\n\u001b[1;32m----> 1\u001b[0m c\u001b[38;5;241m.\u001b[39mpop()\n",
      "Cell \u001b[1;32mIn[46], line 51\u001b[0m, in \u001b[0;36mLinkedList.pop\u001b[1;34m(self)\u001b[0m\n\u001b[0;32m     49\u001b[0m \u001b[38;5;28;01mif\u001b[39;00m curr\u001b[38;5;241m.\u001b[39mnext\u001b[38;5;241m==\u001b[39m\u001b[38;5;28;01mNone\u001b[39;00m:\n\u001b[0;32m     50\u001b[0m    \u001b[38;5;28;01mreturn\u001b[39;00m \u001b[38;5;28mself\u001b[39m\u001b[38;5;241m.\u001b[39mdelete_head()\n\u001b[1;32m---> 51\u001b[0m \u001b[38;5;28;01mwhile\u001b[39;00m curr\u001b[38;5;241m.\u001b[39mnext\u001b[38;5;241m!=\u001b[39m\u001b[38;5;28;01mNone\u001b[39;00m:\n\u001b[0;32m     52\u001b[0m    \u001b[38;5;28;01mif\u001b[39;00m curr\u001b[38;5;241m.\u001b[39mnext\u001b[38;5;241m.\u001b[39mnext\u001b[38;5;241m==\u001b[39m\u001b[38;5;28;01mNone\u001b[39;00m:\n\u001b[0;32m     53\u001b[0m        curr\u001b[38;5;241m.\u001b[39mnext\u001b[38;5;241m=\u001b[39mcurr\u001b[38;5;241m.\u001b[39mnext\u001b[38;5;241m.\u001b[39mnext\n",
      "\u001b[1;31mAttributeError\u001b[0m: 'NoneType' object has no attribute 'next'"
     ]
    }
   ],
   "source": [
    "c.pop()"
   ]
  },
  {
   "cell_type": "code",
   "execution_count": 133,
   "id": "46678d0e-868f-4726-b956-cb7b45785f46",
   "metadata": {},
   "outputs": [
    {
     "name": "stdout",
     "output_type": "stream",
     "text": [
      "40->10\n"
     ]
    }
   ],
   "source": [
    "print(c)"
   ]
  },
  {
   "cell_type": "code",
   "execution_count": 83,
   "id": "176bd2a2-94f8-4093-b1d3-e884a8e0dfe0",
   "metadata": {},
   "outputs": [],
   "source": [
    "c[5]"
   ]
  },
  {
   "cell_type": "code",
   "execution_count": 105,
   "id": "59ff481e-fac8-4a14-b47a-d2ffe529a9a1",
   "metadata": {},
   "outputs": [
    {
     "data": {
      "text/plain": [
       "'ValueError'"
      ]
     },
     "execution_count": 105,
     "metadata": {},
     "output_type": "execute_result"
    }
   ],
   "source": [
    "c.index(100)"
   ]
  },
  {
   "cell_type": "code",
   "execution_count": 132,
   "id": "9edc178e-498f-45be-beaf-a94646cdc11c",
   "metadata": {},
   "outputs": [],
   "source": [
    "c.remove(30)"
   ]
  },
  {
   "cell_type": "code",
   "execution_count": 134,
   "id": "3b6c240e-75af-488c-b1a8-9be36f9e932e",
   "metadata": {},
   "outputs": [],
   "source": [
    "import ctypes"
   ]
  },
  {
   "cell_type": "code",
   "execution_count": 265,
   "id": "d1bada53-f081-4334-a711-a00403a646dc",
   "metadata": {},
   "outputs": [],
   "source": [
    "class MeraList:\n",
    "    def __init__(self):\n",
    "        self.size=1\n",
    "        self.n=0\n",
    "        self.A=self.__create(self.size)\n",
    "    def __create(self,capacity):\n",
    "        return (capacity*ctypes.py_object)()\n",
    "    def append(self,value):\n",
    "        if self.n==self.size:\n",
    "            self.__resize(self.size*2)\n",
    "        self.A[self.n]=value\n",
    "        self.n+=1\n",
    "    def __resize(self,new_capacity):\n",
    "        B=self.__create(new_capacity)\n",
    "        self.size=new_capacity\n",
    "        for i in range(self.n):\n",
    "            B[i]=self.A[i]\n",
    "        self.A=B\n",
    "    def __len__(self):\n",
    "        return self.n\n",
    "    def __str__(self):\n",
    "        res=''\n",
    "        for i in range(self.n):\n",
    "            res=res+str(self.A[i])+','\n",
    "        return res[:-1]\n",
    "    def pop(self):\n",
    "        if self.n==0:\n",
    "            return 'Empty Array'\n",
    "        print(self.A[self.n-1])\n",
    "        self.n-=1\n",
    "    def clear(self):\n",
    "        self.n=0\n",
    "        self.size=1\n",
    "    def __getitem__(self,index):\n",
    "        if 0<=index<self.n:\n",
    "             return self.A[index]\n",
    "        else:\n",
    "            return 'IndexError'\n",
    "    def index(self,value):\n",
    "        for i in range(self.n):\n",
    "            if self.A[i]==value:\n",
    "                return i\n",
    "        return 'ValueError'\n",
    "    def remove(self,value):\n",
    "        pos=self.index(value)\n",
    "        if type(pos)==int:\n",
    "            return self.__delitem__(value)\n",
    "        return 'ValueError'\n",
    "    def sort(self):\n",
    "        for i in range(self.n):\n",
    "            for j in range(self.n-i-1):\n",
    "                if self.A[j]>self.A[j+1]:\n",
    "                    self.A[j],self.A[j+1]=self.A[j+1],self.A[j]\n",
    "    def min(self):\n",
    "        min=self.A[0]\n",
    "        for i in range(self.n):\n",
    "            if self.A[i]<min:\n",
    "                min=self.A[i]\n",
    "        return min\n",
    "    def max(self):\n",
    "        max=self.A[0]\n",
    "        for i in range(self.n):\n",
    "            if self.A[i]>max:\n",
    "                max=self.A[i]\n",
    "        return max\n",
    "    def insert(self,index,value):\n",
    "        if self.n==0:\n",
    "            return 'Empty Array'\n",
    "        if self.n==self.size:\n",
    "            self.__resize(self.size*2)\n",
    "        if 0<=index<self.n:\n",
    "            for i in range(self.n,index,-1):\n",
    "                self.A[i]=self.A[i-1]\n",
    "            self.A[i]=value\n",
    "            self.n+=1\n",
    "    def __delitem__(self,index):\n",
    "        if 0<=index<self.n:\n",
    "            for i in range(index,self.n-1):\n",
    "                self.A[i]=self.A[i+1]\n",
    "            self.n=self.n-1\n",
    "        else:\n",
    "            return 'IndexError'\n",
    "            "
   ]
  },
  {
   "cell_type": "code",
   "execution_count": 258,
   "id": "1a4a0ccc-2d9b-4dea-ab22-676c520560b4",
   "metadata": {},
   "outputs": [],
   "source": [
    "a1=MeraList()"
   ]
  },
  {
   "cell_type": "code",
   "execution_count": 259,
   "id": "ec5993b1-c6c1-4a91-b6ac-2b6aa978c765",
   "metadata": {},
   "outputs": [],
   "source": [
    "a1.append(23)\n",
    "a1.append(74)\n",
    "a1.append(23)\n",
    "a1.append(98)"
   ]
  },
  {
   "cell_type": "code",
   "execution_count": 190,
   "id": "ddcdf824-7e99-4c00-9f38-64f9cf5fc87e",
   "metadata": {},
   "outputs": [
    {
     "data": {
      "text/plain": [
       "4"
      ]
     },
     "execution_count": 190,
     "metadata": {},
     "output_type": "execute_result"
    }
   ],
   "source": [
    "len(a1)"
   ]
  },
  {
   "cell_type": "code",
   "execution_count": 232,
   "id": "9915fc55-af4e-42ca-8929-15d13345ea2c",
   "metadata": {},
   "outputs": [
    {
     "name": "stdout",
     "output_type": "stream",
     "text": [
      "23,74,23,98\n"
     ]
    }
   ],
   "source": [
    "print(a1)"
   ]
  },
  {
   "cell_type": "code",
   "execution_count": 200,
   "id": "07b0aaf6-f874-4363-b085-5aabca687c7d",
   "metadata": {},
   "outputs": [
    {
     "data": {
      "text/plain": [
       "'Empty Array'"
      ]
     },
     "execution_count": 200,
     "metadata": {},
     "output_type": "execute_result"
    }
   ],
   "source": [
    "a1.pop()"
   ]
  },
  {
   "cell_type": "code",
   "execution_count": 205,
   "id": "476bbad8-d592-4a1a-a6ce-7ee62d45541d",
   "metadata": {},
   "outputs": [],
   "source": [
    "a1.clear()"
   ]
  },
  {
   "cell_type": "code",
   "execution_count": 213,
   "id": "5d553e4b-4032-41e5-b9e9-272ff129ab99",
   "metadata": {},
   "outputs": [
    {
     "data": {
      "text/plain": [
       "'IndexError'"
      ]
     },
     "execution_count": 213,
     "metadata": {},
     "output_type": "execute_result"
    }
   ],
   "source": [
    "a1[10]"
   ]
  },
  {
   "cell_type": "code",
   "execution_count": 216,
   "id": "30c9adc4-34f7-4bfb-97b7-13d9bdc3d61f",
   "metadata": {},
   "outputs": [
    {
     "data": {
      "text/plain": [
       "'ValueError'"
      ]
     },
     "execution_count": 216,
     "metadata": {},
     "output_type": "execute_result"
    }
   ],
   "source": [
    "a1.index(100)"
   ]
  },
  {
   "cell_type": "code",
   "execution_count": 222,
   "id": "0479a790-6440-4947-b117-01e86e216950",
   "metadata": {},
   "outputs": [],
   "source": [
    "a1.sort()"
   ]
  },
  {
   "cell_type": "code",
   "execution_count": 242,
   "id": "61adc3d9-669b-4976-a603-0aee9c628e08",
   "metadata": {},
   "outputs": [
    {
     "data": {
      "text/plain": [
       "23"
      ]
     },
     "execution_count": 242,
     "metadata": {},
     "output_type": "execute_result"
    }
   ],
   "source": [
    "a1.min()"
   ]
  },
  {
   "cell_type": "code",
   "execution_count": 243,
   "id": "77b8fec9-e9b9-469d-bc9e-1837d8b09e15",
   "metadata": {},
   "outputs": [
    {
     "data": {
      "text/plain": [
       "98"
      ]
     },
     "execution_count": 243,
     "metadata": {},
     "output_type": "execute_result"
    }
   ],
   "source": [
    "a1.max()"
   ]
  },
  {
   "cell_type": "code",
   "execution_count": 264,
   "id": "b5125311-d098-4fdd-9929-a2936322e72a",
   "metadata": {},
   "outputs": [
    {
     "name": "stdout",
     "output_type": "stream",
     "text": [
      "74,98\n"
     ]
    }
   ],
   "source": [
    "print(a1)"
   ]
  },
  {
   "cell_type": "code",
   "execution_count": 255,
   "id": "f71c01be-ab1a-4878-a617-bba4e96194bf",
   "metadata": {},
   "outputs": [],
   "source": [
    "a1.insert(3,100)"
   ]
  },
  {
   "cell_type": "code",
   "execution_count": 263,
   "id": "f5b2faed-5f62-4495-ade1-f222df62c147",
   "metadata": {},
   "outputs": [],
   "source": [
    "del a1[1]"
   ]
  },
  {
   "cell_type": "code",
   "execution_count": 267,
   "id": "1b0df7dc-2b9c-4033-943f-0214fe023ec4",
   "metadata": {},
   "outputs": [],
   "source": [
    "import random"
   ]
  },
  {
   "cell_type": "code",
   "execution_count": 279,
   "id": "459dbb3c-b18b-476f-9b81-c880afc5c854",
   "metadata": {},
   "outputs": [],
   "source": [
    "def selection_sort(L):\n",
    "    for i in range(len(L)-1):\n",
    "        min=L[i]\n",
    "        for j in range(i+1,len(L)):\n",
    "            if L[min]>L[j]:\n",
    "                min=j\n",
    "        L[min],L[j]=L[j],L[min]"
   ]
  },
  {
   "cell_type": "code",
   "execution_count": 280,
   "id": "7c26f873-9a9a-41ac-99ce-3bea70fc9fed",
   "metadata": {},
   "outputs": [
    {
     "name": "stdout",
     "output_type": "stream",
     "text": [
      "23\n",
      "89\n",
      "8\n",
      "37\n",
      "56\n",
      "92\n",
      "22\n",
      "20\n",
      "85\n",
      "13\n",
      "56\n",
      "85\n",
      "12\n",
      "33\n",
      "44\n",
      "96\n",
      "47\n",
      "5\n",
      "7\n"
     ]
    }
   ],
   "source": [
    "for i in range(1,20):\n",
    "    print(random.randint(1,100))"
   ]
  },
  {
   "cell_type": "code",
   "execution_count": 281,
   "id": "25c6b27d-1602-4274-9018-be654081076c",
   "metadata": {},
   "outputs": [
    {
     "name": "stdout",
     "output_type": "stream",
     "text": [
      "[4, 13, 71, 19, 35, 29]\n"
     ]
    },
    {
     "ename": "IndexError",
     "evalue": "list index out of range",
     "output_type": "error",
     "traceback": [
      "\u001b[1;31m---------------------------------------------------------------------------\u001b[0m",
      "\u001b[1;31mIndexError\u001b[0m                                Traceback (most recent call last)",
      "Cell \u001b[1;32mIn[281], line 8\u001b[0m\n\u001b[0;32m      1\u001b[0m L\u001b[38;5;241m=\u001b[39m[\u001b[38;5;241m4\u001b[39m,\n\u001b[0;32m      2\u001b[0m \u001b[38;5;241m13\u001b[39m,\n\u001b[0;32m      3\u001b[0m \u001b[38;5;241m71\u001b[39m,\n\u001b[0;32m      4\u001b[0m \u001b[38;5;241m19\u001b[39m,\n\u001b[0;32m      5\u001b[0m \u001b[38;5;241m35\u001b[39m,\n\u001b[0;32m      6\u001b[0m \u001b[38;5;241m29\u001b[39m]\n\u001b[0;32m      7\u001b[0m \u001b[38;5;28mprint\u001b[39m(L)\n\u001b[1;32m----> 8\u001b[0m selection_sort(L)\n\u001b[0;32m      9\u001b[0m \u001b[38;5;28mprint\u001b[39m(\u001b[38;5;124m'\u001b[39m\u001b[38;5;124mafter sorting\u001b[39m\u001b[38;5;124m'\u001b[39m,L)\n",
      "Cell \u001b[1;32mIn[279], line 5\u001b[0m, in \u001b[0;36mselection_sort\u001b[1;34m(L)\u001b[0m\n\u001b[0;32m      3\u001b[0m \u001b[38;5;28mmin\u001b[39m\u001b[38;5;241m=\u001b[39mL[i]\n\u001b[0;32m      4\u001b[0m \u001b[38;5;28;01mfor\u001b[39;00m j \u001b[38;5;129;01min\u001b[39;00m \u001b[38;5;28mrange\u001b[39m(i\u001b[38;5;241m+\u001b[39m\u001b[38;5;241m1\u001b[39m,\u001b[38;5;28mlen\u001b[39m(L)):\n\u001b[1;32m----> 5\u001b[0m     \u001b[38;5;28;01mif\u001b[39;00m L[\u001b[38;5;28mmin\u001b[39m]\u001b[38;5;241m>\u001b[39mL[j]:\n\u001b[0;32m      6\u001b[0m         \u001b[38;5;28mmin\u001b[39m\u001b[38;5;241m=\u001b[39mj\n\u001b[0;32m      7\u001b[0m L[\u001b[38;5;28mmin\u001b[39m],L[j]\u001b[38;5;241m=\u001b[39mL[j],L[\u001b[38;5;28mmin\u001b[39m]\n",
      "\u001b[1;31mIndexError\u001b[0m: list index out of range"
     ]
    }
   ],
   "source": [
    "L=[4,\n",
    "13,\n",
    "71,\n",
    "19,\n",
    "35,\n",
    "29]\n",
    "print(L)\n",
    "selection_sort(L)\n",
    "print('after sorting',L)"
   ]
  },
  {
   "cell_type": "code",
   "execution_count": null,
   "id": "415401e5-1889-49f8-b586-26773d2c8e45",
   "metadata": {},
   "outputs": [],
   "source": []
  }
 ],
 "metadata": {
  "kernelspec": {
   "display_name": "Python 3 (ipykernel)",
   "language": "python",
   "name": "python3"
  },
  "language_info": {
   "codemirror_mode": {
    "name": "ipython",
    "version": 3
   },
   "file_extension": ".py",
   "mimetype": "text/x-python",
   "name": "python",
   "nbconvert_exporter": "python",
   "pygments_lexer": "ipython3",
   "version": "3.11.7"
  }
 },
 "nbformat": 4,
 "nbformat_minor": 5
}
