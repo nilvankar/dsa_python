{
 "cells": [
  {
   "cell_type": "markdown",
   "id": "7eed9666-d071-4f55-aacf-40538a26edd2",
   "metadata": {},
   "source": [
    "# Tree\n",
    "* A tree is a non linear data structure.\n",
    "* It stores values in form of hierarchy(parent-child).\n",
    "* The top most single node is called root node and all the other below node are child nodes\n",
    "* Each child are siblings of each other\n",
    "* The bottom most node are called lead nodes\n",
    "## Ancestor\n",
    "* any node in path of root to node are called ancestors\n",
    "## descendant\n",
    "* any node x called descendant of y if y is ancestor of x.\n",
    "### Internal node\n",
    "* Any node with minumum one child node is called internal node\n"
   ]
  },
  {
   "cell_type": "code",
   "execution_count": 1,
   "id": "2b24cf3e-4b56-49e4-9e3e-5cf5ea5b3cd6",
   "metadata": {},
   "outputs": [],
   "source": [
    "class Node:\n",
    "    def __init__(self,data):\n",
    "        self.data=data\n",
    "        self.child=[]"
   ]
  },
  {
   "cell_type": "markdown",
   "id": "5568d97b-3dc0-453d-84c7-6b40a3d1745b",
   "metadata": {},
   "source": [
    "initialy each node has its data and no children so empty array"
   ]
  },
  {
   "cell_type": "markdown",
   "id": "4e5c1d41-3956-42ae-8b50-b74a999ed0dc",
   "metadata": {},
   "source": [
    "## Importance\n",
    "* A file system like Computer file explorer where it has C drive,Downloads,Documents,Pictures,Videos etc each has its own folders,subfolders,files\n",
    "* Faster searching than likedlist and slower than array\n",
    "* faster write operations than array and slower than likedlist\n",
    "* no fixed size"
   ]
  },
  {
   "cell_type": "markdown",
   "id": "e8b48e7e-9ff5-4160-b57b-14f441e82b35",
   "metadata": {},
   "source": [
    "                (R)\n",
    "                /| \\\n",
    "               / |  \\\n",
    "              /  |   \\\n",
    "            (A)  (B)  (C) \n",
    "            /\\         /\\ \\\n",
    "           /  \\       /  \\  \\\n",
    "        (D)   (E)    (F)(G),(H)\n",
    "In this example root is R\n",
    "R,A and c are parent node note than B is not parent node because it has no children\n",
    "edges are \\\n",
    "total number of nodes=size 9\n",
    "height 2 from root to leaf node \n"
   ]
  },
  {
   "cell_type": "markdown",
   "id": "7094c1a4-2d58-4e77-9c4a-414c9c33e7ed",
   "metadata": {},
   "source": [
    "## Types of data structures\n",
    "### Binary tree\n",
    "* maximum 2 so one node can have 0,1 or 2 child nodes\n",
    "#### Full binary\n",
    "#### complete binary\n",
    "#### balanced  binary\n",
    "#### degenerate or pathological binary\n",
    "### Ternary tree\n",
    "* each node has most of three node\n",
    "* left,mid and right\n",
    "### N ary tree or generic tree\n",
    "* generic trees are a collection of nodes where each node is a data strucutre that consist of records and list of list of addresses to its child"
   ]
  },
  {
   "cell_type": "code",
   "execution_count": 29,
   "id": "4ffe62f3-506a-4dc8-a631-090e3a729238",
   "metadata": {},
   "outputs": [],
   "source": [
    "class Jovin:\n",
    "    def __init__(self,name,username,email):\n",
    "        self.name=name\n",
    "        self.username=username\n",
    "        self.email=email\n",
    "    def __str__(self):\n",
    "        return f\"Name:{self.name}, username:{self.username} and email is {self.email}\"\n",
    "    "
   ]
  },
  {
   "cell_type": "code",
   "execution_count": 19,
   "id": "dea8478b-bd41-4c11-9f2f-599a2e3b432b",
   "metadata": {},
   "outputs": [],
   "source": [
    "akash=Jovin(\"Akash\",\"ak983\",\"ak983@gmail.com\")\n",
    "vaibhav=Jovin(\"Akash\",\"ak983\",\"ak983@gmail.com\")\n",
    "vishal=Jovin(\"Akash\",\"ak983\",\"ak983@gmail.com\")\n",
    "neel=Jovin(\"Akash\",\"ak983\",\"ak983@gmail.com\")\n",
    "naresh=Jovin(\"Akash\",\"ak983\",\"ak983@gmail.com\")"
   ]
  },
  {
   "cell_type": "code",
   "execution_count": 20,
   "id": "7337e355-c5d0-4af0-bb69-8549baf93bc3",
   "metadata": {},
   "outputs": [
    {
     "name": "stdout",
     "output_type": "stream",
     "text": [
      "Name:Akash, username:ak983 and email is ak983@gmail.com\n"
     ]
    }
   ],
   "source": [
    "print(akash)"
   ]
  },
  {
   "cell_type": "code",
   "execution_count": 21,
   "id": "70441791-4431-4969-b801-c7711e376136",
   "metadata": {},
   "outputs": [],
   "source": [
    "users=[akash,vaibhav,vishal,neel,naresh]"
   ]
  },
  {
   "cell_type": "code",
   "execution_count": 28,
   "id": "319f4b2a-c72b-41c1-a653-ee6337575547",
   "metadata": {},
   "outputs": [
    {
     "name": "stdout",
     "output_type": "stream",
     "text": [
      "Name:Akash, username:ak983 and email is ak983@gmail.com\n",
      "Name:Akash, username:ak983 and email is ak983@gmail.com\n",
      "Name:Akash, username:ak983 and email is ak983@gmail.com\n",
      "Name:Akash, username:ak983 and email is ak983@gmail.com\n",
      "Name:Akash, username:ak983 and email is ak983@gmail.com\n",
      "Name:neel, username:neel973 and email is neel973@gmail.com\n"
     ]
    }
   ],
   "source": [
    "for i in range(len(users)):\n",
    "    print(users[i])"
   ]
  },
  {
   "cell_type": "code",
   "execution_count": 27,
   "id": "8fb87d33-ac62-4a94-81b0-a85ae9c1fc1f",
   "metadata": {},
   "outputs": [],
   "source": [
    "new=Jovin(\"neel\",\"neel973\",\"neel973@gmail.com\")\n",
    "users.append(new)"
   ]
  },
  {
   "cell_type": "code",
   "execution_count": 33,
   "id": "fd5e6427-5a94-4157-ae80-7835146dddac",
   "metadata": {},
   "outputs": [],
   "source": [
    "class UserDataBase:\n",
    "    def __init__(self):\n",
    "        self.users=[]\n",
    "    # insertion of neew user\n",
    "    def insert(self,user):\n",
    "        i=0\n",
    "        while i<len(self.users):\n",
    "            if self.users[i].username>user.username:\n",
    "                break\n",
    "            i+=1\n",
    "        self.users.insert(i,user)\n",
    "    def find(self,username):\n",
    "        for user in self.users:\n",
    "            if user.username==username:\n",
    "                return user\n",
    "    def update(self,user):\n",
    "        target=self.find(user.username)\n",
    "        target.name,target.email=user.name,user.email\n",
    "    def list_all(self):\n",
    "        return self.users"
   ]
  },
  {
   "cell_type": "code",
   "execution_count": 32,
   "id": "d7b483f2-394c-4a22-8124-93deca0e4e0a",
   "metadata": {},
   "outputs": [],
   "source": [
    "c=UserDataBase()"
   ]
  },
  {
   "cell_type": "code",
   "execution_count": 38,
   "id": "2b840a9a-6d5b-48cc-ac68-2a6db906a863",
   "metadata": {},
   "outputs": [
    {
     "ename": "NameError",
     "evalue": "name 'hannah' is not defined",
     "output_type": "error",
     "traceback": [
      "\u001b[1;31m---------------------------------------------------------------------------\u001b[0m",
      "\u001b[1;31mNameError\u001b[0m                                 Traceback (most recent call last)",
      "Cell \u001b[1;32mIn[38], line 1\u001b[0m\n\u001b[1;32m----> 1\u001b[0m c\u001b[38;5;241m.\u001b[39minsert(hannah)\n\u001b[0;32m      2\u001b[0m c\u001b[38;5;241m.\u001b[39minsert(clay)\n",
      "\u001b[1;31mNameError\u001b[0m: name 'hannah' is not defined"
     ]
    }
   ],
   "source": [
    "c.insert(hannah)\n",
    "c.insert(clay)"
   ]
  },
  {
   "cell_type": "code",
   "execution_count": null,
   "id": "4f4c28c5-02e5-4908-ac68-fbb8cf34d548",
   "metadata": {},
   "outputs": [],
   "source": [
    "u1="
   ]
  }
 ],
 "metadata": {
  "kernelspec": {
   "display_name": "Python 3 (ipykernel)",
   "language": "python",
   "name": "python3"
  },
  "language_info": {
   "codemirror_mode": {
    "name": "ipython",
    "version": 3
   },
   "file_extension": ".py",
   "mimetype": "text/x-python",
   "name": "python",
   "nbconvert_exporter": "python",
   "pygments_lexer": "ipython3",
   "version": "3.11.7"
  }
 },
 "nbformat": 4,
 "nbformat_minor": 5
}
