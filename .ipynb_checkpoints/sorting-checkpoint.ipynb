{
 "cells": [
  {
   "cell_type": "markdown",
   "id": "bba40a51-0f79-4697-aebc-3ce8e0eb7017",
   "metadata": {},
   "source": [
    "# Sorting\n",
    "* It refers to rearrangement of element in given array eigther in ascending or descending order.\n",
    "## terminology\n",
    "### In place sorting\n",
    "* modfiying order of element in existing array without occuping new space\n",
    "### internal sorting\n",
    "* At a time all data placed in main memory\n",
    "* for exmaple bubble sort ,quick sort,insertion,selection,heap sort\n",
    "### external sorting\n",
    "* At a time data cannot placed in memory\n",
    "* for exmaple merge sort\n",
    "### stable sorting\n",
    "* if two similar values appear in an array and after the sorting their position not get change that means that sorting algorithm is stable\n",
    "* merge,insertion,bubble\n",
    "### unstable\n",
    "* if two similar values appear in an array and after the sorting their position will  get change that means that sorting algorithm is unstable\n",
    "* heap sort,quick sort,shell sort\n",
    "### adaptive\n",
    "* An algorithm is said to be adaptive if it can predict that the given array is already sorted based on that its complexity gets reflected."
   ]
  },
  {
   "cell_type": "code",
   "execution_count": null,
   "id": "05c7cf7a-03e8-4876-9e4d-9b5661d56f68",
   "metadata": {},
   "outputs": [],
   "source": [
    "import random\n",
    "L=[]"
   ]
  },
  {
   "cell_type": "code",
   "execution_count": 15,
   "id": "0c4ab12f-18e9-497d-9566-0b38cd9b51e6",
   "metadata": {},
   "outputs": [],
   "source": [
    "i=0\n",
    "while i<13: \n",
    "    L.append(random.randint(1,100))\n",
    "    i+=1\n"
   ]
  },
  {
   "cell_type": "code",
   "execution_count": 30,
   "id": "e31122bd-1b76-4708-aa1a-3e287089563a",
   "metadata": {},
   "outputs": [],
   "source": [
    "random.shuffle(L)"
   ]
  },
  {
   "cell_type": "code",
   "execution_count": 31,
   "id": "0f7ce357-0a78-4212-99a3-013afe0b25a4",
   "metadata": {},
   "outputs": [
    {
     "data": {
      "text/plain": [
       "[64, 27, 99, 44, 27, 66, 26, 64, 41, 31, 28, 60, 53]"
      ]
     },
     "execution_count": 31,
     "metadata": {},
     "output_type": "execute_result"
    }
   ],
   "source": [
    "L"
   ]
  },
  {
   "cell_type": "code",
   "execution_count": 32,
   "id": "264586b8-0f51-4ece-8fa9-7800f58b3ff9",
   "metadata": {},
   "outputs": [],
   "source": [
    "def sort(ar):\n",
    "    for j in range(len(ar)):\n",
    "        for i in range(len(ar)-j-1):\n",
    "            if ar[i]>ar[i+1]:\n",
    "                ar[i],ar[i+1]=ar[i+1],ar[i]\n",
    "    "
   ]
  },
  {
   "cell_type": "code",
   "execution_count": 33,
   "id": "6d742775-7506-471d-b4a9-26cb61a2d8e3",
   "metadata": {},
   "outputs": [
    {
     "name": "stdout",
     "output_type": "stream",
     "text": [
      "before sort [64, 27, 99, 44, 27, 66, 26, 64, 41, 31, 28, 60, 53]\n",
      "after sort [26, 27, 27, 28, 31, 41, 44, 53, 60, 64, 64, 66, 99]\n"
     ]
    }
   ],
   "source": [
    "print('before sort',L)\n",
    "sort(L)\n",
    "print('after sort',L)"
   ]
  },
  {
   "cell_type": "markdown",
   "id": "29ed9919-98a1-4822-b3cf-0d9a4afb3777",
   "metadata": {},
   "source": [
    "## Selection sort\n",
    "* It is based on selection of the most smallest or largest value in entire array and based on that other elementsget placed.\n",
    "* After each pass the smallest value gets positioned on left side\n",
    "* worst case time complexity O(n)^2\n",
    "* space complexity O(1)"
   ]
  },
  {
   "cell_type": "code",
   "execution_count": 38,
   "id": "9c125528-88f7-4fed-a1ff-3f3419a94c83",
   "metadata": {},
   "outputs": [],
   "source": [
    "def selection_sort(ar):\n",
    "    for i in range(len(ar)-1):\n",
    "        min_id=i\n",
    "        for j in range(i+1,len(ar)):\n",
    "            if ar[min_id]>ar[j]:\n",
    "                min_id=j\n",
    "        ar[i],ar[min_id]=ar[min_id],ar[i]\n",
    "X=[64, 27, 99, 44, 27, 66, 26, 64, 41, 31, 28, 60, 53]\n",
    "selection_sort(X)"
   ]
  },
  {
   "cell_type": "code",
   "execution_count": 39,
   "id": "bcca9ae3-0962-4539-84d7-b47a54bb0566",
   "metadata": {},
   "outputs": [
    {
     "data": {
      "text/plain": [
       "[26, 27, 27, 28, 31, 41, 44, 53, 60, 64, 64, 66, 99]"
      ]
     },
     "execution_count": 39,
     "metadata": {},
     "output_type": "execute_result"
    }
   ],
   "source": [
    "X"
   ]
  },
  {
   "cell_type": "code",
   "execution_count": 40,
   "id": "d36258ac-85e8-446f-aa3a-6b5dc6d5bf55",
   "metadata": {},
   "outputs": [],
   "source": [
    "def select(arr):\n",
    "    for i in range(len(arr)-1):\n",
    "        min=i\n",
    "        for j in range(i+1,len(arr)):\n",
    "            if arr[min]>arr[j]:\n",
    "                min=j\n",
    "        arr[min],arr[i]=arr[i],arr[min]"
   ]
  },
  {
   "cell_type": "code",
   "execution_count": 41,
   "id": "59a890d3-9265-462f-bec4-4ad777201f94",
   "metadata": {},
   "outputs": [
    {
     "name": "stdout",
     "output_type": "stream",
     "text": [
      "[26, 27, 27, 28, 31, 41, 44, 53, 60, 64, 64, 66, 99]\n"
     ]
    }
   ],
   "source": [
    "X=[64, 27, 99, 44, 27, 66, 26, 64, 41, 31, 28, 60, 53]\n",
    "select(X)\n",
    "print(X)"
   ]
  },
  {
   "cell_type": "markdown",
   "id": "1120183e-d505-4e52-b818-d1580dae4f67",
   "metadata": {},
   "source": [
    "## bubble sort\n",
    "* Not good for large dataset\n",
    "* start from left as i and check inner iteration start from i+1 if j>j+1 then swap at last if swap==False then break iteration\n",
    "* stable algorithm\n",
    "* Not adaptive in general but can be make adaptive using a flag first set False inside if any pass happes set to True at last check if no pass then check flag==False so break "
   ]
  },
  {
   "cell_type": "code",
   "execution_count": 42,
   "id": "4de138d5-9712-423c-98e9-f20835a54cb8",
   "metadata": {},
   "outputs": [],
   "source": [
    "def bubble_sort(arr):\n",
    "    for i in range(len(arr)):\n",
    "        swapp=False\n",
    "        for j in range(len(arr)-i-1): #i+1 till len\n",
    "            if arr[j]>arr[j+1]:\n",
    "                arr[j],arr[j+1]=arr[j+1],arr[j]\n",
    "                swapp=True\n",
    "        if swapp==False:\n",
    "            break"
   ]
  },
  {
   "cell_type": "code",
   "execution_count": 43,
   "id": "b1bbc581-3ed2-4472-8448-9ab2daa85cfa",
   "metadata": {},
   "outputs": [
    {
     "name": "stdout",
     "output_type": "stream",
     "text": [
      "[26, 27, 27, 28, 31, 41, 44, 53, 60, 64, 64, 66, 99]\n"
     ]
    }
   ],
   "source": [
    "X=[64, 27, 99, 44, 27, 66, 26, 64, 41, 31, 28, 60, 53]\n",
    "bubble_sort(X)\n",
    "print(X)"
   ]
  },
  {
   "cell_type": "markdown",
   "id": "0b0a5b1c-3edc-4e5e-94cc-bf8a430a2408",
   "metadata": {},
   "source": [
    "# Insertion sort\n",
    "* Stable algorithm in place sorting and simple to implement.\n",
    "* "
   ]
  },
  {
   "cell_type": "code",
   "execution_count": 48,
   "id": "ba28b04a-89b8-4ba4-a733-c36a50a7d9cf",
   "metadata": {},
   "outputs": [],
   "source": [
    "def insertion_sort(arr):\n",
    "    for i in range(1,len(arr)): #start with index one\n",
    "        key=arr[i]  #key is going to be current iteration\n",
    "        j=i-1 #to decrement for further matches\n",
    "        while j>=0 and key<arr[j]:\n",
    "            arr[j+1]=arr[j]\n",
    "            j-=1\n",
    "            arr[j+1]=key"
   ]
  },
  {
   "cell_type": "code",
   "execution_count": 47,
   "id": "48970475-3a75-49b6-8680-9d799a383825",
   "metadata": {},
   "outputs": [
    {
     "name": "stdout",
     "output_type": "stream",
     "text": [
      "[12, 23, 45, 78, 99]\n"
     ]
    }
   ],
   "source": [
    "X=[99,78,23,45,12]\n",
    "insertion_sort(X)\n",
    "print(X)"
   ]
  },
  {
   "cell_type": "markdown",
   "id": "889a1463-d5ff-4db8-87ca-ab397f23c28c",
   "metadata": {},
   "source": [
    "## Quick Sort"
   ]
  },
  {
   "cell_type": "code",
   "execution_count": 51,
   "id": "e5503394-a0d9-47f6-8503-6ba64498f374",
   "metadata": {},
   "outputs": [],
   "source": [
    "def partition(arr,low,high):\n",
    "    pivot=arr[high]\n",
    "    i=low-1\n",
    "    for j in range(low,high):\n",
    "        if arr[j]<=pivot:\n",
    "            arr[i],arr[j]=arr[j],arr[i]\n",
    "        arr[i+1],arr[high]=arr[high],arr[i+1]\n",
    "    return i+1"
   ]
  },
  {
   "cell_type": "code",
   "execution_count": 52,
   "id": "f3d590da-93bc-4612-841d-0cfccc086a0e",
   "metadata": {},
   "outputs": [
    {
     "data": {
      "text/plain": [
       "0"
      ]
     },
     "execution_count": 52,
     "metadata": {},
     "output_type": "execute_result"
    }
   ],
   "source": [
    "X=[99,78,23,45,12]\n",
    "partition(X,0,len(X)-1)"
   ]
  },
  {
   "cell_type": "code",
   "execution_count": null,
   "id": "925e8f69-9980-4bfc-b6e6-78cea62fdcad",
   "metadata": {},
   "outputs": [],
   "source": []
  }
 ],
 "metadata": {
  "kernelspec": {
   "display_name": "Python 3 (ipykernel)",
   "language": "python",
   "name": "python3"
  },
  "language_info": {
   "codemirror_mode": {
    "name": "ipython",
    "version": 3
   },
   "file_extension": ".py",
   "mimetype": "text/x-python",
   "name": "python",
   "nbconvert_exporter": "python",
   "pygments_lexer": "ipython3",
   "version": "3.11.7"
  }
 },
 "nbformat": 4,
 "nbformat_minor": 5
}
