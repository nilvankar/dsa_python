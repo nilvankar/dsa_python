{
 "cells": [
  {
   "cell_type": "code",
   "execution_count": 11,
   "id": "f2c43b71-406b-4888-bfe2-2bc7e700d6a7",
   "metadata": {},
   "outputs": [],
   "source": [
    "class Node:\n",
    "    def __init__(self,data):\n",
    "        self.data=data\n",
    "        self.next=None"
   ]
  },
  {
   "cell_type": "code",
   "execution_count": 21,
   "id": "d375e426-af73-47de-adc4-ae5e92f90e8a",
   "metadata": {},
   "outputs": [],
   "source": [
    "import random\n",
    "L=[]\n",
    "for i in range(1,10):\n",
    "    L.append(random.randint(1,100))"
   ]
  },
  {
   "cell_type": "code",
   "execution_count": 60,
   "id": "e1025f36-e3ee-4a59-bc98-1dc27d93bcfb",
   "metadata": {},
   "outputs": [],
   "source": [
    "class Linedlist:\n",
    "    try:\n",
    "        def __init__(self):\n",
    "            self.head=None\n",
    "            self.n=0\n",
    "        def __len__(self):\n",
    "            return self.n\n",
    "        def insert_head(self,value):\n",
    "            new_node=Node(value)\n",
    "            new_node.next=self.head\n",
    "            self.head=new_node\n",
    "            self.n+=1\n",
    "        def __str__(self):\n",
    "            res=''\n",
    "            while self.head!=None:\n",
    "                res=res+str(self.head.data)+'->'\n",
    "                self.head=self.head.next\n",
    "            return res[:-2]\n",
    "        def append(self,value):\n",
    "            new_node=Node(value)\n",
    "            curr=self.head\n",
    "            while curr.next!=None:\n",
    "                curr=curr.next\n",
    "            curr.next=new_node\n",
    "            self.n+=1\n",
    "    except TypeError:\n",
    "        print(TypeError)\n",
    "    except Exception as e:\n",
    "        print(e)"
   ]
  },
  {
   "cell_type": "code",
   "execution_count": 68,
   "id": "531bbb78-8a8a-428b-b8d9-35f35aa353c2",
   "metadata": {},
   "outputs": [],
   "source": [
    "c1=Linedlist()"
   ]
  },
  {
   "cell_type": "code",
   "execution_count": 69,
   "id": "b73a84f3-8633-4003-be5a-9695d8a82f61",
   "metadata": {},
   "outputs": [],
   "source": [
    "c1.insert_head(46)\n",
    "c1.insert_head(35)\n",
    "c1.insert_head(52)\n",
    "c1.insert_head(17)"
   ]
  },
  {
   "cell_type": "code",
   "execution_count": 70,
   "id": "f02d6437-d567-405d-bcbe-a9d9967a742b",
   "metadata": {},
   "outputs": [
    {
     "data": {
      "text/plain": [
       "[46, 35, 52, 17, 93, 26, 73, 69, 7]"
      ]
     },
     "execution_count": 70,
     "metadata": {},
     "output_type": "execute_result"
    }
   ],
   "source": [
    "L"
   ]
  },
  {
   "cell_type": "code",
   "execution_count": 71,
   "id": "2bf7686f-71c5-4f0c-828d-619aaa55edc3",
   "metadata": {},
   "outputs": [
    {
     "data": {
      "text/plain": [
       "4"
      ]
     },
     "execution_count": 71,
     "metadata": {},
     "output_type": "execute_result"
    }
   ],
   "source": [
    "len(c1)"
   ]
  },
  {
   "cell_type": "code",
   "execution_count": 72,
   "id": "af56ad18-8934-430f-aa1c-f6842f380c8a",
   "metadata": {},
   "outputs": [
    {
     "name": "stdout",
     "output_type": "stream",
     "text": [
      "17->52->35->46\n"
     ]
    }
   ],
   "source": [
    "print(c1)"
   ]
  },
  {
   "cell_type": "code",
   "execution_count": null,
   "id": "80f04496-4026-4714-97a2-9f60a4224902",
   "metadata": {},
   "outputs": [],
   "source": []
  },
  {
   "cell_type": "code",
   "execution_count": null,
   "id": "c22323f1-d3c4-400c-ae6f-620758578684",
   "metadata": {},
   "outputs": [],
   "source": []
  }
 ],
 "metadata": {
  "kernelspec": {
   "display_name": "Python 3 (ipykernel)",
   "language": "python",
   "name": "python3"
  },
  "language_info": {
   "codemirror_mode": {
    "name": "ipython",
    "version": 3
   },
   "file_extension": ".py",
   "mimetype": "text/x-python",
   "name": "python",
   "nbconvert_exporter": "python",
   "pygments_lexer": "ipython3",
   "version": "3.11.7"
  }
 },
 "nbformat": 4,
 "nbformat_minor": 5
}
