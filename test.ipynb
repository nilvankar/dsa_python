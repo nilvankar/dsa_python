{
 "cells": [
  {
   "cell_type": "code",
   "execution_count": 130,
   "id": "cd57b3bc-3de7-4b36-a809-b01adcfb7748",
   "metadata": {},
   "outputs": [],
   "source": [
    "class MeraList:\n",
    "    def __init__(self):\n",
    "        self.n=0\n",
    "        self.size=1\n",
    "        self.A=self.__create(self.size)\n",
    "    def __create(self,capacity):\n",
    "        return (capacity*ctypes.py_object)()\n",
    "    def __len__(self):\n",
    "        return self.n\n",
    "    def __str__(self):\n",
    "        res=''\n",
    "        for i in range(self.n):\n",
    "            res=res+str(self.A[i])+','\n",
    "        return res[:-1]\n",
    "    def append(self,value):\n",
    "        if self.n==self.size:\n",
    "            self.__resize(self.size*2)\n",
    "        self.A[self.n]=value\n",
    "        self.n+=1\n",
    "    def __resize(self,new_capacity):\n",
    "        B=self.__create(new_capacity)\n",
    "        self.size=new_capacity\n",
    "        for i in range(self.n):\n",
    "            B[i]=self.A[i]\n",
    "        self.A=B\n",
    "    def insert(self,index,value):\n",
    "        if self.n==self.size:\n",
    "            self.__resize(self.size*2)\n",
    "        for i in range(self.n,index,-1):\n",
    "            self.A[i]=self.A[i-1]\n",
    "        self.A[index]=value\n",
    "        self.n+=1\n",
    "    def clear(self):\n",
    "        self.n=0\n",
    "        self.size=1\n",
    "    def pop(self):\n",
    "        if self.n==0:\n",
    "            return 'Empty Array'\n",
    "        print(self.A[self.n-1])\n",
    "        self.n-=1\n",
    "    def __getitem__(self,index):\n",
    "        if 0<=index<self.n:\n",
    "            return self.A[index]\n",
    "        return 'IndexError'\n",
    "    def index(self,value):\n",
    "        for i in range(self.n):\n",
    "            if self.A[i]==value:\n",
    "                return i\n",
    "        return 'ValueError'\n",
    "    def __delitem__(self,index):\n",
    "        if 0<=index<self.n:\n",
    "            for i in range(index,self.n-1):\n",
    "                self.A[i]=self.A[i+1]\n",
    "            self.n-=1\n",
    "        return 'IndexError'\n",
    "    def remove(self,value):\n",
    "        pos=self.index(value)\n",
    "        if type(pos)==str:\n",
    "            return 'ValueError'\n",
    "        else:\n",
    "            self.__delitem__(pos)\n",
    "            self.n-=1\n",
    "    def reverse_sliceing(self):\n",
    "        new_arr=[]\n",
    "        for i in range(self.n):\n",
    "            new_arr.insert(0,self.A[i])\n",
    "        return new_arr\n",
    "    def count(self,value):\n",
    "        counter=0\n",
    "        for i in range(self.n):\n",
    "            if self.A[i]==value:\n",
    "                counter+=1\n",
    "        return counter\n",
    "    def extend(self,list):\n",
    "        if type(list)==list:\n",
    "            self.append(list)\n",
    "    def sort(self):\n",
    "        for i in range(self.n):\n",
    "            for j in range(self.n-i-1):\n",
    "                if self.A[j]>self.A[j+1]:\n",
    "                    self.A[j],self.A[j+1]=self.A[j+1],self.A[j]\n",
    "    def printSubArray(self,start,end):\n",
    "        if end==self.n:\n",
    "            return\n",
    "        elif start>end:\n",
    "            return printSubArray(self.A,0,end+1)\n",
    "        else:\n",
    "            return printSubArray(self.A[start:end+1])\n",
    "            return printSubArray(self.A,start+1,end)\n",
    "    def max(self):\n",
    "        if self.n==0:\n",
    "            return 'Empty Array'\n",
    "        max=self.A[0]\n",
    "        for i in range(1,self.n):\n",
    "           if self.A[i]>max:\n",
    "               max=self.A[i]\n",
    "        return max\n",
    "   \n",
    "    def maximumThree(self):\n",
    "        ar_size=self.n\n",
    "        third=second=first=float('-inf')\n",
    "        if ar_size>3:\n",
    "            for i in range(self.n):\n",
    "                if self.A[i]>first:\n",
    "                    third=second\n",
    "                    second=first\n",
    "                    first=self.A[i]\n",
    "                elif self.A[i]>second and self.A[i]!=first:\n",
    "                    third=second\n",
    "                    second=self.A[i]\n",
    "                elif self.A[i]>third and self.A[i]!=second and self.A[i]!=first:\n",
    "                    third=self.A[i]\n",
    "            return f\"Three largest element is {first},{second},{third}\"\n",
    "   \n",
    "    def evenOdd(self):\n",
    "        even=[]\n",
    "        odd=[]\n",
    "        for i in range(self.n):\n",
    "            if self.A[i]%2==0:\n",
    "                 even.append(self.A[i])\n",
    "            else:\n",
    "                odd.append(self.A[i])\n",
    "        return f\"Even :{even} ,odd:{odd}\"\n",
    "    def countZero(self):\n",
    "        j=0\n",
    "        for i in range(self.n):\n",
    "            if self.A[i]==0:\n",
    "                j+=1\n",
    "        return j\n",
    "        "
   ]
  },
  {
   "cell_type": "code",
   "execution_count": 131,
   "id": "16e5e15c-decb-471c-b2dd-599b4d13d66c",
   "metadata": {},
   "outputs": [],
   "source": [
    "import ctypes"
   ]
  },
  {
   "cell_type": "code",
   "execution_count": 132,
   "id": "6108d77c-39cd-4c30-ba47-04aa0ca06cad",
   "metadata": {},
   "outputs": [],
   "source": [
    "c=MeraList()"
   ]
  },
  {
   "cell_type": "code",
   "execution_count": 133,
   "id": "da211bc9-705a-4478-a1f4-e44505866dc6",
   "metadata": {},
   "outputs": [],
   "source": [
    "c.append(10)"
   ]
  },
  {
   "cell_type": "code",
   "execution_count": 134,
   "id": "a2e053c3-1506-4584-85ac-5d361cd5349a",
   "metadata": {},
   "outputs": [
    {
     "name": "stdout",
     "output_type": "stream",
     "text": [
      "10\n"
     ]
    }
   ],
   "source": [
    "print(c)"
   ]
  },
  {
   "cell_type": "code",
   "execution_count": 135,
   "id": "af012b89-45b6-42e3-8faa-c6714ee943e4",
   "metadata": {},
   "outputs": [],
   "source": [
    "c.append(59)\n",
    "c.append(23)\n",
    "c.append(37)\n",
    "c.append(71)\n",
    "c.append(21)"
   ]
  },
  {
   "cell_type": "code",
   "execution_count": 141,
   "id": "504db061-67f0-4657-b679-a02e5c2919c1",
   "metadata": {},
   "outputs": [
    {
     "name": "stdout",
     "output_type": "stream",
     "text": [
      "10,59,23,37,71,21\n"
     ]
    }
   ],
   "source": [
    "print(c)"
   ]
  },
  {
   "cell_type": "code",
   "execution_count": 137,
   "id": "3d0e16be-e2be-41bf-8546-23d9aa70063c",
   "metadata": {},
   "outputs": [
    {
     "data": {
      "text/plain": [
       "[12, 34, 56, 23]"
      ]
     },
     "execution_count": 137,
     "metadata": {},
     "output_type": "execute_result"
    }
   ],
   "source": [
    "l1=[12,34,56,23]\n",
    "l1\n"
   ]
  },
  {
   "cell_type": "code",
   "execution_count": 140,
   "id": "0340ad7d-8e86-4e69-a392-a7e5ede9bb4f",
   "metadata": {},
   "outputs": [],
   "source": [
    "c.extend(l1)"
   ]
  },
  {
   "cell_type": "code",
   "execution_count": 387,
   "id": "1d7c2fdf-07ce-455b-9cca-690b7e8fad8a",
   "metadata": {},
   "outputs": [],
   "source": [
    "c.append(0)\n",
    "c.append(0)\n",
    "c.append(0)"
   ]
  },
  {
   "cell_type": "code",
   "execution_count": 389,
   "id": "acdd6935-1236-44d5-b8a5-673a16c16481",
   "metadata": {},
   "outputs": [
    {
     "data": {
      "text/plain": [
       "3"
      ]
     },
     "execution_count": 389,
     "metadata": {},
     "output_type": "execute_result"
    }
   ],
   "source": [
    "c.countZero()"
   ]
  },
  {
   "cell_type": "code",
   "execution_count": 351,
   "id": "59ed7402-6235-4685-8a17-a59c0447854a",
   "metadata": {},
   "outputs": [
    {
     "data": {
      "text/plain": [
       "'Even :[10] ,odd:[59, 23, 37, 71, 21]'"
      ]
     },
     "execution_count": 351,
     "metadata": {},
     "output_type": "execute_result"
    }
   ],
   "source": [
    "c.evenOdd()"
   ]
  },
  {
   "cell_type": "code",
   "execution_count": 352,
   "id": "b27a6787-2215-44b9-837e-18a0440cec5d",
   "metadata": {},
   "outputs": [
    {
     "data": {
      "text/plain": [
       "71"
      ]
     },
     "execution_count": 352,
     "metadata": {},
     "output_type": "execute_result"
    }
   ],
   "source": [
    "c.max()"
   ]
  },
  {
   "cell_type": "code",
   "execution_count": 362,
   "id": "8d6a6864-a549-49f1-88d6-6cd29c59568d",
   "metadata": {},
   "outputs": [],
   "source": [
    "c.descending()"
   ]
  },
  {
   "cell_type": "code",
   "execution_count": 44,
   "id": "eca5c269-eff0-4b54-8bc2-12a7dae724d6",
   "metadata": {},
   "outputs": [],
   "source": [
    "c.insert(6,200)"
   ]
  },
  {
   "cell_type": "code",
   "execution_count": 59,
   "id": "5cc470d3-86eb-4425-995f-5d37be5f9280",
   "metadata": {},
   "outputs": [
    {
     "data": {
      "text/plain": [
       "21"
      ]
     },
     "execution_count": 59,
     "metadata": {},
     "output_type": "execute_result"
    }
   ],
   "source": [
    "c[5]"
   ]
  },
  {
   "cell_type": "code",
   "execution_count": 60,
   "id": "105727fc-41f2-48d9-9bbf-72eb1c34bba2",
   "metadata": {},
   "outputs": [
    {
     "data": {
      "text/plain": [
       "5"
      ]
     },
     "execution_count": 60,
     "metadata": {},
     "output_type": "execute_result"
    }
   ],
   "source": [
    "c.index(21)"
   ]
  },
  {
   "cell_type": "code",
   "execution_count": 82,
   "id": "532fe073-58ad-42d4-b7a6-b2dffc6b9402",
   "metadata": {},
   "outputs": [],
   "source": [
    "del c[3]"
   ]
  },
  {
   "cell_type": "code",
   "execution_count": 91,
   "id": "ec327d84-ca7b-41dd-ae93-e625c9294e11",
   "metadata": {},
   "outputs": [],
   "source": [
    "c.remove(59)"
   ]
  },
  {
   "cell_type": "code",
   "execution_count": 170,
   "id": "748af8bb-b03b-4956-85c6-329b6057631c",
   "metadata": {},
   "outputs": [
    {
     "name": "stdout",
     "output_type": "stream",
     "text": [
      "10,59,23,37,71,21\n"
     ]
    }
   ],
   "source": [
    "print(c)"
   ]
  },
  {
   "cell_type": "code",
   "execution_count": 171,
   "id": "5e0afad3-2bb9-40ed-aabe-539b2ced0b47",
   "metadata": {},
   "outputs": [
    {
     "data": {
      "text/plain": [
       "[21, 71, 37, 23, 59, 10]"
      ]
     },
     "execution_count": 171,
     "metadata": {},
     "output_type": "execute_result"
    }
   ],
   "source": [
    "c.reverse_sliceing()"
   ]
  },
  {
   "cell_type": "code",
   "execution_count": 372,
   "id": "b6b016c9-3756-44ff-a72e-3cab95a93d62",
   "metadata": {},
   "outputs": [
    {
     "name": "stdout",
     "output_type": "stream",
     "text": [
      "10,21,23,37,59,71\n"
     ]
    }
   ],
   "source": [
    "print(c)"
   ]
  },
  {
   "cell_type": "code",
   "execution_count": 371,
   "id": "c64d9e49-a26b-430d-b5e7-8aefcb8791b6",
   "metadata": {},
   "outputs": [],
   "source": [
    "c.sort()"
   ]
  },
  {
   "cell_type": "code",
   "execution_count": 210,
   "id": "2648f664-fa91-418d-8e9d-a21da88be5e1",
   "metadata": {},
   "outputs": [
    {
     "data": {
      "text/plain": [
       "[1, 2, 3, 4]"
      ]
     },
     "execution_count": 210,
     "metadata": {},
     "output_type": "execute_result"
    }
   ],
   "source": [
    "L=[1,2,3,4]\n",
    "L."
   ]
  },
  {
   "cell_type": "code",
   "execution_count": 230,
   "id": "f24bca63-5e63-46b4-b4fc-0c97acbaf7ad",
   "metadata": {},
   "outputs": [
    {
     "name": "stdout",
     "output_type": "stream",
     "text": [
      "10,59,23,37,71,21\n"
     ]
    }
   ],
   "source": [
    "print(c)"
   ]
  },
  {
   "cell_type": "code",
   "execution_count": 222,
   "id": "8ee0ceb7-fb0d-4907-80e3-f48b2f520a2d",
   "metadata": {},
   "outputs": [
    {
     "data": {
      "text/plain": [
       "2"
      ]
     },
     "execution_count": 222,
     "metadata": {},
     "output_type": "execute_result"
    }
   ],
   "source": [
    "c.count(10)"
   ]
  },
  {
   "cell_type": "code",
   "execution_count": 220,
   "id": "34094c72-1579-43a9-afba-c76c61a0be39",
   "metadata": {},
   "outputs": [],
   "source": [
    "c.append(10)"
   ]
  },
  {
   "cell_type": "code",
   "execution_count": 231,
   "id": "e455058e-f9dd-4145-87c9-7aed0a79a087",
   "metadata": {},
   "outputs": [],
   "source": [
    "obj=MeraList()\n",
    "obj.append(10)\n",
    "obj.append(20)\n",
    "obj.append(30)"
   ]
  },
  {
   "cell_type": "code",
   "execution_count": 232,
   "id": "b1b1dd38-965e-4ba7-ad7e-21fb5d60864c",
   "metadata": {},
   "outputs": [
    {
     "name": "stdout",
     "output_type": "stream",
     "text": [
      "10,20,30\n"
     ]
    }
   ],
   "source": [
    "print(obj)"
   ]
  },
  {
   "cell_type": "code",
   "execution_count": 236,
   "id": "d9fdd666-dd20-4202-afb3-e0af01409111",
   "metadata": {},
   "outputs": [],
   "source": [
    "c.extend(obj)"
   ]
  },
  {
   "cell_type": "code",
   "execution_count": 246,
   "id": "b5fe9a8d-298e-4e09-9160-f8cade94c0ec",
   "metadata": {},
   "outputs": [
    {
     "name": "stdout",
     "output_type": "stream",
     "text": [
      "10,59,23,37,71,21\n"
     ]
    }
   ],
   "source": [
    "print(c)"
   ]
  },
  {
   "cell_type": "code",
   "execution_count": 238,
   "id": "0b7a6081-3175-4e42-b3bd-9ff7d5337687",
   "metadata": {},
   "outputs": [
    {
     "data": {
      "text/plain": [
       "6"
      ]
     },
     "execution_count": 238,
     "metadata": {},
     "output_type": "execute_result"
    }
   ],
   "source": [
    "len(c)"
   ]
  },
  {
   "cell_type": "code",
   "execution_count": 392,
   "id": "967f357b-936a-4bf6-817f-920316f0a56c",
   "metadata": {},
   "outputs": [],
   "source": [
    "import random"
   ]
  },
  {
   "cell_type": "code",
   "execution_count": 377,
   "id": "fa9f9d95-8fbd-4a80-80d7-9babc4fd895c",
   "metadata": {},
   "outputs": [],
   "source": [
    "def secondLargest(arr):\n",
    "    arr=sorted(arr,reverse=True)\n",
    "    for i in range(1,len(arr)):\n",
    "        if arr[i]!=arr[0]:\n",
    "            print('second largest',arr[i])\n",
    "            return"
   ]
  },
  {
   "cell_type": "code",
   "execution_count": 378,
   "id": "1e6a49f9-fc7b-4420-b622-a32299c87899",
   "metadata": {},
   "outputs": [
    {
     "name": "stdout",
     "output_type": "stream",
     "text": [
      "second largest 59\n"
     ]
    }
   ],
   "source": [
    "secondLargest(L)"
   ]
  },
  {
   "cell_type": "code",
   "execution_count": 391,
   "id": "1ed65d9e-1e5c-44c6-9075-38a44020f900",
   "metadata": {},
   "outputs": [],
   "source": [
    "def pushZero(L):\n",
    "    count=0\n",
    "    for i in range(len(L)):\n",
    "        if L[i]!=0:\n",
    "            L[count]=L[i]\n",
    "            count+=1\n",
    "    while count<len(L):\n",
    "        L[count]=0\n",
    "        count+=1"
   ]
  },
  {
   "cell_type": "code",
   "execution_count": 396,
   "id": "fc84c35d-b708-4196-95bd-a70b7b15a84d",
   "metadata": {},
   "outputs": [
    {
     "name": "stdout",
     "output_type": "stream",
     "text": [
      "70\n",
      "65\n",
      "19\n",
      "93\n",
      "16\n",
      "55\n",
      "23\n",
      "94\n",
      "41\n",
      "6\n",
      "33\n",
      "78\n"
     ]
    }
   ],
   "source": [
    "for i in range(1,13):\n",
    "    print(random.randint(1,100))"
   ]
  },
  {
   "cell_type": "code",
   "execution_count": 430,
   "id": "3f22fe8d-0e77-4641-a6cb-e4e3da4cd43e",
   "metadata": {},
   "outputs": [],
   "source": [
    "X=[70,\n",
    "0,\n",
    "19,\n",
    "0,\n",
    "0,\n",
    "0,\n",
    "23,\n",
    "0,\n",
    "41,\n",
    "0,\n",
    "0,\n",
    "78]"
   ]
  },
  {
   "cell_type": "code",
   "execution_count": 401,
   "id": "4f7cfd94-d2c3-4448-bbd6-e69e13dbf01f",
   "metadata": {},
   "outputs": [],
   "source": [
    "pushZero(X)"
   ]
  },
  {
   "cell_type": "code",
   "execution_count": 429,
   "id": "a659d098-02f8-410e-9b38-454dc954adf2",
   "metadata": {},
   "outputs": [
    {
     "data": {
      "text/plain": [
       "[70, 0, 19, 0, 0, 0, 23, 0, 41, 0, 0, 78]"
      ]
     },
     "execution_count": 429,
     "metadata": {},
     "output_type": "execute_result"
    }
   ],
   "source": [
    "X"
   ]
  },
  {
   "cell_type": "code",
   "execution_count": 423,
   "id": "e56ee3b4-aba0-410f-a9b9-f7b8784b2be6",
   "metadata": {},
   "outputs": [],
   "source": [
    "def zeroArray(L):\n",
    "    j=0\n",
    "    for i in range(len(L)):\n",
    "        if L[i]!=0:\n",
    "            L[i],L[j]=L[j],L[i]\n",
    "            j+=1\n",
    "    return L"
   ]
  },
  {
   "cell_type": "code",
   "execution_count": 425,
   "id": "8f8f0c3a-6c86-46aa-90e8-9a51fd06a2c6",
   "metadata": {},
   "outputs": [
    {
     "data": {
      "text/plain": [
       "[70, 19, 23, 41, 78, 0, 0, 0, 0, 0, 0, 0]"
      ]
     },
     "execution_count": 425,
     "metadata": {},
     "output_type": "execute_result"
    }
   ],
   "source": [
    "zeroArray(X)"
   ]
  },
  {
   "cell_type": "code",
   "execution_count": 421,
   "id": "9e8ae4b0-a3aa-4f4c-ab65-c67391c47708",
   "metadata": {},
   "outputs": [
    {
     "data": {
      "text/plain": [
       "[70, 0, 19, 0, 0, 0, 23, 0, 41, 0, 0, 78]"
      ]
     },
     "execution_count": 421,
     "metadata": {},
     "output_type": "execute_result"
    }
   ],
   "source": [
    "X"
   ]
  },
  {
   "cell_type": "code",
   "execution_count": 427,
   "id": "f0e43a20-7e1b-40ab-8282-cd9e472f997e",
   "metadata": {},
   "outputs": [],
   "source": [
    "def evenOddSort(L):\n",
    "    even=[]\n",
    "    odds=[]\n",
    "    for i in range(len(L)):\n",
    "        if L[i]%2==0:\n",
    "            even.append(L[i])\n",
    "        else:\n",
    "            odds.append(L[i])\n",
    "    even.extend(odds)\n",
    "    return even"
   ]
  },
  {
   "cell_type": "code",
   "execution_count": 431,
   "id": "76c5cbbd-8f7f-4cf0-82a1-c6e2645ff673",
   "metadata": {},
   "outputs": [],
   "source": [
    "A=[70,65,19,93,16,55,23,94,41,6,33,78]"
   ]
  },
  {
   "cell_type": "code",
   "execution_count": 432,
   "id": "8d4f5c74-4f56-4949-88a5-93991765fafe",
   "metadata": {},
   "outputs": [
    {
     "data": {
      "text/plain": [
       "[70, 65, 19, 93, 16, 55, 23, 94, 41, 6, 33, 78]"
      ]
     },
     "execution_count": 432,
     "metadata": {},
     "output_type": "execute_result"
    }
   ],
   "source": [
    "A"
   ]
  },
  {
   "cell_type": "code",
   "execution_count": 433,
   "id": "a4672cf5-cb03-4763-84ff-89a7de70e335",
   "metadata": {},
   "outputs": [
    {
     "data": {
      "text/plain": [
       "[70, 16, 94, 6, 78, 65, 19, 93, 55, 23, 41, 33]"
      ]
     },
     "execution_count": 433,
     "metadata": {},
     "output_type": "execute_result"
    }
   ],
   "source": [
    "evenOddSort(A)"
   ]
  },
  {
   "cell_type": "code",
   "execution_count": 448,
   "id": "a0887b88-ce74-4fec-8220-f8776cbc40f1",
   "metadata": {},
   "outputs": [],
   "source": [
    "def rotate(L,index):\n",
    "    temp=[]\n",
    "    for i in range(index,len(L)):\n",
    "        temp.append(L[i])\t\n",
    "    return temp\n",
    "    for i in range(len(L)):\n",
    "        if i!=index:\n",
    "            temp.append(L[i])\n",
    "    return temp"
   ]
  },
  {
   "cell_type": "code",
   "execution_count": 449,
   "id": "4664192f-5481-435f-b4bb-a5b532e56add",
   "metadata": {},
   "outputs": [
    {
     "data": {
      "text/plain": [
       "[93, 16, 55, 23, 94, 41, 6, 33, 78]"
      ]
     },
     "execution_count": 449,
     "metadata": {},
     "output_type": "execute_result"
    }
   ],
   "source": [
    "rotate(A,3)"
   ]
  },
  {
   "cell_type": "markdown",
   "id": "44fd64e9-908f-4873-a859-267b8ac7ac74",
   "metadata": {},
   "source": [
    "# Wave Array\n",
    "* in this type of array generally the elements get sorted like 0>1<2>3<4>5<6...><n\n",
    "* 30>23<26>24<12>33\n",
    "## algorithm\n",
    "* sort array first\n",
    "* traverse till n-1 and increment +2\n",
    "* swapp [i] with [i+1]\n",
    "* "
   ]
  },
  {
   "cell_type": "code",
   "execution_count": 451,
   "id": "f0f6821c-a14e-47a1-ac1e-0d193a22eec6",
   "metadata": {},
   "outputs": [],
   "source": [
    "def waveArray(L):\n",
    "    L=sorted(L)\n",
    "    for i in range(0,len(L)-1,2):\n",
    "        L[i],L[i+1]=L[i+1],L[i]\n",
    "    return L"
   ]
  },
  {
   "cell_type": "code",
   "execution_count": 457,
   "id": "e304ebf2-f607-4682-afba-244a9d4edaef",
   "metadata": {},
   "outputs": [
    {
     "data": {
      "text/plain": [
       "[70, 65, 19, 93, 16, 55, 23, 94, 41, 6, 33, 78]"
      ]
     },
     "execution_count": 457,
     "metadata": {},
     "output_type": "execute_result"
    }
   ],
   "source": [
    "B=[70, 65, 19, 93, 16, 55, 23, 94, 41, 6, 33, 78]\n",
    "B"
   ]
  },
  {
   "cell_type": "code",
   "execution_count": 453,
   "id": "55d7a45b-9066-4bc1-83fa-894abd3b16ff",
   "metadata": {},
   "outputs": [
    {
     "data": {
      "text/plain": [
       "[16, 6, 23, 19, 41, 33, 65, 55, 78, 70, 94, 93]"
      ]
     },
     "execution_count": 453,
     "metadata": {},
     "output_type": "execute_result"
    }
   ],
   "source": [
    "waveArray(B)"
   ]
  },
  {
   "cell_type": "code",
   "execution_count": 455,
   "id": "d5c1c595-194b-4c49-876c-c96566bc5091",
   "metadata": {},
   "outputs": [],
   "source": [
    "def swap(arr,first,second):\n",
    "    temp=arr[first] #for exmaple first=10 and second=20 temp=10\n",
    "    arr[first]=L[second] #first become 20\n",
    "    arr[second]=temp #second=10"
   ]
  },
  {
   "cell_type": "code",
   "execution_count": 142,
   "id": "2111f163-f758-4f09-a484-9dbca1f541e7",
   "metadata": {},
   "outputs": [],
   "source": [
    "l1=[16, 6, 23, 19, 41, 33, 65, 55, 78,55, 70, 94, 93]"
   ]
  },
  {
   "cell_type": "code",
   "execution_count": 143,
   "id": "d830eff8-7b4f-4c82-9140-d6dcaf8db69c",
   "metadata": {},
   "outputs": [],
   "source": [
    "def countOccured(list,item):\n",
    "    count=0\n",
    "    for i in range(len(list)):\n",
    "        if list[i]==item:\n",
    "           count+=1\n",
    "    return count"
   ]
  },
  {
   "cell_type": "code",
   "execution_count": 144,
   "id": "08de4981-516b-46d1-b327-509de904490f",
   "metadata": {},
   "outputs": [
    {
     "data": {
      "text/plain": [
       "2"
      ]
     },
     "execution_count": 144,
     "metadata": {},
     "output_type": "execute_result"
    }
   ],
   "source": [
    "countOccured(l1,55)"
   ]
  },
  {
   "cell_type": "code",
   "execution_count": 146,
   "id": "797f9acd-84bd-4b20-b8be-9692058b45cb",
   "metadata": {},
   "outputs": [],
   "source": [
    "def evenOdd(L):\n",
    "    even=[]\n",
    "    odd=[]\n",
    "    for i in range(len(L)):\n",
    "        if L[i]%2==0:\n",
    "            even.append(L[i])\n",
    "        else:\n",
    "            odd.append(L[i])\n",
    "    odd.extend(even)\n",
    "    return odd"
   ]
  },
  {
   "cell_type": "code",
   "execution_count": 147,
   "id": "ef00f8d4-4796-49df-a60b-864d99f5e0fd",
   "metadata": {},
   "outputs": [
    {
     "data": {
      "text/plain": [
       "[23, 19, 41, 33, 65, 55, 55, 93, 16, 6, 78, 70, 94]"
      ]
     },
     "execution_count": 147,
     "metadata": {},
     "output_type": "execute_result"
    }
   ],
   "source": [
    "evenOdd(l1)"
   ]
  },
  {
   "cell_type": "code",
   "execution_count": 148,
   "id": "62fd5d09-142e-411f-9e83-a97fc6e21c66",
   "metadata": {},
   "outputs": [],
   "source": [
    "def zeroArray(list):\n",
    "    j=0\n",
    "    for i in range(len(list)):\n",
    "        if list[i]!=0:\n",
    "            list[i],list[j]=list[j],list[i]\n",
    "            j+=1\n",
    "    return list"
   ]
  },
  {
   "cell_type": "code",
   "execution_count": 149,
   "id": "6065db17-a332-464a-97d8-1266122da248",
   "metadata": {},
   "outputs": [],
   "source": [
    "l2=[23, 19,0, 41, 33, 65,0, 55, 55, 93,0,0, 16, 6, 78, 70, 94]"
   ]
  },
  {
   "cell_type": "code",
   "execution_count": 150,
   "id": "86a7dc29-f69a-4fda-8c31-0a7e801308a1",
   "metadata": {},
   "outputs": [
    {
     "data": {
      "text/plain": [
       "[23, 19, 41, 33, 65, 55, 55, 93, 16, 6, 78, 70, 94, 0, 0, 0, 0]"
      ]
     },
     "execution_count": 150,
     "metadata": {},
     "output_type": "execute_result"
    }
   ],
   "source": [
    "zeroArray(l2)"
   ]
  },
  {
   "cell_type": "code",
   "execution_count": 151,
   "id": "2c06078d-4549-4728-87ed-8a9d6c34d831",
   "metadata": {},
   "outputs": [],
   "source": [
    "def secondLargest(L):\n",
    "    L=sorted(L,reverse=True)\n",
    "    j=L[0]\n",
    "    for i in range(1,len(L)):\n",
    "        if L[i]!=j:\n",
    "            return L[i]"
   ]
  },
  {
   "cell_type": "code",
   "execution_count": 152,
   "id": "c3386efb-ad3c-4cb3-8f3f-ea9919eb2dbb",
   "metadata": {},
   "outputs": [
    {
     "data": {
      "text/plain": [
       "93"
      ]
     },
     "execution_count": 152,
     "metadata": {},
     "output_type": "execute_result"
    }
   ],
   "source": [
    "secondLargest(l2)"
   ]
  },
  {
   "cell_type": "code",
   "execution_count": 2,
   "id": "5bdc001c-4095-4888-ae83-acc6a858d466",
   "metadata": {},
   "outputs": [],
   "source": [
    "def waveArray(L):\n",
    "    L=sorted(L)\n",
    "    for i  in range(len(L),-2):\n",
    "        L[i],L[i+1]=L[i+1],L[i]\n",
    "    return L"
   ]
  },
  {
   "cell_type": "code",
   "execution_count": 3,
   "id": "cda33cb8-1527-4f51-ab05-fe1c78cffa6f",
   "metadata": {},
   "outputs": [
    {
     "data": {
      "text/plain": [
       "[6, 16, 19, 23, 33, 41, 55, 55, 65, 70, 78, 93, 94]"
      ]
     },
     "execution_count": 3,
     "metadata": {},
     "output_type": "execute_result"
    }
   ],
   "source": [
    "l3=[23, 19, 41, 33, 65, 55, 55, 93, 16, 6, 78, 70, 94]\n",
    "waveArray(l3)\n"
   ]
  },
  {
   "cell_type": "code",
   "execution_count": 10,
   "id": "da4702a0-6c27-48db-9790-38c3b3bea332",
   "metadata": {},
   "outputs": [],
   "source": [
    "def sort(L):\n",
    "    for i in range(len(L)):\n",
    "        for j in range(len(L)-i-1):\n",
    "            if L[j]>L[j+1]:\n",
    "                L[j],L[j+1]=L[j+1],L[j]\n",
    "        return L.reverse()    "
   ]
  },
  {
   "cell_type": "code",
   "execution_count": 13,
   "id": "3241362d-a61e-4af6-9230-1cb0aaab63a2",
   "metadata": {},
   "outputs": [
    {
     "data": {
      "text/plain": [
       "[94, 93, 6, 16, 19, 23, 33, 41, 55, 55, 65, 70, 78]"
      ]
     },
     "execution_count": 13,
     "metadata": {},
     "output_type": "execute_result"
    }
   ],
   "source": [
    "sort(l3)\n",
    "l3"
   ]
  },
  {
   "cell_type": "code",
   "execution_count": null,
   "id": "54474d17-3e50-4a75-84b5-e107d110a852",
   "metadata": {},
   "outputs": [],
   "source": []
  },
  {
   "cell_type": "code",
   "execution_count": null,
   "id": "e4194746-8f8a-4a97-b04c-a80f4250fcf7",
   "metadata": {},
   "outputs": [],
   "source": []
  }
 ],
 "metadata": {
  "kernelspec": {
   "display_name": "Python 3 (ipykernel)",
   "language": "python",
   "name": "python3"
  },
  "language_info": {
   "codemirror_mode": {
    "name": "ipython",
    "version": 3
   },
   "file_extension": ".py",
   "mimetype": "text/x-python",
   "name": "python",
   "nbconvert_exporter": "python",
   "pygments_lexer": "ipython3",
   "version": "3.11.7"
  }
 },
 "nbformat": 4,
 "nbformat_minor": 5
}
